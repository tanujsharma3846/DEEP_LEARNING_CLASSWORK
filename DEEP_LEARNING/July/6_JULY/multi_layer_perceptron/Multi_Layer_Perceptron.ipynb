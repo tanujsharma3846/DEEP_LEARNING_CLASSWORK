{
  "nbformat": 4,
  "nbformat_minor": 0,
  "metadata": {
    "colab": {
      "provenance": []
    },
    "kernelspec": {
      "name": "python3",
      "display_name": "Python 3"
    },
    "language_info": {
      "name": "python"
    }
  },
  "cells": [
    {
      "cell_type": "code",
      "execution_count": 1,
      "metadata": {
        "id": "IEYlF8OWVimn"
      },
      "outputs": [],
      "source": [
        "import numpy as np\n",
        "import tensorflow as tf\n",
        "from tensorflow import keras"
      ]
    },
    {
      "cell_type": "code",
      "source": [
        "# load the dataset\n",
        "(x_train,y_train),(x_test,y_test)=keras.datasets.mnist.load_data()"
      ],
      "metadata": {
        "colab": {
          "base_uri": "https://localhost:8080/"
        },
        "id": "F4m9ggwjVrrp",
        "outputId": "98f90f02-1753-4648-dbd9-1760ed346e08"
      },
      "execution_count": 2,
      "outputs": [
        {
          "output_type": "stream",
          "name": "stdout",
          "text": [
            "Downloading data from https://storage.googleapis.com/tensorflow/tf-keras-datasets/mnist.npz\n",
            "11490434/11490434 [==============================] - 1s 0us/step\n"
          ]
        }
      ]
    },
    {
      "cell_type": "code",
      "source": [
        "# preprocess the data\n",
        "# preprocessing the data: the pixel values of the images are\n",
        "# scaled between 0 and 1 to normalize the data\n",
        "x_train=x_train/255.0\n",
        "x_test=x_test/255.0"
      ],
      "metadata": {
        "id": "IR0BtaB5WUWY"
      },
      "execution_count": 3,
      "outputs": []
    },
    {
      "cell_type": "code",
      "source": [
        "# build the mlp model\n",
        "# building the mlp model : the mlp model is constructed using the sequential API if keras.\n",
        "# it consists if a flatten layer to convert the 2D images into 1D array, a fully connected dense layer with ReLU activation,\n",
        "# and an output dense layer with softmax activation for mutliclass classification\n",
        "model=keras.Sequential([\n",
        "    keras.layers.Flatten(input_shape=(28,28)),\n",
        "    keras.layers.Dense(128,activation='relu'),\n",
        "    keras.layers.Dense(10,activation='softmax')\n",
        "])"
      ],
      "metadata": {
        "id": "WAQKk2obWkBm"
      },
      "execution_count": 7,
      "outputs": []
    },
    {
      "cell_type": "code",
      "source": [
        "# compile the model\n",
        "model.compile(optimizer='adam',loss='sparse_categorical_crossentropy',metrics=['accuracy'])"
      ],
      "metadata": {
        "id": "AhIHTxIoYdHB"
      },
      "execution_count": 11,
      "outputs": []
    },
    {
      "cell_type": "code",
      "source": [
        "# train the model\n",
        "model.fit(x_train, y_train, epochs=10, batch_size=32, validation_data=(x_test,y_test))\n"
      ],
      "metadata": {
        "colab": {
          "base_uri": "https://localhost:8080/"
        },
        "id": "ETvnbvB6ZaTW",
        "outputId": "cbb8c339-22f2-4e7a-f643-e5c2517429ec"
      },
      "execution_count": 13,
      "outputs": [
        {
          "output_type": "stream",
          "name": "stdout",
          "text": [
            "Epoch 1/10\n",
            "1875/1875 [==============================] - 9s 5ms/step - loss: 0.0142 - accuracy: 0.9956 - val_loss: 0.0790 - val_accuracy: 0.9797\n",
            "Epoch 2/10\n",
            "1875/1875 [==============================] - 8s 4ms/step - loss: 0.0106 - accuracy: 0.9969 - val_loss: 0.0810 - val_accuracy: 0.9782\n",
            "Epoch 3/10\n",
            "1875/1875 [==============================] - 8s 4ms/step - loss: 0.0102 - accuracy: 0.9969 - val_loss: 0.0806 - val_accuracy: 0.9796\n",
            "Epoch 4/10\n",
            "1875/1875 [==============================] - 8s 4ms/step - loss: 0.0093 - accuracy: 0.9971 - val_loss: 0.0857 - val_accuracy: 0.9807\n",
            "Epoch 5/10\n",
            "1875/1875 [==============================] - 8s 4ms/step - loss: 0.0088 - accuracy: 0.9974 - val_loss: 0.1012 - val_accuracy: 0.9765\n",
            "Epoch 6/10\n",
            "1875/1875 [==============================] - 9s 5ms/step - loss: 0.0065 - accuracy: 0.9982 - val_loss: 0.0960 - val_accuracy: 0.9786\n",
            "Epoch 7/10\n",
            "1875/1875 [==============================] - 7s 4ms/step - loss: 0.0064 - accuracy: 0.9981 - val_loss: 0.1137 - val_accuracy: 0.9747\n",
            "Epoch 8/10\n",
            "1875/1875 [==============================] - 8s 5ms/step - loss: 0.0052 - accuracy: 0.9984 - val_loss: 0.1084 - val_accuracy: 0.9751\n",
            "Epoch 9/10\n",
            "1875/1875 [==============================] - 8s 4ms/step - loss: 0.0066 - accuracy: 0.9980 - val_loss: 0.0916 - val_accuracy: 0.9801\n",
            "Epoch 10/10\n",
            "1875/1875 [==============================] - 7s 4ms/step - loss: 0.0049 - accuracy: 0.9984 - val_loss: 0.1031 - val_accuracy: 0.9772\n"
          ]
        },
        {
          "output_type": "execute_result",
          "data": {
            "text/plain": [
              "<keras.callbacks.History at 0x7fc2e12fcfd0>"
            ]
          },
          "metadata": {},
          "execution_count": 13
        }
      ]
    },
    {
      "cell_type": "code",
      "source": [
        "# evaluate the model\n",
        "test_loss, test_accuracy=model.evaluate(x_test,y_test)\n",
        "print(\"test loss: \", test_loss);\n",
        "print(\"test accuracy \",test_accuracy)"
      ],
      "metadata": {
        "colab": {
          "base_uri": "https://localhost:8080/"
        },
        "id": "AenfLEi-Z_oP",
        "outputId": "8e1e48e0-0b7f-4466-c1ac-142bd9ff8c19"
      },
      "execution_count": 14,
      "outputs": [
        {
          "output_type": "stream",
          "name": "stdout",
          "text": [
            "313/313 [==============================] - 1s 2ms/step - loss: 0.1031 - accuracy: 0.9772\n",
            "test loss:  0.10311457514762878\n",
            "test accuracy  0.9771999716758728\n"
          ]
        }
      ]
    },
    {
      "cell_type": "code",
      "source": [
        "# make predictions\n",
        "predictions=model.predict(x_test)\n",
        "predicted_classes=np.argmax(predictions,axis=1)"
      ],
      "metadata": {
        "colab": {
          "base_uri": "https://localhost:8080/"
        },
        "id": "KKZxxJafbsUd",
        "outputId": "c9fd6484-9f33-4128-e5ed-e77277771ad5"
      },
      "execution_count": 16,
      "outputs": [
        {
          "output_type": "stream",
          "name": "stdout",
          "text": [
            "313/313 [==============================] - 1s 2ms/step\n"
          ]
        }
      ]
    },
    {
      "cell_type": "code",
      "source": [
        "#  display a few predictons\n",
        "for i in range(5):\n",
        "  print(\"predicted: \",predicted_classes[i])\n",
        "  print(\"actual: \",y_test[i])\n",
        "  print()"
      ],
      "metadata": {
        "colab": {
          "base_uri": "https://localhost:8080/"
        },
        "id": "y25pk-v5b3Ud",
        "outputId": "e40e1104-2249-4996-ad9f-14e9cde61ee2"
      },
      "execution_count": 17,
      "outputs": [
        {
          "output_type": "stream",
          "name": "stdout",
          "text": [
            "predicted:  7\n",
            "actual:  7\n",
            "\n",
            "predicted:  2\n",
            "actual:  2\n",
            "\n",
            "predicted:  1\n",
            "actual:  1\n",
            "\n",
            "predicted:  0\n",
            "actual:  0\n",
            "\n",
            "predicted:  4\n",
            "actual:  4\n",
            "\n"
          ]
        }
      ]
    },
    {
      "cell_type": "code",
      "source": [],
      "metadata": {
        "id": "js2wFfYDcL0F"
      },
      "execution_count": null,
      "outputs": []
    }
  ]
}