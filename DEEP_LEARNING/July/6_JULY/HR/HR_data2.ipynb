{
  "nbformat": 4,
  "nbformat_minor": 0,
  "metadata": {
    "colab": {
      "provenance": []
    },
    "kernelspec": {
      "name": "python3",
      "display_name": "Python 3"
    },
    "language_info": {
      "name": "python"
    }
  },
  "cells": [
    {
      "cell_type": "code",
      "execution_count": 3,
      "metadata": {
        "colab": {
          "base_uri": "https://localhost:8080/"
        },
        "id": "iwqJ66shPnzT",
        "outputId": "4649afeb-791a-4c55-b9ed-c11846a1268d"
      },
      "outputs": [
        {
          "output_type": "stream",
          "name": "stdout",
          "text": [
            "Epoch 1/10\n",
            "375/375 [==============================] - 2s 2ms/step - loss: 0.3411 - accuracy: 0.8561\n",
            "Epoch 2/10\n",
            "375/375 [==============================] - 1s 2ms/step - loss: 0.1879 - accuracy: 0.9412\n",
            "Epoch 3/10\n",
            "375/375 [==============================] - 1s 2ms/step - loss: 0.1658 - accuracy: 0.9490\n",
            "Epoch 4/10\n",
            "375/375 [==============================] - 1s 2ms/step - loss: 0.1569 - accuracy: 0.9527\n",
            "Epoch 5/10\n",
            "375/375 [==============================] - 1s 2ms/step - loss: 0.1511 - accuracy: 0.9541\n",
            "Epoch 6/10\n",
            "375/375 [==============================] - 1s 2ms/step - loss: 0.1476 - accuracy: 0.9560\n",
            "Epoch 7/10\n",
            "375/375 [==============================] - 1s 2ms/step - loss: 0.1439 - accuracy: 0.9566\n",
            "Epoch 8/10\n",
            "375/375 [==============================] - 1s 2ms/step - loss: 0.1416 - accuracy: 0.9572\n",
            "Epoch 9/10\n",
            "375/375 [==============================] - 1s 2ms/step - loss: 0.1391 - accuracy: 0.9569\n",
            "Epoch 10/10\n",
            "375/375 [==============================] - 1s 2ms/step - loss: 0.1361 - accuracy: 0.9583\n",
            "94/94 [==============================] - 0s 1ms/step - loss: 0.1584 - accuracy: 0.9540\n",
            "Accuracy: 0.9539999961853027\n"
          ]
        }
      ],
      "source": [
        "import numpy as np\n",
        "import pandas as pd\n",
        "import tensorflow as tf\n",
        "from sklearn.model_selection import train_test_split\n",
        "from sklearn.preprocessing import StandardScaler\n",
        "from sklearn.metrics import accuracy_score\n",
        "\n",
        "# Load the dataset\n",
        "data =pd.read_csv(r'/content/drive/MyDrive/HR_comma_sep.csv')\n",
        "\n",
        "# Split the dataset into features and target variable\n",
        "X = data.drop('left', axis=1)  # Replace 'target_variable' with the actual column name\n",
        "y = data['left']\n",
        "\n",
        "# Convert categorical variables to one-hot encoding\n",
        "X = pd.get_dummies(X)\n",
        "\n",
        "# Split the data into training and testing sets\n",
        "X_train, X_test, y_train, y_test = train_test_split(X, y, test_size=0.2, random_state=42)\n",
        "\n",
        "# Feature scaling\n",
        "scaler = StandardScaler()\n",
        "X_train = scaler.fit_transform(X_train)\n",
        "X_test = scaler.transform(X_test)\n",
        "\n",
        "# Convert target variable to one-hot encoding\n",
        "num_classes = len(np.unique(y_train))\n",
        "y_train = tf.keras.utils.to_categorical(y_train, num_classes)\n",
        "y_test = tf.keras.utils.to_categorical(y_test, num_classes)\n",
        "\n",
        "# Define the multilayer perceptron model\n",
        "model = tf.keras.models.Sequential([\n",
        "    tf.keras.layers.Dense(100, activation='relu', input_shape=(X_train.shape[1],)),\n",
        "    tf.keras.layers.Dense(num_classes, activation='softmax')\n",
        "])\n",
        "\n",
        "# Compile the model\n",
        "model.compile(optimizer='adam', loss='categorical_crossentropy', metrics=['accuracy'])\n",
        "\n",
        "# Train the model\n",
        "model.fit(X_train, y_train, epochs=10, batch_size=32, verbose=1)\n",
        "\n",
        "# Evaluate the model\n",
        "loss, accuracy = model.evaluate(X_test, y_test)\n",
        "print(\"Accuracy:\", accuracy)"
      ]
    },
    {
      "cell_type": "code",
      "source": [
        "import numpy as np\n",
        "import pandas as pd\n",
        "import tensorflow as tf\n",
        "from sklearn.model_selection import train_test_split\n",
        "from sklearn.preprocessing import StandardScaler\n",
        "from sklearn.metrics import accuracy_score\n",
        "\n",
        "# Load the dataset\n",
        "data =pd.read_csv(r'/content/drive/MyDrive/HR_comma_sep.csv')\n",
        "\n",
        "# Split the dataset into features and target variable\n",
        "X = data.drop('left', axis=1)  # Replace 'target_variable' with the actual column name\n",
        "y = data['left']\n",
        "\n",
        "# Convert categorical variables to one-hot encoding\n",
        "X = pd.get_dummies(X)\n",
        "\n",
        "# Split the data into training and testing sets\n",
        "X_train, X_test, y_train, y_test = train_test_split(X, y, test_size=0.2, random_state=42)\n",
        "\n",
        "# Feature scaling\n",
        "scaler = StandardScaler()\n",
        "X_train = scaler.fit_transform(X_train)\n",
        "X_test = scaler.transform(X_test)\n",
        "\n",
        "# Convert target variable to one-hot encoding\n",
        "num_classes = len(np.unique(y_train))\n",
        "y_train = tf.keras.utils.to_categorical(y_train, num_classes)\n",
        "y_test = tf.keras.utils.to_categorical(y_test, num_classes)\n",
        "\n",
        "# Define the multilayer perceptron model\n",
        "model = tf.keras.models.Sequential([\n",
        "    tf.keras.layers.Dense(100, activation='relu', input_shape=(X_train.shape[1],)),\n",
        "    tf.keras.layers.Dense(num_classes, activation='softmax')\n",
        "])\n",
        "\n",
        "# Compile the model\n",
        "model.compile(optimizer='adam', loss='categorical_crossentropy', metrics=['accuracy'])\n",
        "\n",
        "# Train the model\n",
        "model.fit(X_train, y_train, epochs=10, batch_size=32, verbose=1, validation_data=(X_test,y_test))\n",
        "\n",
        "# Evaluate the model\n",
        "loss, accuracy = model.evaluate(X_test, y_test)\n",
        "print(\"Test Loss:\", loss)\n",
        "print(\"Accuracy:\", accuracy)"
      ],
      "metadata": {
        "colab": {
          "base_uri": "https://localhost:8080/"
        },
        "id": "V-obvHyfPqTy",
        "outputId": "0ae49d7a-e9cb-454e-9b9a-f8d2d7060916"
      },
      "execution_count": 6,
      "outputs": [
        {
          "output_type": "stream",
          "name": "stdout",
          "text": [
            "Epoch 1/10\n",
            "375/375 [==============================] - 2s 3ms/step - loss: 0.3235 - accuracy: 0.8633 - val_loss: 0.2176 - val_accuracy: 0.9327\n",
            "Epoch 2/10\n",
            "375/375 [==============================] - 1s 3ms/step - loss: 0.1821 - accuracy: 0.9429 - val_loss: 0.1867 - val_accuracy: 0.9463\n",
            "Epoch 3/10\n",
            "375/375 [==============================] - 1s 3ms/step - loss: 0.1640 - accuracy: 0.9490 - val_loss: 0.1797 - val_accuracy: 0.9473\n",
            "Epoch 4/10\n",
            "375/375 [==============================] - 1s 3ms/step - loss: 0.1560 - accuracy: 0.9524 - val_loss: 0.1729 - val_accuracy: 0.9523\n",
            "Epoch 5/10\n",
            "375/375 [==============================] - 1s 2ms/step - loss: 0.1514 - accuracy: 0.9544 - val_loss: 0.1691 - val_accuracy: 0.9530\n",
            "Epoch 6/10\n",
            "375/375 [==============================] - 1s 2ms/step - loss: 0.1468 - accuracy: 0.9560 - val_loss: 0.1668 - val_accuracy: 0.9543\n",
            "Epoch 7/10\n",
            "375/375 [==============================] - 1s 2ms/step - loss: 0.1434 - accuracy: 0.9576 - val_loss: 0.1640 - val_accuracy: 0.9513\n",
            "Epoch 8/10\n",
            "375/375 [==============================] - 1s 3ms/step - loss: 0.1402 - accuracy: 0.9567 - val_loss: 0.1599 - val_accuracy: 0.9540\n",
            "Epoch 9/10\n",
            "375/375 [==============================] - 1s 3ms/step - loss: 0.1376 - accuracy: 0.9585 - val_loss: 0.1598 - val_accuracy: 0.9540\n",
            "Epoch 10/10\n",
            "375/375 [==============================] - 1s 3ms/step - loss: 0.1354 - accuracy: 0.9590 - val_loss: 0.1588 - val_accuracy: 0.9527\n",
            "94/94 [==============================] - 0s 2ms/step - loss: 0.1588 - accuracy: 0.9527\n",
            "Test Loss: 0.1588171124458313\n",
            "Accuracy: 0.9526666402816772\n"
          ]
        }
      ]
    },
    {
      "cell_type": "markdown",
      "source": [
        "# New Section"
      ],
      "metadata": {
        "id": "_PZIRY5uQmYY"
      }
    }
  ]
}