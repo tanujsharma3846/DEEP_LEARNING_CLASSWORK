{
  "nbformat": 4,
  "nbformat_minor": 0,
  "metadata": {
    "colab": {
      "provenance": []
    },
    "kernelspec": {
      "name": "python3",
      "display_name": "Python 3"
    },
    "language_info": {
      "name": "python"
    }
  },
  "cells": [
    {
      "cell_type": "code",
      "execution_count": 1,
      "metadata": {
        "id": "dOtFettAFs_k"
      },
      "outputs": [],
      "source": [
        "import pandas as pd\n",
        "import numpy as np"
      ]
    },
    {
      "cell_type": "code",
      "source": [
        "# AND GATE"
      ],
      "metadata": {
        "id": "Hj916CB7M88r"
      },
      "execution_count": 10,
      "outputs": []
    },
    {
      "cell_type": "markdown",
      "source": [
        "PERCEPTRON MODEL FOR AND GATE"
      ],
      "metadata": {
        "id": "cyPrEQAuNBA2"
      }
    },
    {
      "cell_type": "code",
      "source": [
        "def unitStep(v):\n",
        "  if v >= 0:\n",
        "    return 1\n",
        "  else:\n",
        "    return 0\n",
        "\n",
        "# design perceptron model\n",
        "def perceptronModel(x,w,b):\n",
        "  v=np.dot(w,x)+b\n",
        "  y=unitStep(v)\n",
        "  return y\n",
        "\n",
        "# AND logic function\n",
        "# w1 =1, w2=1, b=-1.5\n",
        "def AND_logicFunction(x):\n",
        "  w=np.array([1,1])\n",
        "  b=-1.5\n",
        "  return perceptronModel(x,w,b)\n",
        "\n",
        "# testing and perceptron model\n",
        "test1=np.array([0,1])\n",
        "test2=np.array([1,1])\n",
        "test3=np.array([0,0])\n",
        "test4=np.array([1,0])\n",
        "\n",
        "print(\"AND({},{}) ={}\".format(0,1, AND_logicFunction(test1)))\n",
        "print(\"AND({},{}) ={}\".format(1,1, AND_logicFunction(test2)))\n",
        "print(\"AND({},{}) ={}\".format(0,0, AND_logicFunction(test3)))\n",
        "print(\"AND({},{}) ={}\".format(1,0, AND_logicFunction(test4)))"
      ],
      "metadata": {
        "colab": {
          "base_uri": "https://localhost:8080/"
        },
        "id": "r7-KhVIoFyoW",
        "outputId": "3bcb5484-4179-4bd6-fb63-8d04543b9e06"
      },
      "execution_count": 6,
      "outputs": [
        {
          "output_type": "stream",
          "name": "stdout",
          "text": [
            "AND(0,1) =0\n",
            "AND(1,1) =1\n",
            "AND(0,0) =0\n",
            "AND(1,0) =0\n"
          ]
        }
      ]
    },
    {
      "cell_type": "code",
      "source": [
        "# OR GATE"
      ],
      "metadata": {
        "id": "ELIfG0_HKUj0"
      },
      "execution_count": 7,
      "outputs": []
    },
    {
      "cell_type": "markdown",
      "source": [
        "PERCEPTRON MODEL FOR OR GATE"
      ],
      "metadata": {
        "id": "pMQqyt3TNJHr"
      }
    },
    {
      "cell_type": "code",
      "source": [
        "def unitStep(v):\n",
        "  if v >= 0:\n",
        "    return 1\n",
        "  else:\n",
        "    return 0\n",
        "\n",
        "# design perceptron model\n",
        "def perceptronModel(x,w,b):\n",
        "  v=np.dot(w,x)+b\n",
        "  y=unitStep(v)\n",
        "  return y\n",
        "\n",
        "# OR logic function\n",
        "# w1 =1, w2=1, b=-1.5\n",
        "def OR_logicFunction(x):\n",
        "  w=np.array([1,1])\n",
        "  b=-1\n",
        "  return perceptronModel(x,w,b)\n",
        "\n",
        "# testing and perceptron model\n",
        "test1=np.array([0,1])\n",
        "test2=np.array([1,1])\n",
        "test3=np.array([0,0])\n",
        "test4=np.array([1,0])\n",
        "\n",
        "print(\"OR({},{}) ={}\".format(0,1, OR_logicFunction(test1)))\n",
        "print(\"OR({},{}) ={}\".format(1,1, OR_logicFunction(test2)))\n",
        "print(\"OR({},{}) ={}\".format(0,0, OR_logicFunction(test3)))\n",
        "print(\"OR({},{}) ={}\".format(1,0, OR_logicFunction(test4)))"
      ],
      "metadata": {
        "colab": {
          "base_uri": "https://localhost:8080/"
        },
        "id": "Vx7RoPX6L9ax",
        "outputId": "42252276-aafd-4f72-ea53-800b06b3ae9e"
      },
      "execution_count": 9,
      "outputs": [
        {
          "output_type": "stream",
          "name": "stdout",
          "text": [
            "OR(0,1) =1\n",
            "OR(1,1) =1\n",
            "OR(0,0) =0\n",
            "OR(1,0) =1\n"
          ]
        }
      ]
    },
    {
      "cell_type": "code",
      "source": [],
      "metadata": {
        "id": "tQE5p9z8MQOZ"
      },
      "execution_count": null,
      "outputs": []
    },
    {
      "cell_type": "markdown",
      "source": [
        "same code for and gate and or gate perceptron model , only change bias in the code, for\n",
        "OR gate the bias =-1, for\n",
        "AND gate the bias =-1.5"
      ],
      "metadata": {
        "id": "zFEiipbjNPK0"
      }
    },
    {
      "cell_type": "code",
      "source": [],
      "metadata": {
        "id": "I1-lXLwLNfXh"
      },
      "execution_count": null,
      "outputs": []
    }
  ]
}