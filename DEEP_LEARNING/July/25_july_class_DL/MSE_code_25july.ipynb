{
  "nbformat": 4,
  "nbformat_minor": 0,
  "metadata": {
    "colab": {
      "provenance": []
    },
    "kernelspec": {
      "name": "python3",
      "display_name": "Python 3"
    },
    "language_info": {
      "name": "python"
    }
  },
  "cells": [
    {
      "cell_type": "code",
      "execution_count": 1,
      "metadata": {
        "id": "zBbMqKhnT5q_"
      },
      "outputs": [],
      "source": [
        "# mean sqaured error"
      ]
    },
    {
      "cell_type": "code",
      "source": [
        "def mean_squared_error(y_true,y_pred):\n",
        "  n=len(y_true)\n",
        "  sqaured_errors=[(y_true[i] - y_pred[i])**2 for i in range(n)]\n",
        "  mse=sum(sqaured_errors)/n\n",
        "  return mse"
      ],
      "metadata": {
        "id": "iQMUa-BQT-AN"
      },
      "execution_count": 4,
      "outputs": []
    },
    {
      "cell_type": "code",
      "source": [
        "true_labels=[1,2,3,4]\n",
        "predicted_values=[1.2,1.8,3.2,4.5]\n",
        "mse_value=mean_squared_error(true_labels,predicted_values)\n",
        "print(\"mean sqaured error : \",mse_value)"
      ],
      "metadata": {
        "colab": {
          "base_uri": "https://localhost:8080/"
        },
        "id": "KRLq7W7rUu7d",
        "outputId": "e4438de5-3f26-4edc-b675-3b32d12747a5"
      },
      "execution_count": 5,
      "outputs": [
        {
          "output_type": "stream",
          "name": "stdout",
          "text": [
            "mean sqaured error :  0.0925\n"
          ]
        }
      ]
    },
    {
      "cell_type": "code",
      "source": [],
      "metadata": {
        "id": "MF-tMsX_VPqB"
      },
      "execution_count": null,
      "outputs": []
    }
  ]
}