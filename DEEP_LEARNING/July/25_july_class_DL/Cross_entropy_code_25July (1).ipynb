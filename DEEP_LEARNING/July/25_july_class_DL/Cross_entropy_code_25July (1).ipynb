{
  "nbformat": 4,
  "nbformat_minor": 0,
  "metadata": {
    "colab": {
      "provenance": []
    },
    "kernelspec": {
      "name": "python3",
      "display_name": "Python 3"
    },
    "language_info": {
      "name": "python"
    }
  },
  "cells": [
    {
      "cell_type": "code",
      "execution_count": 12,
      "metadata": {
        "id": "vg7_xPUbQKzn"
      },
      "outputs": [],
      "source": [
        "import math"
      ]
    },
    {
      "cell_type": "code",
      "source": [
        "def cross_entropy_loss(y_true,y_pred):\n",
        "  n=len(y_true)\n",
        "  log_loss= -sum(y_true[i] * math.log(y_pred[i]) + (1 - y_true[i]) * math.log(1-y_pred[i]) for i in range(n))/n\n",
        "  return log_loss"
      ],
      "metadata": {
        "id": "-rMkdJ4VQMrU"
      },
      "execution_count": 13,
      "outputs": []
    },
    {
      "cell_type": "code",
      "source": [
        "true_labels=[1,0,1,0]\n",
        "predicted_probs=[0.8,0.3,0.6,0.9]\n",
        "log_loss_value=cross_entropy_loss(true_labels,predicted_probs)\n",
        "print(\"cross-entrpy loss: \",log_loss_value)"
      ],
      "metadata": {
        "colab": {
          "base_uri": "https://localhost:8080/"
        },
        "id": "z3_d5LFTRQ97",
        "outputId": "f7e22a01-2fe7-4245-8903-741c006ffc81"
      },
      "execution_count": 14,
      "outputs": [
        {
          "output_type": "stream",
          "name": "stdout",
          "text": [
            "cross-entrpy loss:  0.8483073030032446\n"
          ]
        }
      ]
    },
    {
      "cell_type": "code",
      "source": [],
      "metadata": {
        "id": "bovAZPzsSdED"
      },
      "execution_count": 14,
      "outputs": []
    }
  ]
}