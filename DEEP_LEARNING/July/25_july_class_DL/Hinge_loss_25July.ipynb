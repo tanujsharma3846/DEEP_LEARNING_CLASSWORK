{
  "nbformat": 4,
  "nbformat_minor": 0,
  "metadata": {
    "colab": {
      "provenance": []
    },
    "kernelspec": {
      "name": "python3",
      "display_name": "Python 3"
    },
    "language_info": {
      "name": "python"
    }
  },
  "cells": [
    {
      "cell_type": "code",
      "execution_count": 4,
      "metadata": {
        "id": "zoKbkjEdXsNt"
      },
      "outputs": [],
      "source": [
        "# hinge loss"
      ]
    },
    {
      "cell_type": "code",
      "source": [
        "def hinge(y_true,y_pred):\n",
        "  n=len(y_true)\n",
        "  loss=sum(max(0,1-y_true[i]*y_pred[i]) for i in range(n))/n\n",
        "  return loss"
      ],
      "metadata": {
        "id": "wAG1U1kZXuFN"
      },
      "execution_count": 5,
      "outputs": []
    },
    {
      "cell_type": "code",
      "source": [
        "y_true=[1,-1,1,-1]\n",
        "y_pred=[-1,2,0.5,2.3,-0.8]\n",
        "print(hinge(y_true,y_pred))"
      ],
      "metadata": {
        "colab": {
          "base_uri": "https://localhost:8080/"
        },
        "id": "LV3vzasHZ3Ve",
        "outputId": "ad1d73a8-bc22-46e6-8378-3e71786242e0"
      },
      "execution_count": 6,
      "outputs": [
        {
          "output_type": "stream",
          "name": "stdout",
          "text": [
            "2.2\n"
          ]
        }
      ]
    },
    {
      "cell_type": "code",
      "source": [],
      "metadata": {
        "id": "eef_WVCfaHmh"
      },
      "execution_count": 6,
      "outputs": []
    }
  ]
}