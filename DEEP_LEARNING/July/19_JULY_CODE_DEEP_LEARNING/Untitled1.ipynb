{
  "nbformat": 4,
  "nbformat_minor": 0,
  "metadata": {
    "colab": {
      "provenance": []
    },
    "kernelspec": {
      "name": "python3",
      "display_name": "Python 3"
    },
    "language_info": {
      "name": "python"
    }
  },
  "cells": [
    {
      "cell_type": "code",
      "execution_count": 1,
      "metadata": {
        "id": "9ZiLyyCkVRzZ"
      },
      "outputs": [],
      "source": [
        "import tensorflow as tf"
      ]
    },
    {
      "cell_type": "code",
      "source": [
        "tf.__version__"
      ],
      "metadata": {
        "colab": {
          "base_uri": "https://localhost:8080/",
          "height": 36
        },
        "id": "VRqHP8SWVgg3",
        "outputId": "ce0a4bf1-ac86-4d53-c1e8-197cebd8abf7"
      },
      "execution_count": 2,
      "outputs": [
        {
          "output_type": "execute_result",
          "data": {
            "text/plain": [
              "'2.12.0'"
            ],
            "application/vnd.google.colaboratory.intrinsic+json": {
              "type": "string"
            }
          },
          "metadata": {},
          "execution_count": 2
        }
      ]
    },
    {
      "cell_type": "code",
      "source": [
        "tf.keras.__version__"
      ],
      "metadata": {
        "colab": {
          "base_uri": "https://localhost:8080/",
          "height": 36
        },
        "id": "Aip1JEd4VkUE",
        "outputId": "de60467c-26d3-438a-d795-f0b41958e4c4"
      },
      "execution_count": 3,
      "outputs": [
        {
          "output_type": "execute_result",
          "data": {
            "text/plain": [
              "'2.12.0'"
            ],
            "application/vnd.google.colaboratory.intrinsic+json": {
              "type": "string"
            }
          },
          "metadata": {},
          "execution_count": 3
        }
      ]
    },
    {
      "cell_type": "code",
      "source": [
        "tf.config.list_physical_devices(\"GPU\")"
      ],
      "metadata": {
        "colab": {
          "base_uri": "https://localhost:8080/"
        },
        "id": "JBNgUJ4IVoCl",
        "outputId": "9b7429c5-1c72-45e9-86bb-4eeb8b116b46"
      },
      "execution_count": 4,
      "outputs": [
        {
          "output_type": "execute_result",
          "data": {
            "text/plain": [
              "[]"
            ]
          },
          "metadata": {},
          "execution_count": 4
        }
      ]
    },
    {
      "cell_type": "code",
      "source": [
        "import numpy as np\n",
        "import matplotlib.pyplot as plt\n",
        "import pandas as pd\n",
        "import os"
      ],
      "metadata": {
        "id": "Ih-RMNxMVvb1"
      },
      "execution_count": 5,
      "outputs": []
    },
    {
      "cell_type": "code",
      "source": [
        "mnist=tf.keras.datasets.mnist"
      ],
      "metadata": {
        "id": "el7RMzNRV5_a"
      },
      "execution_count": 6,
      "outputs": []
    },
    {
      "cell_type": "code",
      "source": [
        "(X_train_full,y_train_full),(X_test,y_test)=mnist.load_data()"
      ],
      "metadata": {
        "colab": {
          "base_uri": "https://localhost:8080/"
        },
        "id": "8vymgSxFV_6H",
        "outputId": "2626a846-331f-4119-b72d-cd825d97fce3"
      },
      "execution_count": 7,
      "outputs": [
        {
          "output_type": "stream",
          "name": "stdout",
          "text": [
            "Downloading data from https://storage.googleapis.com/tensorflow/tf-keras-datasets/mnist.npz\n",
            "11490434/11490434 [==============================] - 1s 0us/step\n"
          ]
        }
      ]
    },
    {
      "cell_type": "code",
      "source": [
        "X_train_full.shape,X_train_full.dtype"
      ],
      "metadata": {
        "colab": {
          "base_uri": "https://localhost:8080/"
        },
        "id": "mLdKh0QNWOxZ",
        "outputId": "be2b3809-c7f5-4d5a-ce14-5a00b82783be"
      },
      "execution_count": 8,
      "outputs": [
        {
          "output_type": "execute_result",
          "data": {
            "text/plain": [
              "((60000, 28, 28), dtype('uint8'))"
            ]
          },
          "metadata": {},
          "execution_count": 8
        }
      ]
    },
    {
      "cell_type": "code",
      "source": [
        "y_train_full.shape,y_train_full.dtype"
      ],
      "metadata": {
        "colab": {
          "base_uri": "https://localhost:8080/"
        },
        "id": "IIZZ3RE5Xs_a",
        "outputId": "ff556d8a-f55e-4a19-a2be-c75e41a80155"
      },
      "execution_count": 9,
      "outputs": [
        {
          "output_type": "execute_result",
          "data": {
            "text/plain": [
              "((60000,), dtype('uint8'))"
            ]
          },
          "metadata": {},
          "execution_count": 9
        }
      ]
    },
    {
      "cell_type": "code",
      "source": [
        "X_test.shape,X_test.dtype"
      ],
      "metadata": {
        "colab": {
          "base_uri": "https://localhost:8080/"
        },
        "id": "6dRZ0dHiX1W7",
        "outputId": "21ab6862-52c8-41d3-f7af-243d51cd5508"
      },
      "execution_count": 10,
      "outputs": [
        {
          "output_type": "execute_result",
          "data": {
            "text/plain": [
              "((10000, 28, 28), dtype('uint8'))"
            ]
          },
          "metadata": {},
          "execution_count": 10
        }
      ]
    },
    {
      "cell_type": "code",
      "source": [
        "y_test.shape,y_test.dtype"
      ],
      "metadata": {
        "colab": {
          "base_uri": "https://localhost:8080/"
        },
        "id": "el7YLcE3X6B_",
        "outputId": "a2286f8a-1cb3-4d69-f1ee-7e9a6de1c2ed"
      },
      "execution_count": 11,
      "outputs": [
        {
          "output_type": "execute_result",
          "data": {
            "text/plain": [
              "((10000,), dtype('uint8'))"
            ]
          },
          "metadata": {},
          "execution_count": 11
        }
      ]
    },
    {
      "cell_type": "code",
      "source": [
        "X_valid,X_train= X_train_full[:5000]/255, X_train_full[5000:]/255"
      ],
      "metadata": {
        "id": "JlWeHx3qX91a"
      },
      "execution_count": 12,
      "outputs": []
    },
    {
      "cell_type": "code",
      "source": [
        "y_valid,y_train=y_train_full[:5000],y_train_full[5000:]"
      ],
      "metadata": {
        "id": "0hz5weQKYNDa"
      },
      "execution_count": 13,
      "outputs": []
    },
    {
      "cell_type": "code",
      "source": [
        "X_test=X_test/255"
      ],
      "metadata": {
        "id": "SL2LuKEMYsm1"
      },
      "execution_count": 14,
      "outputs": []
    },
    {
      "cell_type": "code",
      "source": [
        "plt.imshow(X_train[1],cmap=\"binary\")\n",
        "plt.axis(\"off\")\n",
        "plt.show()\n",
        "y_train[1]"
      ],
      "metadata": {
        "colab": {
          "base_uri": "https://localhost:8080/",
          "height": 423
        },
        "id": "iXu4TaRdYxwb",
        "outputId": "9e13c305-730f-4c05-e064-3e7bf5434cd2"
      },
      "execution_count": 15,
      "outputs": [
        {
          "output_type": "display_data",
          "data": {
            "text/plain": [
              "<Figure size 640x480 with 1 Axes>"
            ],
            "image/png": "[encoded data removed]"
          },
          "metadata": {}
        },
        {
          "output_type": "execute_result",
          "data": {
            "text/plain": [
              "3"
            ]
          },
          "metadata": {},
          "execution_count": 15
        }
      ]
    },
    {
      "cell_type": "code",
      "source": [
        "LAYERS=[\n",
        "    tf.keras.layers.Flatten(input_shape=[28,28],name=\"inputLayer\"),\n",
        "    tf.keras.layers.Dense(300,activation=\"relu\",name=\"hiddenLayer1\"),\n",
        "    tf.keras.layers.Dense(100,activation=\"relu\",name=\"hiddenLayer2\"),\n",
        "    tf.keras.layers.Dense(10,activation=\"softmax\",name=\"outputLayer\"),\n",
        "]\n",
        "model=tf.keras.models.Sequential(LAYERS)\n",
        "model.layers"
      ],
      "metadata": {
        "colab": {
          "base_uri": "https://localhost:8080/"
        },
        "id": "Si6HLa_aZROw",
        "outputId": "29cceeed-4fb0-4aff-e8c4-2dba5f2e130d"
      },
      "execution_count": 17,
      "outputs": [
        {
          "output_type": "execute_result",
          "data": {
            "text/plain": [
              "[<keras.layers.reshaping.flatten.Flatten at 0x7bec1a8c2590>,\n",
              " <keras.layers.core.dense.Dense at 0x7bec1aa1e0b0>,\n",
              " <keras.layers.core.dense.Dense at 0x7bec1a8c1030>,\n",
              " <keras.layers.core.dense.Dense at 0x7bec1aa1d0c0>]"
            ]
          },
          "metadata": {},
          "execution_count": 17
        }
      ]
    },
    {
      "cell_type": "code",
      "source": [
        "LOSS_FUNCTION=\"sparse_categorical_crossentropy\"\n",
        "OPTIMIZER=\"SGD\"\n",
        "METRICS=[\"accuracy\"]\n",
        "model.compile(loss=LOSS_FUNCTION,optimizer=OPTIMIZER,metrics=METRICS)"
      ],
      "metadata": {
        "id": "9EKo7IoXbxQ2"
      },
      "execution_count": 19,
      "outputs": []
    },
    {
      "cell_type": "code",
      "source": [
        "EPOCHS=30\n",
        "VALIDATION_SET=(X_valid,y_valid)\n",
        "history=model.fit(X_train,y_train,epochs=EPOCHS,validation_data=VALIDATION_SET)\n",
        "\n",
        "model.evaluate(X_test,y_test)\n",
        "model.save(\"model.h5\")"
      ],
      "metadata": {
        "colab": {
          "base_uri": "https://localhost:8080/"
        },
        "id": "CsKCdNAyb9pY",
        "outputId": "acb6d47d-7169-41cc-a224-2e466ff0f7f0"
      },
      "execution_count": 20,
      "outputs": [
        {
          "output_type": "stream",
          "name": "stdout",
          "text": [
            "Epoch 1/30\n",
            "1719/1719 [==============================] - 9s 4ms/step - loss: 0.6224 - accuracy: 0.8388 - val_loss: 0.3129 - val_accuracy: 0.9182\n",
            "Epoch 2/30\n",
            "1719/1719 [==============================] - 8s 5ms/step - loss: 0.2921 - accuracy: 0.9165 - val_loss: 0.2395 - val_accuracy: 0.9356\n",
            "Epoch 3/30\n",
            "1719/1719 [==============================] - 9s 5ms/step - loss: 0.2384 - accuracy: 0.9321 - val_loss: 0.2088 - val_accuracy: 0.9432\n",
            "Epoch 4/30\n",
            "1719/1719 [==============================] - 6s 4ms/step - loss: 0.2039 - accuracy: 0.9409 - val_loss: 0.1804 - val_accuracy: 0.9518\n",
            "Epoch 5/30\n",
            "1719/1719 [==============================] - 9s 5ms/step - loss: 0.1784 - accuracy: 0.9484 - val_loss: 0.1611 - val_accuracy: 0.9544\n",
            "Epoch 6/30\n",
            "1719/1719 [==============================] - 7s 4ms/step - loss: 0.1582 - accuracy: 0.9550 - val_loss: 0.1486 - val_accuracy: 0.9622\n",
            "Epoch 7/30\n",
            "1719/1719 [==============================] - 7s 4ms/step - loss: 0.1420 - accuracy: 0.9600 - val_loss: 0.1349 - val_accuracy: 0.9658\n",
            "Epoch 8/30\n",
            "1719/1719 [==============================] - 8s 5ms/step - loss: 0.1283 - accuracy: 0.9637 - val_loss: 0.1296 - val_accuracy: 0.9656\n",
            "Epoch 9/30\n",
            "1719/1719 [==============================] - 7s 4ms/step - loss: 0.1169 - accuracy: 0.9673 - val_loss: 0.1182 - val_accuracy: 0.9678\n",
            "Epoch 10/30\n",
            "1719/1719 [==============================] - 8s 5ms/step - loss: 0.1073 - accuracy: 0.9694 - val_loss: 0.1125 - val_accuracy: 0.9720\n",
            "Epoch 11/30\n",
            "1719/1719 [==============================] - 7s 4ms/step - loss: 0.0985 - accuracy: 0.9725 - val_loss: 0.1054 - val_accuracy: 0.9724\n",
            "Epoch 12/30\n",
            "1719/1719 [==============================] - 8s 5ms/step - loss: 0.0907 - accuracy: 0.9742 - val_loss: 0.1005 - val_accuracy: 0.9714\n",
            "Epoch 13/30\n",
            "1719/1719 [==============================] - 7s 4ms/step - loss: 0.0840 - accuracy: 0.9765 - val_loss: 0.0965 - val_accuracy: 0.9742\n",
            "Epoch 14/30\n",
            "1719/1719 [==============================] - 8s 4ms/step - loss: 0.0779 - accuracy: 0.9782 - val_loss: 0.0947 - val_accuracy: 0.9732\n",
            "Epoch 15/30\n",
            "1719/1719 [==============================] - 10s 6ms/step - loss: 0.0728 - accuracy: 0.9798 - val_loss: 0.0898 - val_accuracy: 0.9748\n",
            "Epoch 16/30\n",
            "1719/1719 [==============================] - 7s 4ms/step - loss: 0.0679 - accuracy: 0.9812 - val_loss: 0.0889 - val_accuracy: 0.9742\n",
            "Epoch 17/30\n",
            "1719/1719 [==============================] - 9s 5ms/step - loss: 0.0631 - accuracy: 0.9825 - val_loss: 0.0880 - val_accuracy: 0.9774\n",
            "Epoch 18/30\n",
            "1719/1719 [==============================] - 9s 5ms/step - loss: 0.0588 - accuracy: 0.9839 - val_loss: 0.0812 - val_accuracy: 0.9774\n",
            "Epoch 19/30\n",
            "1719/1719 [==============================] - 8s 5ms/step - loss: 0.0555 - accuracy: 0.9849 - val_loss: 0.0802 - val_accuracy: 0.9768\n",
            "Epoch 20/30\n",
            "1719/1719 [==============================] - 9s 5ms/step - loss: 0.0516 - accuracy: 0.9864 - val_loss: 0.0803 - val_accuracy: 0.9762\n",
            "Epoch 21/30\n",
            "1719/1719 [==============================] - 9s 5ms/step - loss: 0.0488 - accuracy: 0.9869 - val_loss: 0.0761 - val_accuracy: 0.9772\n",
            "Epoch 22/30\n",
            "1719/1719 [==============================] - 8s 5ms/step - loss: 0.0456 - accuracy: 0.9876 - val_loss: 0.0749 - val_accuracy: 0.9786\n",
            "Epoch 23/30\n",
            "1719/1719 [==============================] - 9s 5ms/step - loss: 0.0428 - accuracy: 0.9888 - val_loss: 0.0754 - val_accuracy: 0.9772\n",
            "Epoch 24/30\n",
            "1719/1719 [==============================] - 9s 5ms/step - loss: 0.0404 - accuracy: 0.9893 - val_loss: 0.0740 - val_accuracy: 0.9782\n",
            "Epoch 25/30\n",
            "1719/1719 [==============================] - 9s 5ms/step - loss: 0.0379 - accuracy: 0.9902 - val_loss: 0.0732 - val_accuracy: 0.9776\n",
            "Epoch 26/30\n",
            "1719/1719 [==============================] - 9s 5ms/step - loss: 0.0358 - accuracy: 0.9908 - val_loss: 0.0728 - val_accuracy: 0.9792\n",
            "Epoch 27/30\n",
            "1719/1719 [==============================] - 10s 6ms/step - loss: 0.0334 - accuracy: 0.9918 - val_loss: 0.0695 - val_accuracy: 0.9790\n",
            "Epoch 28/30\n",
            "1719/1719 [==============================] - 9s 5ms/step - loss: 0.0315 - accuracy: 0.9924 - val_loss: 0.0705 - val_accuracy: 0.9786\n",
            "Epoch 29/30\n",
            "1719/1719 [==============================] - 8s 5ms/step - loss: 0.0296 - accuracy: 0.9930 - val_loss: 0.0697 - val_accuracy: 0.9786\n",
            "Epoch 30/30\n",
            "1719/1719 [==============================] - 9s 5ms/step - loss: 0.0280 - accuracy: 0.9938 - val_loss: 0.0694 - val_accuracy: 0.9784\n",
            "313/313 [==============================] - 1s 3ms/step - loss: 0.0718 - accuracy: 0.9778\n"
          ]
        }
      ]
    },
    {
      "cell_type": "code",
      "source": [
        "loaded_model=tf.keras.models.load_model(\"model.h5\")\n",
        "model.evaluate(X_test,y_test)\n",
        "pd.DataFrame(history.history)"
      ],
      "metadata": {
        "colab": {
          "base_uri": "https://localhost:8080/",
          "height": 1000
        },
        "id": "D3rSLRxqdKJS",
        "outputId": "d5d49127-fcef-4f7d-8e2e-084c9fe9f524"
      },
      "execution_count": 21,
      "outputs": [
        {
          "output_type": "stream",
          "name": "stdout",
          "text": [
            "313/313 [==============================] - 1s 5ms/step - loss: 0.0718 - accuracy: 0.9778\n"
          ]
        },
        {
          "output_type": "execute_result",
          "data": {
            "text/plain": [
              "        loss  accuracy  val_loss  val_accuracy\n",
              "0   0.622366  0.838818  0.312919        0.9182\n",
              "1   0.292135  0.916527  0.239486        0.9356\n",
              "2   0.238412  0.932055  0.208842        0.9432\n",
              "3   0.203922  0.940873  0.180361        0.9518\n",
              "4   0.178423  0.948418  0.161072        0.9544\n",
              "5   0.158228  0.955018  0.148580        0.9622\n",
              "6   0.142045  0.960036  0.134905        0.9658\n",
              "7   0.128338  0.963727  0.129558        0.9656\n",
              "8   0.116875  0.967255  0.118235        0.9678\n",
              "9   0.107297  0.969418  0.112548        0.9720\n",
              "10  0.098453  0.972491  0.105428        0.9724\n",
              "11  0.090707  0.974182  0.100487        0.9714\n",
              "12  0.083998  0.976455  0.096522        0.9742\n",
              "13  0.077894  0.978218  0.094740        0.9732\n",
              "14  0.072754  0.979800  0.089819        0.9748\n",
              "15  0.067942  0.981164  0.088887        0.9742\n",
              "16  0.063117  0.982491  0.087983        0.9774\n",
              "17  0.058791  0.983945  0.081218        0.9774\n",
              "18  0.055490  0.984909  0.080169        0.9768\n",
              "19  0.051611  0.986400  0.080256        0.9762\n",
              "20  0.048834  0.986855  0.076130        0.9772\n",
              "21  0.045605  0.987618  0.074928        0.9786\n",
              "22  0.042814  0.988764  0.075431        0.9772\n",
              "23  0.040355  0.989345  0.074024        0.9782\n",
              "24  0.037918  0.990182  0.073200        0.9776\n",
              "25  0.035770  0.990764  0.072819        0.9792\n",
              "26  0.033394  0.991764  0.069542        0.9790\n",
              "27  0.031537  0.992418  0.070550        0.9786\n",
              "28  0.029635  0.992964  0.069677        0.9786\n",
              "29  0.028028  0.993818  0.069354        0.9784"
            ],
            "text/html": [
              "\n",
              "\n",
              "  <div id=\"df-52875f2f-cdc8-4dd9-a5ab-f450d849f46a\">\n",
              "    <div class=\"colab-df-container\">\n",
              "      <div>\n",
              "<style scoped>\n",
              "    .dataframe tbody tr th:only-of-type {\n",
              "        vertical-align: middle;\n",
              "    }\n",
              "\n",
              "    .dataframe tbody tr th {\n",
              "        vertical-align: top;\n",
              "    }\n",
              "\n",
              "    .dataframe thead th {\n",
              "        text-align: right;\n",
              "    }\n",
              "</style>\n",
              "<table border=\"1\" class=\"dataframe\">\n",
              "  <thead>\n",
              "    <tr style=\"text-align: right;\">\n",
              "      <th></th>\n",
              "      <th>loss</th>\n",
              "      <th>accuracy</th>\n",
              "      <th>val_loss</th>\n",
              "      <th>val_accuracy</th>\n",
              "    </tr>\n",
              "  </thead>\n",
              "  <tbody>\n",
              "    <tr>\n",
              "      <th>0</th>\n",
              "      <td>0.622366</td>\n",
              "      <td>0.838818</td>\n",
              "      <td>0.312919</td>\n",
              "      <td>0.9182</td>\n",
              "    </tr>\n",
              "    <tr>\n",
              "      <th>1</th>\n",
              "      <td>0.292135</td>\n",
              "      <td>0.916527</td>\n",
              "      <td>0.239486</td>\n",
              "      <td>0.9356</td>\n",
              "    </tr>\n",
              "    <tr>\n",
              "      <th>2</th>\n",
              "      <td>0.238412</td>\n",
              "      <td>0.932055</td>\n",
              "      <td>0.208842</td>\n",
              "      <td>0.9432</td>\n",
              "    </tr>\n",
              "    <tr>\n",
              "      <th>3</th>\n",
              "      <td>0.203922</td>\n",
              "      <td>0.940873</td>\n",
              "      <td>0.180361</td>\n",
              "      <td>0.9518</td>\n",
              "    </tr>\n",
              "    <tr>\n",
              "      <th>4</th>\n",
              "      <td>0.178423</td>\n",
              "      <td>0.948418</td>\n",
              "      <td>0.161072</td>\n",
              "      <td>0.9544</td>\n",
              "    </tr>\n",
              "    <tr>\n",
              "      <th>5</th>\n",
              "      <td>0.158228</td>\n",
              "      <td>0.955018</td>\n",
              "      <td>0.148580</td>\n",
              "      <td>0.9622</td>\n",
              "    </tr>\n",
              "    <tr>\n",
              "      <th>6</th>\n",
              "      <td>0.142045</td>\n",
              "      <td>0.960036</td>\n",
              "      <td>0.134905</td>\n",
              "      <td>0.9658</td>\n",
              "    </tr>\n",
              "    <tr>\n",
              "      <th>7</th>\n",
              "      <td>0.128338</td>\n",
              "      <td>0.963727</td>\n",
              "      <td>0.129558</td>\n",
              "      <td>0.9656</td>\n",
              "    </tr>\n",
              "    <tr>\n",
              "      <th>8</th>\n",
              "      <td>0.116875</td>\n",
              "      <td>0.967255</td>\n",
              "      <td>0.118235</td>\n",
              "      <td>0.9678</td>\n",
              "    </tr>\n",
              "    <tr>\n",
              "      <th>9</th>\n",
              "      <td>0.107297</td>\n",
              "      <td>0.969418</td>\n",
              "      <td>0.112548</td>\n",
              "      <td>0.9720</td>\n",
              "    </tr>\n",
              "    <tr>\n",
              "      <th>10</th>\n",
              "      <td>0.098453</td>\n",
              "      <td>0.972491</td>\n",
              "      <td>0.105428</td>\n",
              "      <td>0.9724</td>\n",
              "    </tr>\n",
              "    <tr>\n",
              "      <th>11</th>\n",
              "      <td>0.090707</td>\n",
              "      <td>0.974182</td>\n",
              "      <td>0.100487</td>\n",
              "      <td>0.9714</td>\n",
              "    </tr>\n",
              "    <tr>\n",
              "      <th>12</th>\n",
              "      <td>0.083998</td>\n",
              "      <td>0.976455</td>\n",
              "      <td>0.096522</td>\n",
              "      <td>0.9742</td>\n",
              "    </tr>\n",
              "    <tr>\n",
              "      <th>13</th>\n",
              "      <td>0.077894</td>\n",
              "      <td>0.978218</td>\n",
              "      <td>0.094740</td>\n",
              "      <td>0.9732</td>\n",
              "    </tr>\n",
              "    <tr>\n",
              "      <th>14</th>\n",
              "      <td>0.072754</td>\n",
              "      <td>0.979800</td>\n",
              "      <td>0.089819</td>\n",
              "      <td>0.9748</td>\n",
              "    </tr>\n",
              "    <tr>\n",
              "      <th>15</th>\n",
              "      <td>0.067942</td>\n",
              "      <td>0.981164</td>\n",
              "      <td>0.088887</td>\n",
              "      <td>0.9742</td>\n",
              "    </tr>\n",
              "    <tr>\n",
              "      <th>16</th>\n",
              "      <td>0.063117</td>\n",
              "      <td>0.982491</td>\n",
              "      <td>0.087983</td>\n",
              "      <td>0.9774</td>\n",
              "    </tr>\n",
              "    <tr>\n",
              "      <th>17</th>\n",
              "      <td>0.058791</td>\n",
              "      <td>0.983945</td>\n",
              "      <td>0.081218</td>\n",
              "      <td>0.9774</td>\n",
              "    </tr>\n",
              "    <tr>\n",
              "      <th>18</th>\n",
              "      <td>0.055490</td>\n",
              "      <td>0.984909</td>\n",
              "      <td>0.080169</td>\n",
              "      <td>0.9768</td>\n",
              "    </tr>\n",
              "    <tr>\n",
              "      <th>19</th>\n",
              "      <td>0.051611</td>\n",
              "      <td>0.986400</td>\n",
              "      <td>0.080256</td>\n",
              "      <td>0.9762</td>\n",
              "    </tr>\n",
              "    <tr>\n",
              "      <th>20</th>\n",
              "      <td>0.048834</td>\n",
              "      <td>0.986855</td>\n",
              "      <td>0.076130</td>\n",
              "      <td>0.9772</td>\n",
              "    </tr>\n",
              "    <tr>\n",
              "      <th>21</th>\n",
              "      <td>0.045605</td>\n",
              "      <td>0.987618</td>\n",
              "      <td>0.074928</td>\n",
              "      <td>0.9786</td>\n",
              "    </tr>\n",
              "    <tr>\n",
              "      <th>22</th>\n",
              "      <td>0.042814</td>\n",
              "      <td>0.988764</td>\n",
              "      <td>0.075431</td>\n",
              "      <td>0.9772</td>\n",
              "    </tr>\n",
              "    <tr>\n",
              "      <th>23</th>\n",
              "      <td>0.040355</td>\n",
              "      <td>0.989345</td>\n",
              "      <td>0.074024</td>\n",
              "      <td>0.9782</td>\n",
              "    </tr>\n",
              "    <tr>\n",
              "      <th>24</th>\n",
              "      <td>0.037918</td>\n",
              "      <td>0.990182</td>\n",
              "      <td>0.073200</td>\n",
              "      <td>0.9776</td>\n",
              "    </tr>\n",
              "    <tr>\n",
              "      <th>25</th>\n",
              "      <td>0.035770</td>\n",
              "      <td>0.990764</td>\n",
              "      <td>0.072819</td>\n",
              "      <td>0.9792</td>\n",
              "    </tr>\n",
              "    <tr>\n",
              "      <th>26</th>\n",
              "      <td>0.033394</td>\n",
              "      <td>0.991764</td>\n",
              "      <td>0.069542</td>\n",
              "      <td>0.9790</td>\n",
              "    </tr>\n",
              "    <tr>\n",
              "      <th>27</th>\n",
              "      <td>0.031537</td>\n",
              "      <td>0.992418</td>\n",
              "      <td>0.070550</td>\n",
              "      <td>0.9786</td>\n",
              "    </tr>\n",
              "    <tr>\n",
              "      <th>28</th>\n",
              "      <td>0.029635</td>\n",
              "      <td>0.992964</td>\n",
              "      <td>0.069677</td>\n",
              "      <td>0.9786</td>\n",
              "    </tr>\n",
              "    <tr>\n",
              "      <th>29</th>\n",
              "      <td>0.028028</td>\n",
              "      <td>0.993818</td>\n",
              "      <td>0.069354</td>\n",
              "      <td>0.9784</td>\n",
              "    </tr>\n",
              "  </tbody>\n",
              "</table>\n",
              "</div>\n",
              "      <button class=\"colab-df-convert\" onclick=\"convertToInteractive('df-52875f2f-cdc8-4dd9-a5ab-f450d849f46a')\"\n",
              "              title=\"Convert this dataframe to an interactive table.\"\n",
              "              style=\"display:none;\">\n",
              "\n",
              "  <svg xmlns=\"http://www.w3.org/2000/svg\" height=\"24px\"viewBox=\"0 0 24 24\"\n",
              "       width=\"24px\">\n",
              "    <path d=\"M0 0h24v24H0V0z\" fill=\"none\"/>\n",
              "    <path d=\"M18.56 5.44l.94 2.06.94-2.06 2.06-.94-2.06-.94-.94-2.06-.94 2.06-2.06.94zm-11 1L8.5 8.5l.94-2.06 2.06-.94-2.06-.94L8.5 2.5l-.94 2.06-2.06.94zm10 10l.94 2.06.94-2.06 2.06-.94-2.06-.94-.94-2.06-.94 2.06-2.06.94z\"/><path d=\"M17.41 7.96l-1.37-1.37c-.4-.4-.92-.59-1.43-.59-.52 0-1.04.2-1.43.59L10.3 9.45l-7.72 7.72c-.78.78-.78 2.05 0 2.83L4 21.41c.39.39.9.59 1.41.59.51 0 1.02-.2 1.41-.59l7.78-7.78 2.81-2.81c.8-.78.8-2.07 0-2.86zM5.41 20L4 18.59l7.72-7.72 1.47 1.35L5.41 20z\"/>\n",
              "  </svg>\n",
              "      </button>\n",
              "\n",
              "\n",
              "\n",
              "    <div id=\"df-9d0b6d5e-1ca9-4d47-acb5-635bf3b5269c\">\n",
              "      <button class=\"colab-df-quickchart\" onclick=\"quickchart('df-9d0b6d5e-1ca9-4d47-acb5-635bf3b5269c')\"\n",
              "              title=\"Suggest charts.\"\n",
              "              style=\"display:none;\">\n",
              "\n",
              "<svg xmlns=\"http://www.w3.org/2000/svg\" height=\"24px\"viewBox=\"0 0 24 24\"\n",
              "     width=\"24px\">\n",
              "    <g>\n",
              "        <path d=\"M19 3H5c-1.1 0-2 .9-2 2v14c0 1.1.9 2 2 2h14c1.1 0 2-.9 2-2V5c0-1.1-.9-2-2-2zM9 17H7v-7h2v7zm4 0h-2V7h2v10zm4 0h-2v-4h2v4z\"/>\n",
              "    </g>\n",
              "</svg>\n",
              "      </button>\n",
              "    </div>\n",
              "\n",
              "<style>\n",
              "  .colab-df-quickchart {\n",
              "    background-color: #E8F0FE;\n",
              "    border: none;\n",
              "    border-radius: 50%;\n",
              "    cursor: pointer;\n",
              "    display: none;\n",
              "    fill: #1967D2;\n",
              "    height: 32px;\n",
              "    padding: 0 0 0 0;\n",
              "    width: 32px;\n",
              "  }\n",
              "\n",
              "  .colab-df-quickchart:hover {\n",
              "    background-color: #E2EBFA;\n",
              "    box-shadow: 0px 1px 2px rgba(60, 64, 67, 0.3), 0px 1px 3px 1px rgba(60, 64, 67, 0.15);\n",
              "    fill: #174EA6;\n",
              "  }\n",
              "\n",
              "  [theme=dark] .colab-df-quickchart {\n",
              "    background-color: #3B4455;\n",
              "    fill: #D2E3FC;\n",
              "  }\n",
              "\n",
              "  [theme=dark] .colab-df-quickchart:hover {\n",
              "    background-color: #434B5C;\n",
              "    box-shadow: 0px 1px 3px 1px rgba(0, 0, 0, 0.15);\n",
              "    filter: drop-shadow(0px 1px 2px rgba(0, 0, 0, 0.3));\n",
              "    fill: #FFFFFF;\n",
              "  }\n",
              "</style>\n",
              "\n",
              "    <script>\n",
              "      async function quickchart(key) {\n",
              "        const containerElement = document.querySelector('#' + key);\n",
              "        const charts = await google.colab.kernel.invokeFunction(\n",
              "            'suggestCharts', [key], {});\n",
              "      }\n",
              "    </script>\n",
              "\n",
              "      <script>\n",
              "\n",
              "function displayQuickchartButton(domScope) {\n",
              "  let quickchartButtonEl =\n",
              "    domScope.querySelector('#df-9d0b6d5e-1ca9-4d47-acb5-635bf3b5269c button.colab-df-quickchart');\n",
              "  quickchartButtonEl.style.display =\n",
              "    google.colab.kernel.accessAllowed ? 'block' : 'none';\n",
              "}\n",
              "\n",
              "        displayQuickchartButton(document);\n",
              "      </script>\n",
              "      <style>\n",
              "    .colab-df-container {\n",
              "      display:flex;\n",
              "      flex-wrap:wrap;\n",
              "      gap: 12px;\n",
              "    }\n",
              "\n",
              "    .colab-df-convert {\n",
              "      background-color: #E8F0FE;\n",
              "      border: none;\n",
              "      border-radius: 50%;\n",
              "      cursor: pointer;\n",
              "      display: none;\n",
              "      fill: #1967D2;\n",
              "      height: 32px;\n",
              "      padding: 0 0 0 0;\n",
              "      width: 32px;\n",
              "    }\n",
              "\n",
              "    .colab-df-convert:hover {\n",
              "      background-color: #E2EBFA;\n",
              "      box-shadow: 0px 1px 2px rgba(60, 64, 67, 0.3), 0px 1px 3px 1px rgba(60, 64, 67, 0.15);\n",
              "      fill: #174EA6;\n",
              "    }\n",
              "\n",
              "    [theme=dark] .colab-df-convert {\n",
              "      background-color: #3B4455;\n",
              "      fill: #D2E3FC;\n",
              "    }\n",
              "\n",
              "    [theme=dark] .colab-df-convert:hover {\n",
              "      background-color: #434B5C;\n",
              "      box-shadow: 0px 1px 3px 1px rgba(0, 0, 0, 0.15);\n",
              "      filter: drop-shadow(0px 1px 2px rgba(0, 0, 0, 0.3));\n",
              "      fill: #FFFFFF;\n",
              "    }\n",
              "  </style>\n",
              "\n",
              "      <script>\n",
              "        const buttonEl =\n",
              "          document.querySelector('#df-52875f2f-cdc8-4dd9-a5ab-f450d849f46a button.colab-df-convert');\n",
              "        buttonEl.style.display =\n",
              "          google.colab.kernel.accessAllowed ? 'block' : 'none';\n",
              "\n",
              "        async function convertToInteractive(key) {\n",
              "          const element = document.querySelector('#df-52875f2f-cdc8-4dd9-a5ab-f450d849f46a');\n",
              "          const dataTable =\n",
              "            await google.colab.kernel.invokeFunction('convertToInteractive',\n",
              "                                                     [key], {});\n",
              "          if (!dataTable) return;\n",
              "\n",
              "          const docLinkHtml = 'Like what you see? Visit the ' +\n",
              "            '<a target=\"_blank\" href=https://colab.research.google.com/notebooks/data_table.ipynb>data table notebook</a>'\n",
              "            + ' to learn more about interactive tables.';\n",
              "          element.innerHTML = '';\n",
              "          dataTable['output_type'] = 'display_data';\n",
              "          await google.colab.output.renderOutput(dataTable, element);\n",
              "          const docLink = document.createElement('div');\n",
              "          docLink.innerHTML = docLinkHtml;\n",
              "          element.appendChild(docLink);\n",
              "        }\n",
              "      </script>\n",
              "    </div>\n",
              "  </div>\n"
            ]
          },
          "metadata": {},
          "execution_count": 21
        }
      ]
    },
    {
      "cell_type": "code",
      "source": [
        "pd.DataFrame(history.history).plot(figsize=(8,5))\n",
        "plt.grid(True)\n",
        "plt.gca().set_ylim(0,1)\n",
        "plt.show()"
      ],
      "metadata": {
        "colab": {
          "base_uri": "https://localhost:8080/",
          "height": 451
        },
        "id": "etg3wXfWehcq",
        "outputId": "327dfa54-22e5-410a-8014-ba8a050411fb"
      },
      "execution_count": 23,
      "outputs": [
        {
          "output_type": "display_data",
          "data": {
            "text/plain": [
              "<Figure size 800x500 with 1 Axes>"
            ],
            "image/png": "[encoded data removed]"
          },
          "metadata": {}
        }
      ]
    },
    {
      "cell_type": "code",
      "source": [
        "X_new=X_test[:5]\n",
        "y_new=y_test[:5]\n",
        "y_prob=model.predict(X_new)\n",
        "y_prob.round(2)\n"
      ],
      "metadata": {
        "colab": {
          "base_uri": "https://localhost:8080/"
        },
        "id": "yoFhKsCTfCvg",
        "outputId": "71188f5e-4097-4a82-fd60-21420d822bee"
      },
      "execution_count": 24,
      "outputs": [
        {
          "output_type": "stream",
          "name": "stdout",
          "text": [
            "1/1 [==============================] - 0s 347ms/step\n"
          ]
        },
        {
          "output_type": "execute_result",
          "data": {
            "text/plain": [
              "array([[0., 0., 0., 0., 0., 0., 0., 1., 0., 0.],\n",
              "       [0., 0., 1., 0., 0., 0., 0., 0., 0., 0.],\n",
              "       [0., 1., 0., 0., 0., 0., 0., 0., 0., 0.],\n",
              "       [1., 0., 0., 0., 0., 0., 0., 0., 0., 0.],\n",
              "       [0., 0., 0., 0., 1., 0., 0., 0., 0., 0.]], dtype=float32)"
            ]
          },
          "metadata": {},
          "execution_count": 24
        }
      ]
    },
    {
      "cell_type": "code",
      "source": [
        "y_pred=np.argmax(y_prob,axis=1)\n",
        "y_pred,y_new"
      ],
      "metadata": {
        "colab": {
          "base_uri": "https://localhost:8080/"
        },
        "id": "UsgYsEtMfkYs",
        "outputId": "5f571750-91cd-44cf-f817-11c9132f5588"
      },
      "execution_count": 25,
      "outputs": [
        {
          "output_type": "execute_result",
          "data": {
            "text/plain": [
              "(array([7, 2, 1, 0, 4]), array([7, 2, 1, 0, 4], dtype=uint8))"
            ]
          },
          "metadata": {},
          "execution_count": 25
        }
      ]
    },
    {
      "cell_type": "code",
      "source": [
        "for data,pred, actual in zip(X_new,y_pred,y_new):\n",
        "  plt.imshow(data,cmap=\"binary\")\n",
        "  plt.title(f\"predicted:{pred},Actual:{actual}\",)\n",
        "  plt.axis(\"off\")\n",
        "  plt.show()\n",
        "  print(\"---\"*20)"
      ],
      "metadata": {
        "colab": {
          "base_uri": "https://localhost:8080/",
          "height": 1000
        },
        "id": "MPwfnEtvfuEI",
        "outputId": "c0cc6db0-bfbb-4a0a-eeca-f1aefe41dba4"
      },
      "execution_count": 26,
      "outputs": [
        {
          "output_type": "display_data",
          "data": {
            "text/plain": [
              "<Figure size 640x480 with 1 Axes>"
            ],
            "image/png": "[encoded data removed]"
          },
          "metadata": {}
        },
        {
          "output_type": "stream",
          "name": "stdout",
          "text": [
            "------------------------------------------------------------\n"
          ]
        },
        {
          "output_type": "display_data",
          "data": {
            "text/plain": [
              "<Figure size 640x480 with 1 Axes>"
            ],
            "image/png": "[encoded data removed]"
          },
          "metadata": {}
        },
        {
          "output_type": "stream",
          "name": "stdout",
          "text": [
            "------------------------------------------------------------\n"
          ]
        },
        {
          "output_type": "display_data",
          "data": {
            "text/plain": [
              "<Figure size 640x480 with 1 Axes>"
            ],
            "image/png": "[encoded data removed]"
          },
          "metadata": {}
        },
        {
          "output_type": "stream",
          "name": "stdout",
          "text": [
            "------------------------------------------------------------\n"
          ]
        },
        {
          "output_type": "display_data",
          "data": {
            "text/plain": [
              "<Figure size 640x480 with 1 Axes>"
            ],
            "image/png": "[encoded data removed]"
          },
          "metadata": {}
        },
        {
          "output_type": "stream",
          "name": "stdout",
          "text": [
            "------------------------------------------------------------\n"
          ]
        },
        {
          "output_type": "display_data",
          "data": {
            "text/plain": [
              "<Figure size 640x480 with 1 Axes>"
            ],
            "image/png": "[encoded data removed]"
          },
          "metadata": {}
        },
        {
          "output_type": "stream",
          "name": "stdout",
          "text": [
            "------------------------------------------------------------\n"
          ]
        }
      ]
    },
    {
      "cell_type": "code",
      "source": [],
      "metadata": {
        "id": "jzo8P8dbgQgz"
      },
      "execution_count": null,
      "outputs": []
    }
  ]
}