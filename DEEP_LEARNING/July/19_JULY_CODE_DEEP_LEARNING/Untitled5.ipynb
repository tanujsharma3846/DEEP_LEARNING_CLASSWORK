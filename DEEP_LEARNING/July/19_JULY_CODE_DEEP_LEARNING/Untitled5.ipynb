{
  "nbformat": 4,
  "nbformat_minor": 0,
  "metadata": {
    "colab": {
      "provenance": []
    },
    "kernelspec": {
      "name": "python3",
      "display_name": "Python 3"
    },
    "language_info": {
      "name": "python"
    }
  },
  "cells": [
    {
      "cell_type": "code",
      "execution_count": 8,
      "metadata": {
        "id": "3XItuEQ3XAet"
      },
      "outputs": [],
      "source": [
        "import re\n",
        "def clean_words(text):\n",
        "  # remove html markup\n",
        "  text=re.sub(\"(<.*?>)\",\"\",text)\n",
        "\n",
        "  # remove non-ascii and digits\n",
        "  text=re.sub(\"(\\W|\\d+)\",\" \",text)\n",
        "\n",
        "  ## remove whitespace\n",
        "  text=text.strip()\n",
        "\n",
        "  return text"
      ]
    },
    {
      "cell_type": "code",
      "source": [
        "raw=['...sleepy','sleepy!!','#sleepy','>>>>sleepy<<<','<a>sleepy<a>']"
      ],
      "metadata": {
        "id": "u18SgWXrXe2f"
      },
      "execution_count": 9,
      "outputs": []
    },
    {
      "cell_type": "code",
      "source": [
        "clean=[clean_words(r) for r in raw]\n",
        "print(clean)"
      ],
      "metadata": {
        "colab": {
          "base_uri": "https://localhost:8080/"
        },
        "id": "VtvWQzGqX1FO",
        "outputId": "8e537c60-114e-4f40-9160-d4deec8db1d0"
      },
      "execution_count": 10,
      "outputs": [
        {
          "output_type": "stream",
          "name": "stdout",
          "text": [
            "['sleepy', 'sleepy', 'sleepy', 'sleepy', 'sleepy']\n"
          ]
        }
      ]
    },
    {
      "cell_type": "code",
      "source": [],
      "metadata": {
        "id": "Qk2GHQ7OX9fr"
      },
      "execution_count": 6,
      "outputs": []
    }
  ]
}