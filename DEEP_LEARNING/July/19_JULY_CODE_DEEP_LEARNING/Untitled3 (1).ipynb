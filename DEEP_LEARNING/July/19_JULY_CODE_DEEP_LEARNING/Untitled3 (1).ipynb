{
  "nbformat": 4,
  "nbformat_minor": 0,
  "metadata": {
    "colab": {
      "provenance": []
    },
    "kernelspec": {
      "name": "python3",
      "display_name": "Python 3"
    },
    "language_info": {
      "name": "python"
    }
  },
  "cells": [
    {
      "cell_type": "code",
      "execution_count": 1,
      "metadata": {
        "id": "JlI31qVtVuAm"
      },
      "outputs": [],
      "source": [
        "s=\"JAI SHREE RAM\""
      ]
    },
    {
      "cell_type": "code",
      "source": [
        "s=s.lower()\n",
        "print(s)"
      ],
      "metadata": {
        "colab": {
          "base_uri": "https://localhost:8080/"
        },
        "id": "V9iJUGIjVxux",
        "outputId": "340b66fa-5ba9-4ac1-93f6-2b34101250bd"
      },
      "execution_count": 2,
      "outputs": [
        {
          "output_type": "stream",
          "name": "stdout",
          "text": [
            "jai shree ram\n"
          ]
        }
      ]
    },
    {
      "cell_type": "code",
      "source": [
        "words=['inDIA','India']\n",
        "words"
      ],
      "metadata": {
        "colab": {
          "base_uri": "https://localhost:8080/"
        },
        "id": "hT8jy_peV03e",
        "outputId": "66b98ff8-6f50-431e-dd76-bcb31489e913"
      },
      "execution_count": 4,
      "outputs": [
        {
          "output_type": "execute_result",
          "data": {
            "text/plain": [
              "['inDIA', 'India']"
            ]
          },
          "metadata": {},
          "execution_count": 4
        }
      ]
    },
    {
      "cell_type": "code",
      "source": [
        "words=[words.lower() for words in words]\n",
        "print(words)"
      ],
      "metadata": {
        "colab": {
          "base_uri": "https://localhost:8080/"
        },
        "id": "T1SdGotsWWvf",
        "outputId": "5c56991f-f44a-492e-f354-9ee592ec1798"
      },
      "execution_count": 6,
      "outputs": [
        {
          "output_type": "stream",
          "name": "stdout",
          "text": [
            "['india', 'india']\n"
          ]
        }
      ]
    },
    {
      "cell_type": "code",
      "source": [],
      "metadata": {
        "id": "5B57RX8HWhb-"
      },
      "execution_count": null,
      "outputs": []
    }
  ]
}