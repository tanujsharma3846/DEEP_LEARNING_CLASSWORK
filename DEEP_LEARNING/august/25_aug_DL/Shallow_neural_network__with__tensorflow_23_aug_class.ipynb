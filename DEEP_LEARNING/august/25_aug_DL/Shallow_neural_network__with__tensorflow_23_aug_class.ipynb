{
  "nbformat": 4,
  "nbformat_minor": 0,
  "metadata": {
    "colab": {
      "provenance": []
    },
    "kernelspec": {
      "name": "python3",
      "display_name": "Python 3"
    },
    "language_info": {
      "name": "python"
    }
  },
  "cells": [
    {
      "cell_type": "code",
      "execution_count": 1,
      "metadata": {
        "id": "KYlEmFDV4VSN"
      },
      "outputs": [],
      "source": [
        "# neural network using tensorflow"
      ]
    },
    {
      "cell_type": "code",
      "source": [
        "import tensorflow as tf\n",
        "from tensorflow.keras.models import Sequential\n",
        "from tensorflow.keras.layers import Dense\n",
        "from sklearn.model_selection import train_test_split\n",
        "from sklearn.preprocessing import StandardScaler\n",
        "from sklearn.datasets import load_iris"
      ],
      "metadata": {
        "id": "CAKKBUt04aFq"
      },
      "execution_count": 2,
      "outputs": []
    },
    {
      "cell_type": "code",
      "source": [
        "iris=load_iris()\n",
        "iris"
      ],
      "metadata": {
        "colab": {
          "base_uri": "https://localhost:8080/"
        },
        "id": "wBz3-IEO4egB",
        "outputId": "2724742d-79cf-4242-c680-b22c1de6f55b"
      },
      "execution_count": 3,
      "outputs": [
        {
          "output_type": "execute_result",
          "data": {
            "text/plain": [
              "{'data': array([[5.1, 3.5, 1.4, 0.2],\n",
              "        [4.9, 3. , 1.4, 0.2],\n",
              "        [4.7, 3.2, 1.3, 0.2],\n",
              "        [4.6, 3.1, 1.5, 0.2],\n",
              "        [5. , 3.6, 1.4, 0.2],\n",
              "        [5.4, 3.9, 1.7, 0.4],\n",
              "        [4.6, 3.4, 1.4, 0.3],\n",
              "        [5. , 3.4, 1.5, 0.2],\n",
              "        [4.4, 2.9, 1.4, 0.2],\n",
              "        [4.9, 3.1, 1.5, 0.1],\n",
              "        [5.4, 3.7, 1.5, 0.2],\n",
              "        [4.8, 3.4, 1.6, 0.2],\n",
              "        [4.8, 3. , 1.4, 0.1],\n",
              "        [4.3, 3. , 1.1, 0.1],\n",
              "        [5.8, 4. , 1.2, 0.2],\n",
              "        [5.7, 4.4, 1.5, 0.4],\n",
              "        [5.4, 3.9, 1.3, 0.4],\n",
              "        [5.1, 3.5, 1.4, 0.3],\n",
              "        [5.7, 3.8, 1.7, 0.3],\n",
              "        [5.1, 3.8, 1.5, 0.3],\n",
              "        [5.4, 3.4, 1.7, 0.2],\n",
              "        [5.1, 3.7, 1.5, 0.4],\n",
              "        [4.6, 3.6, 1. , 0.2],\n",
              "        [5.1, 3.3, 1.7, 0.5],\n",
              "        [4.8, 3.4, 1.9, 0.2],\n",
              "        [5. , 3. , 1.6, 0.2],\n",
              "        [5. , 3.4, 1.6, 0.4],\n",
              "        [5.2, 3.5, 1.5, 0.2],\n",
              "        [5.2, 3.4, 1.4, 0.2],\n",
              "        [4.7, 3.2, 1.6, 0.2],\n",
              "        [4.8, 3.1, 1.6, 0.2],\n",
              "        [5.4, 3.4, 1.5, 0.4],\n",
              "        [5.2, 4.1, 1.5, 0.1],\n",
              "        [5.5, 4.2, 1.4, 0.2],\n",
              "        [4.9, 3.1, 1.5, 0.2],\n",
              "        [5. , 3.2, 1.2, 0.2],\n",
              "        [5.5, 3.5, 1.3, 0.2],\n",
              "        [4.9, 3.6, 1.4, 0.1],\n",
              "        [4.4, 3. , 1.3, 0.2],\n",
              "        [5.1, 3.4, 1.5, 0.2],\n",
              "        [5. , 3.5, 1.3, 0.3],\n",
              "        [4.5, 2.3, 1.3, 0.3],\n",
              "        [4.4, 3.2, 1.3, 0.2],\n",
              "        [5. , 3.5, 1.6, 0.6],\n",
              "        [5.1, 3.8, 1.9, 0.4],\n",
              "        [4.8, 3. , 1.4, 0.3],\n",
              "        [5.1, 3.8, 1.6, 0.2],\n",
              "        [4.6, 3.2, 1.4, 0.2],\n",
              "        [5.3, 3.7, 1.5, 0.2],\n",
              "        [5. , 3.3, 1.4, 0.2],\n",
              "        [7. , 3.2, 4.7, 1.4],\n",
              "        [6.4, 3.2, 4.5, 1.5],\n",
              "        [6.9, 3.1, 4.9, 1.5],\n",
              "        [5.5, 2.3, 4. , 1.3],\n",
              "        [6.5, 2.8, 4.6, 1.5],\n",
              "        [5.7, 2.8, 4.5, 1.3],\n",
              "        [6.3, 3.3, 4.7, 1.6],\n",
              "        [4.9, 2.4, 3.3, 1. ],\n",
              "        [6.6, 2.9, 4.6, 1.3],\n",
              "        [5.2, 2.7, 3.9, 1.4],\n",
              "        [5. , 2. , 3.5, 1. ],\n",
              "        [5.9, 3. , 4.2, 1.5],\n",
              "        [6. , 2.2, 4. , 1. ],\n",
              "        [6.1, 2.9, 4.7, 1.4],\n",
              "        [5.6, 2.9, 3.6, 1.3],\n",
              "        [6.7, 3.1, 4.4, 1.4],\n",
              "        [5.6, 3. , 4.5, 1.5],\n",
              "        [5.8, 2.7, 4.1, 1. ],\n",
              "        [6.2, 2.2, 4.5, 1.5],\n",
              "        [5.6, 2.5, 3.9, 1.1],\n",
              "        [5.9, 3.2, 4.8, 1.8],\n",
              "        [6.1, 2.8, 4. , 1.3],\n",
              "        [6.3, 2.5, 4.9, 1.5],\n",
              "        [6.1, 2.8, 4.7, 1.2],\n",
              "        [6.4, 2.9, 4.3, 1.3],\n",
              "        [6.6, 3. , 4.4, 1.4],\n",
              "        [6.8, 2.8, 4.8, 1.4],\n",
              "        [6.7, 3. , 5. , 1.7],\n",
              "        [6. , 2.9, 4.5, 1.5],\n",
              "        [5.7, 2.6, 3.5, 1. ],\n",
              "        [5.5, 2.4, 3.8, 1.1],\n",
              "        [5.5, 2.4, 3.7, 1. ],\n",
              "        [5.8, 2.7, 3.9, 1.2],\n",
              "        [6. , 2.7, 5.1, 1.6],\n",
              "        [5.4, 3. , 4.5, 1.5],\n",
              "        [6. , 3.4, 4.5, 1.6],\n",
              "        [6.7, 3.1, 4.7, 1.5],\n",
              "        [6.3, 2.3, 4.4, 1.3],\n",
              "        [5.6, 3. , 4.1, 1.3],\n",
              "        [5.5, 2.5, 4. , 1.3],\n",
              "        [5.5, 2.6, 4.4, 1.2],\n",
              "        [6.1, 3. , 4.6, 1.4],\n",
              "        [5.8, 2.6, 4. , 1.2],\n",
              "        [5. , 2.3, 3.3, 1. ],\n",
              "        [5.6, 2.7, 4.2, 1.3],\n",
              "        [5.7, 3. , 4.2, 1.2],\n",
              "        [5.7, 2.9, 4.2, 1.3],\n",
              "        [6.2, 2.9, 4.3, 1.3],\n",
              "        [5.1, 2.5, 3. , 1.1],\n",
              "        [5.7, 2.8, 4.1, 1.3],\n",
              "        [6.3, 3.3, 6. , 2.5],\n",
              "        [5.8, 2.7, 5.1, 1.9],\n",
              "        [7.1, 3. , 5.9, 2.1],\n",
              "        [6.3, 2.9, 5.6, 1.8],\n",
              "        [6.5, 3. , 5.8, 2.2],\n",
              "        [7.6, 3. , 6.6, 2.1],\n",
              "        [4.9, 2.5, 4.5, 1.7],\n",
              "        [7.3, 2.9, 6.3, 1.8],\n",
              "        [6.7, 2.5, 5.8, 1.8],\n",
              "        [7.2, 3.6, 6.1, 2.5],\n",
              "        [6.5, 3.2, 5.1, 2. ],\n",
              "        [6.4, 2.7, 5.3, 1.9],\n",
              "        [6.8, 3. , 5.5, 2.1],\n",
              "        [5.7, 2.5, 5. , 2. ],\n",
              "        [5.8, 2.8, 5.1, 2.4],\n",
              "        [6.4, 3.2, 5.3, 2.3],\n",
              "        [6.5, 3. , 5.5, 1.8],\n",
              "        [7.7, 3.8, 6.7, 2.2],\n",
              "        [7.7, 2.6, 6.9, 2.3],\n",
              "        [6. , 2.2, 5. , 1.5],\n",
              "        [6.9, 3.2, 5.7, 2.3],\n",
              "        [5.6, 2.8, 4.9, 2. ],\n",
              "        [7.7, 2.8, 6.7, 2. ],\n",
              "        [6.3, 2.7, 4.9, 1.8],\n",
              "        [6.7, 3.3, 5.7, 2.1],\n",
              "        [7.2, 3.2, 6. , 1.8],\n",
              "        [6.2, 2.8, 4.8, 1.8],\n",
              "        [6.1, 3. , 4.9, 1.8],\n",
              "        [6.4, 2.8, 5.6, 2.1],\n",
              "        [7.2, 3. , 5.8, 1.6],\n",
              "        [7.4, 2.8, 6.1, 1.9],\n",
              "        [7.9, 3.8, 6.4, 2. ],\n",
              "        [6.4, 2.8, 5.6, 2.2],\n",
              "        [6.3, 2.8, 5.1, 1.5],\n",
              "        [6.1, 2.6, 5.6, 1.4],\n",
              "        [7.7, 3. , 6.1, 2.3],\n",
              "        [6.3, 3.4, 5.6, 2.4],\n",
              "        [6.4, 3.1, 5.5, 1.8],\n",
              "        [6. , 3. , 4.8, 1.8],\n",
              "        [6.9, 3.1, 5.4, 2.1],\n",
              "        [6.7, 3.1, 5.6, 2.4],\n",
              "        [6.9, 3.1, 5.1, 2.3],\n",
              "        [5.8, 2.7, 5.1, 1.9],\n",
              "        [6.8, 3.2, 5.9, 2.3],\n",
              "        [6.7, 3.3, 5.7, 2.5],\n",
              "        [6.7, 3. , 5.2, 2.3],\n",
              "        [6.3, 2.5, 5. , 1.9],\n",
              "        [6.5, 3. , 5.2, 2. ],\n",
              "        [6.2, 3.4, 5.4, 2.3],\n",
              "        [5.9, 3. , 5.1, 1.8]]),\n",
              " 'target': array([0, 0, 0, 0, 0, 0, 0, 0, 0, 0, 0, 0, 0, 0, 0, 0, 0, 0, 0, 0, 0, 0,\n",
              "        0, 0, 0, 0, 0, 0, 0, 0, 0, 0, 0, 0, 0, 0, 0, 0, 0, 0, 0, 0, 0, 0,\n",
              "        0, 0, 0, 0, 0, 0, 1, 1, 1, 1, 1, 1, 1, 1, 1, 1, 1, 1, 1, 1, 1, 1,\n",
              "        1, 1, 1, 1, 1, 1, 1, 1, 1, 1, 1, 1, 1, 1, 1, 1, 1, 1, 1, 1, 1, 1,\n",
              "        1, 1, 1, 1, 1, 1, 1, 1, 1, 1, 1, 1, 2, 2, 2, 2, 2, 2, 2, 2, 2, 2,\n",
              "        2, 2, 2, 2, 2, 2, 2, 2, 2, 2, 2, 2, 2, 2, 2, 2, 2, 2, 2, 2, 2, 2,\n",
              "        2, 2, 2, 2, 2, 2, 2, 2, 2, 2, 2, 2, 2, 2, 2, 2, 2, 2]),\n",
              " 'frame': None,\n",
              " 'target_names': array(['setosa', 'versicolor', 'virginica'], dtype='<U10'),\n",
              " 'DESCR': '.. _iris_dataset:\\n\\nIris plants dataset\\n--------------------\\n\\n**Data Set Characteristics:**\\n\\n    :Number of Instances: 150 (50 in each of three classes)\\n    :Number of Attributes: 4 numeric, predictive attributes and the class\\n    :Attribute Information:\\n        - sepal length in cm\\n        - sepal width in cm\\n        - petal length in cm\\n        - petal width in cm\\n        - class:\\n                - Iris-Setosa\\n                - Iris-Versicolour\\n                - Iris-Virginica\\n                \\n    :Summary Statistics:\\n\\n    ============== ==== ==== ======= ===== ====================\\n                    Min  Max   Mean    SD   Class Correlation\\n    ============== ==== ==== ======= ===== ====================\\n    sepal length:   4.3  7.9   5.84   0.83    0.7826\\n    sepal width:    2.0  4.4   3.05   0.43   -0.4194\\n    petal length:   1.0  6.9   3.76   1.76    0.9490  (high!)\\n    petal width:    0.1  2.5   1.20   0.76    0.9565  (high!)\\n    ============== ==== ==== ======= ===== ====================\\n\\n    :Missing Attribute Values: None\\n    :Class Distribution: 33.3% for each of 3 classes.\\n    :Creator: R.A. Fisher\\n    :Donor: Michael Marshall (MARSHALL%PLU@io.arc.nasa.gov)\\n    :Date: July, 1988\\n\\nThe famous Iris database, first used by Sir R.A. Fisher. The dataset is taken\\nfrom Fisher\\'s paper. Note that it\\'s the same as in R, but not as in the UCI\\nMachine Learning Repository, which has two wrong data points.\\n\\nThis is perhaps the best known database to be found in the\\npattern recognition literature.  Fisher\\'s paper is a classic in the field and\\nis referenced frequently to this day.  (See Duda & Hart, for example.)  The\\ndata set contains 3 classes of 50 instances each, where each class refers to a\\ntype of iris plant.  One class is linearly separable from the other 2; the\\nlatter are NOT linearly separable from each other.\\n\\n.. topic:: References\\n\\n   - Fisher, R.A. \"The use of multiple measurements in taxonomic problems\"\\n     Annual Eugenics, 7, Part II, 179-188 (1936); also in \"Contributions to\\n     Mathematical Statistics\" (John Wiley, NY, 1950).\\n   - Duda, R.O., & Hart, P.E. (1973) Pattern Classification and Scene Analysis.\\n     (Q327.D83) John Wiley & Sons.  ISBN 0-471-22361-1.  See page 218.\\n   - Dasarathy, B.V. (1980) \"Nosing Around the Neighborhood: A New System\\n     Structure and Classification Rule for Recognition in Partially Exposed\\n     Environments\".  IEEE Transactions on Pattern Analysis and Machine\\n     Intelligence, Vol. PAMI-2, No. 1, 67-71.\\n   - Gates, G.W. (1972) \"The Reduced Nearest Neighbor Rule\".  IEEE Transactions\\n     on Information Theory, May 1972, 431-433.\\n   - See also: 1988 MLC Proceedings, 54-64.  Cheeseman et al\"s AUTOCLASS II\\n     conceptual clustering system finds 3 classes in the data.\\n   - Many, many more ...',\n",
              " 'feature_names': ['sepal length (cm)',\n",
              "  'sepal width (cm)',\n",
              "  'petal length (cm)',\n",
              "  'petal width (cm)'],\n",
              " 'filename': 'iris.csv',\n",
              " 'data_module': 'sklearn.datasets.data'}"
            ]
          },
          "metadata": {},
          "execution_count": 3
        }
      ]
    },
    {
      "cell_type": "code",
      "source": [
        "iris.target"
      ],
      "metadata": {
        "colab": {
          "base_uri": "https://localhost:8080/"
        },
        "id": "ZsZh1T8S5b1a",
        "outputId": "1c2ed823-2e57-44bc-a148-8ade99c93153"
      },
      "execution_count": 4,
      "outputs": [
        {
          "output_type": "execute_result",
          "data": {
            "text/plain": [
              "array([0, 0, 0, 0, 0, 0, 0, 0, 0, 0, 0, 0, 0, 0, 0, 0, 0, 0, 0, 0, 0, 0,\n",
              "       0, 0, 0, 0, 0, 0, 0, 0, 0, 0, 0, 0, 0, 0, 0, 0, 0, 0, 0, 0, 0, 0,\n",
              "       0, 0, 0, 0, 0, 0, 1, 1, 1, 1, 1, 1, 1, 1, 1, 1, 1, 1, 1, 1, 1, 1,\n",
              "       1, 1, 1, 1, 1, 1, 1, 1, 1, 1, 1, 1, 1, 1, 1, 1, 1, 1, 1, 1, 1, 1,\n",
              "       1, 1, 1, 1, 1, 1, 1, 1, 1, 1, 1, 1, 2, 2, 2, 2, 2, 2, 2, 2, 2, 2,\n",
              "       2, 2, 2, 2, 2, 2, 2, 2, 2, 2, 2, 2, 2, 2, 2, 2, 2, 2, 2, 2, 2, 2,\n",
              "       2, 2, 2, 2, 2, 2, 2, 2, 2, 2, 2, 2, 2, 2, 2, 2, 2, 2])"
            ]
          },
          "metadata": {},
          "execution_count": 4
        }
      ]
    },
    {
      "cell_type": "code",
      "source": [
        "# total number of neurons(inputes) in input layer - 4\n",
        "# total number of neurons in hidden layer adjacent to input layer - 2/3 of input layer\n",
        "# total number of hidden neurons in adjacent layer is not fixed, if complexity is less, reduce the neurons , if underfit then increase the neurons"
      ],
      "metadata": {
        "id": "n3y3WtoN5jof"
      },
      "execution_count": 5,
      "outputs": []
    },
    {
      "cell_type": "code",
      "source": [
        "iris.data.shape"
      ],
      "metadata": {
        "colab": {
          "base_uri": "https://localhost:8080/"
        },
        "id": "TpEgMoQ47kNL",
        "outputId": "13846579-ccca-4d70-aceb-c3f72ac12e7b"
      },
      "execution_count": 6,
      "outputs": [
        {
          "output_type": "execute_result",
          "data": {
            "text/plain": [
              "(150, 4)"
            ]
          },
          "metadata": {},
          "execution_count": 6
        }
      ]
    },
    {
      "cell_type": "code",
      "source": [
        "X_train,X_test,y_train,y_test=train_test_split(iris.data,iris.target,test_size=0.2,random_state=42)\n",
        "# random state - > used to select random data in a sequenece\n",
        "# to select randomly -> random_state=0"
      ],
      "metadata": {
        "id": "kPmNecae7sz0"
      },
      "execution_count": 7,
      "outputs": []
    },
    {
      "cell_type": "code",
      "source": [
        "X_train"
      ],
      "metadata": {
        "colab": {
          "base_uri": "https://localhost:8080/"
        },
        "id": "NcHOghsQ8YZy",
        "outputId": "8ecf5f23-13cb-4b70-d02a-0c7560513a4d"
      },
      "execution_count": 8,
      "outputs": [
        {
          "output_type": "execute_result",
          "data": {
            "text/plain": [
              "array([[4.6, 3.6, 1. , 0.2],\n",
              "       [5.7, 4.4, 1.5, 0.4],\n",
              "       [6.7, 3.1, 4.4, 1.4],\n",
              "       [4.8, 3.4, 1.6, 0.2],\n",
              "       [4.4, 3.2, 1.3, 0.2],\n",
              "       [6.3, 2.5, 5. , 1.9],\n",
              "       [6.4, 3.2, 4.5, 1.5],\n",
              "       [5.2, 3.5, 1.5, 0.2],\n",
              "       [5. , 3.6, 1.4, 0.2],\n",
              "       [5.2, 4.1, 1.5, 0.1],\n",
              "       [5.8, 2.7, 5.1, 1.9],\n",
              "       [6. , 3.4, 4.5, 1.6],\n",
              "       [6.7, 3.1, 4.7, 1.5],\n",
              "       [5.4, 3.9, 1.3, 0.4],\n",
              "       [5.4, 3.7, 1.5, 0.2],\n",
              "       [5.5, 2.4, 3.7, 1. ],\n",
              "       [6.3, 2.8, 5.1, 1.5],\n",
              "       [6.4, 3.1, 5.5, 1.8],\n",
              "       [6.6, 3. , 4.4, 1.4],\n",
              "       [7.2, 3.6, 6.1, 2.5],\n",
              "       [5.7, 2.9, 4.2, 1.3],\n",
              "       [7.6, 3. , 6.6, 2.1],\n",
              "       [5.6, 3. , 4.5, 1.5],\n",
              "       [5.1, 3.5, 1.4, 0.2],\n",
              "       [7.7, 2.8, 6.7, 2. ],\n",
              "       [5.8, 2.7, 4.1, 1. ],\n",
              "       [5.2, 3.4, 1.4, 0.2],\n",
              "       [5. , 3.5, 1.3, 0.3],\n",
              "       [5.1, 3.8, 1.9, 0.4],\n",
              "       [5. , 2. , 3.5, 1. ],\n",
              "       [6.3, 2.7, 4.9, 1.8],\n",
              "       [4.8, 3.4, 1.9, 0.2],\n",
              "       [5. , 3. , 1.6, 0.2],\n",
              "       [5.1, 3.3, 1.7, 0.5],\n",
              "       [5.6, 2.7, 4.2, 1.3],\n",
              "       [5.1, 3.4, 1.5, 0.2],\n",
              "       [5.7, 3. , 4.2, 1.2],\n",
              "       [7.7, 3.8, 6.7, 2.2],\n",
              "       [4.6, 3.2, 1.4, 0.2],\n",
              "       [6.2, 2.9, 4.3, 1.3],\n",
              "       [5.7, 2.5, 5. , 2. ],\n",
              "       [5.5, 4.2, 1.4, 0.2],\n",
              "       [6. , 3. , 4.8, 1.8],\n",
              "       [5.8, 2.7, 5.1, 1.9],\n",
              "       [6. , 2.2, 4. , 1. ],\n",
              "       [5.4, 3. , 4.5, 1.5],\n",
              "       [6.2, 3.4, 5.4, 2.3],\n",
              "       [5.5, 2.3, 4. , 1.3],\n",
              "       [5.4, 3.9, 1.7, 0.4],\n",
              "       [5. , 2.3, 3.3, 1. ],\n",
              "       [6.4, 2.7, 5.3, 1.9],\n",
              "       [5. , 3.3, 1.4, 0.2],\n",
              "       [5. , 3.2, 1.2, 0.2],\n",
              "       [5.5, 2.4, 3.8, 1.1],\n",
              "       [6.7, 3. , 5. , 1.7],\n",
              "       [4.9, 3.1, 1.5, 0.2],\n",
              "       [5.8, 2.8, 5.1, 2.4],\n",
              "       [5. , 3.4, 1.5, 0.2],\n",
              "       [5. , 3.5, 1.6, 0.6],\n",
              "       [5.9, 3.2, 4.8, 1.8],\n",
              "       [5.1, 2.5, 3. , 1.1],\n",
              "       [6.9, 3.2, 5.7, 2.3],\n",
              "       [6. , 2.7, 5.1, 1.6],\n",
              "       [6.1, 2.6, 5.6, 1.4],\n",
              "       [7.7, 3. , 6.1, 2.3],\n",
              "       [5.5, 2.5, 4. , 1.3],\n",
              "       [4.4, 2.9, 1.4, 0.2],\n",
              "       [4.3, 3. , 1.1, 0.1],\n",
              "       [6. , 2.2, 5. , 1.5],\n",
              "       [7.2, 3.2, 6. , 1.8],\n",
              "       [4.6, 3.1, 1.5, 0.2],\n",
              "       [5.1, 3.5, 1.4, 0.3],\n",
              "       [4.4, 3. , 1.3, 0.2],\n",
              "       [6.3, 2.5, 4.9, 1.5],\n",
              "       [6.3, 3.4, 5.6, 2.4],\n",
              "       [4.6, 3.4, 1.4, 0.3],\n",
              "       [6.8, 3. , 5.5, 2.1],\n",
              "       [6.3, 3.3, 6. , 2.5],\n",
              "       [4.7, 3.2, 1.3, 0.2],\n",
              "       [6.1, 2.9, 4.7, 1.4],\n",
              "       [6.5, 2.8, 4.6, 1.5],\n",
              "       [6.2, 2.8, 4.8, 1.8],\n",
              "       [7. , 3.2, 4.7, 1.4],\n",
              "       [6.4, 3.2, 5.3, 2.3],\n",
              "       [5.1, 3.8, 1.6, 0.2],\n",
              "       [6.9, 3.1, 5.4, 2.1],\n",
              "       [5.9, 3. , 4.2, 1.5],\n",
              "       [6.5, 3. , 5.2, 2. ],\n",
              "       [5.7, 2.6, 3.5, 1. ],\n",
              "       [5.2, 2.7, 3.9, 1.4],\n",
              "       [6.1, 3. , 4.6, 1.4],\n",
              "       [4.5, 2.3, 1.3, 0.3],\n",
              "       [6.6, 2.9, 4.6, 1.3],\n",
              "       [5.5, 2.6, 4.4, 1.2],\n",
              "       [5.3, 3.7, 1.5, 0.2],\n",
              "       [5.6, 3. , 4.1, 1.3],\n",
              "       [7.3, 2.9, 6.3, 1.8],\n",
              "       [6.7, 3.3, 5.7, 2.1],\n",
              "       [5.1, 3.7, 1.5, 0.4],\n",
              "       [4.9, 2.4, 3.3, 1. ],\n",
              "       [6.7, 3.3, 5.7, 2.5],\n",
              "       [7.2, 3. , 5.8, 1.6],\n",
              "       [4.9, 3.6, 1.4, 0.1],\n",
              "       [6.7, 3.1, 5.6, 2.4],\n",
              "       [4.9, 3. , 1.4, 0.2],\n",
              "       [6.9, 3.1, 4.9, 1.5],\n",
              "       [7.4, 2.8, 6.1, 1.9],\n",
              "       [6.3, 2.9, 5.6, 1.8],\n",
              "       [5.7, 2.8, 4.1, 1.3],\n",
              "       [6.5, 3. , 5.5, 1.8],\n",
              "       [6.3, 2.3, 4.4, 1.3],\n",
              "       [6.4, 2.9, 4.3, 1.3],\n",
              "       [5.6, 2.8, 4.9, 2. ],\n",
              "       [5.9, 3. , 5.1, 1.8],\n",
              "       [5.4, 3.4, 1.7, 0.2],\n",
              "       [6.1, 2.8, 4. , 1.3],\n",
              "       [4.9, 2.5, 4.5, 1.7],\n",
              "       [5.8, 4. , 1.2, 0.2],\n",
              "       [5.8, 2.6, 4. , 1.2],\n",
              "       [7.1, 3. , 5.9, 2.1]])"
            ]
          },
          "metadata": {},
          "execution_count": 8
        }
      ]
    },
    {
      "cell_type": "code",
      "source": [
        "# Sequential is used when we want our layers in a sequence(input layer, hidden layer and output layer )\n",
        "# Dense is used to fully connect the neuron( apne aage wale layer se fully connected ho jaye)(har ek neuron hidden layer ke her ek neuron se connect ho jayega)\n",
        "# relu is used to overcome vanishing gradient problem\n",
        "# softmax is used for mutliclass classification\n",
        "from tensorflow.keras.regularizers import l1\n",
        "\n",
        "model=Sequential([\n",
        "    Dense(units=3,activation=\"relu\",input_shape=(X_train.shape[1],), kernel_regularizer=l1(.01)), # hidden layer\n",
        "    Dense(units=3,activation=\"softmax\",)# output layer\n",
        "])"
      ],
      "metadata": {
        "id": "CQrCm0Gi8aPO"
      },
      "execution_count": 9,
      "outputs": []
    },
    {
      "cell_type": "code",
      "source": [
        "model.summary()"
      ],
      "metadata": {
        "colab": {
          "base_uri": "https://localhost:8080/"
        },
        "id": "amqckJy9A9LS",
        "outputId": "c03e641b-04fb-48fa-9821-68f55f4020ae"
      },
      "execution_count": 10,
      "outputs": [
        {
          "output_type": "stream",
          "name": "stdout",
          "text": [
            "Model: \"sequential\"\n",
            "_________________________________________________________________\n",
            " Layer (type)                Output Shape              Param #   \n",
            "=================================================================\n",
            " dense (Dense)               (None, 3)                 15        \n",
            "                                                                 \n",
            " dense_1 (Dense)             (None, 3)                 12        \n",
            "                                                                 \n",
            "=================================================================\n",
            "Total params: 27\n",
            "Trainable params: 27\n",
            "Non-trainable params: 0\n",
            "_________________________________________________________________\n"
          ]
        }
      ]
    },
    {
      "cell_type": "code",
      "source": [
        "model.compile(optimizer=\"SGD\",loss=\"sparse_categorical_crossentropy\",metrics=[\"accuracy\"])\n",
        "# optimizer --> stochastic gradient descent\n",
        "# sparse_categorical_entropy - multi class classification"
      ],
      "metadata": {
        "id": "iCN2OQpCBir2"
      },
      "execution_count": 11,
      "outputs": []
    },
    {
      "cell_type": "code",
      "source": [
        "model.fit(X_train,y_train,epochs=100, verbose=1)"
      ],
      "metadata": {
        "colab": {
          "base_uri": "https://localhost:8080/"
        },
        "id": "2ECkVJGqBvvF",
        "outputId": "058c75e8-5abe-4c3c-a6e4-343cbc80d699"
      },
      "execution_count": 12,
      "outputs": [
        {
          "output_type": "stream",
          "name": "stdout",
          "text": [
            "Epoch 1/100\n",
            "4/4 [==============================] - 1s 5ms/step - loss: 1.1523 - accuracy: 0.2667\n",
            "Epoch 2/100\n",
            "4/4 [==============================] - 0s 4ms/step - loss: 1.1522 - accuracy: 0.3333\n",
            "Epoch 3/100\n",
            "4/4 [==============================] - 0s 3ms/step - loss: 1.1523 - accuracy: 0.2583\n",
            "Epoch 4/100\n",
            "4/4 [==============================] - 0s 3ms/step - loss: 1.1521 - accuracy: 0.3083\n",
            "Epoch 5/100\n",
            "4/4 [==============================] - 0s 3ms/step - loss: 1.1522 - accuracy: 0.2667\n",
            "Epoch 6/100\n",
            "4/4 [==============================] - 0s 3ms/step - loss: 1.1520 - accuracy: 0.2750\n",
            "Epoch 7/100\n",
            "4/4 [==============================] - 0s 3ms/step - loss: 1.1520 - accuracy: 0.3083\n",
            "Epoch 8/100\n",
            "4/4 [==============================] - 0s 4ms/step - loss: 1.1519 - accuracy: 0.3167\n",
            "Epoch 9/100\n",
            "4/4 [==============================] - 0s 4ms/step - loss: 1.1519 - accuracy: 0.2917\n",
            "Epoch 10/100\n",
            "4/4 [==============================] - 0s 4ms/step - loss: 1.1518 - accuracy: 0.3083\n",
            "Epoch 11/100\n",
            "4/4 [==============================] - 0s 4ms/step - loss: 1.1518 - accuracy: 0.3417\n",
            "Epoch 12/100\n",
            "4/4 [==============================] - 0s 3ms/step - loss: 1.1517 - accuracy: 0.3083\n",
            "Epoch 13/100\n",
            "4/4 [==============================] - 0s 3ms/step - loss: 1.1516 - accuracy: 0.3000\n",
            "Epoch 14/100\n",
            "4/4 [==============================] - 0s 4ms/step - loss: 1.1516 - accuracy: 0.3333\n",
            "Epoch 15/100\n",
            "4/4 [==============================] - 0s 4ms/step - loss: 1.1516 - accuracy: 0.2917\n",
            "Epoch 16/100\n",
            "4/4 [==============================] - 0s 4ms/step - loss: 1.1516 - accuracy: 0.3000\n",
            "Epoch 17/100\n",
            "4/4 [==============================] - 0s 4ms/step - loss: 1.1514 - accuracy: 0.3167\n",
            "Epoch 18/100\n",
            "4/4 [==============================] - 0s 3ms/step - loss: 1.1514 - accuracy: 0.3167\n",
            "Epoch 19/100\n",
            "4/4 [==============================] - 0s 4ms/step - loss: 1.1513 - accuracy: 0.3417\n",
            "Epoch 20/100\n",
            "4/4 [==============================] - 0s 3ms/step - loss: 1.1513 - accuracy: 0.3167\n",
            "Epoch 21/100\n",
            "4/4 [==============================] - 0s 4ms/step - loss: 1.1512 - accuracy: 0.3167\n",
            "Epoch 22/100\n",
            "4/4 [==============================] - 0s 5ms/step - loss: 1.1513 - accuracy: 0.2833\n",
            "Epoch 23/100\n",
            "4/4 [==============================] - 0s 4ms/step - loss: 1.1511 - accuracy: 0.3417\n",
            "Epoch 24/100\n",
            "4/4 [==============================] - 0s 5ms/step - loss: 1.1511 - accuracy: 0.3417\n",
            "Epoch 25/100\n",
            "4/4 [==============================] - 0s 5ms/step - loss: 1.1510 - accuracy: 0.3417\n",
            "Epoch 26/100\n",
            "4/4 [==============================] - 0s 5ms/step - loss: 1.1510 - accuracy: 0.3417\n",
            "Epoch 27/100\n",
            "4/4 [==============================] - 0s 4ms/step - loss: 1.1509 - accuracy: 0.3417\n",
            "Epoch 28/100\n",
            "4/4 [==============================] - 0s 6ms/step - loss: 1.1509 - accuracy: 0.3417\n",
            "Epoch 29/100\n",
            "4/4 [==============================] - 0s 5ms/step - loss: 1.1509 - accuracy: 0.3417\n",
            "Epoch 30/100\n",
            "4/4 [==============================] - 0s 4ms/step - loss: 1.1508 - accuracy: 0.3417\n",
            "Epoch 31/100\n",
            "4/4 [==============================] - 0s 5ms/step - loss: 1.1508 - accuracy: 0.3417\n",
            "Epoch 32/100\n",
            "4/4 [==============================] - 0s 5ms/step - loss: 1.1507 - accuracy: 0.3417\n",
            "Epoch 33/100\n",
            "4/4 [==============================] - 0s 4ms/step - loss: 1.1506 - accuracy: 0.3417\n",
            "Epoch 34/100\n",
            "4/4 [==============================] - 0s 4ms/step - loss: 1.1506 - accuracy: 0.3417\n",
            "Epoch 35/100\n",
            "4/4 [==============================] - 0s 4ms/step - loss: 1.1506 - accuracy: 0.3417\n",
            "Epoch 36/100\n",
            "4/4 [==============================] - 0s 5ms/step - loss: 1.1505 - accuracy: 0.3417\n",
            "Epoch 37/100\n",
            "4/4 [==============================] - 0s 5ms/step - loss: 1.1504 - accuracy: 0.3417\n",
            "Epoch 38/100\n",
            "4/4 [==============================] - 0s 4ms/step - loss: 1.1504 - accuracy: 0.3417\n",
            "Epoch 39/100\n",
            "4/4 [==============================] - 0s 4ms/step - loss: 1.1504 - accuracy: 0.3417\n",
            "Epoch 40/100\n",
            "4/4 [==============================] - 0s 5ms/step - loss: 1.1503 - accuracy: 0.3417\n",
            "Epoch 41/100\n",
            "4/4 [==============================] - 0s 4ms/step - loss: 1.1503 - accuracy: 0.3417\n",
            "Epoch 42/100\n",
            "4/4 [==============================] - 0s 5ms/step - loss: 1.1502 - accuracy: 0.3417\n",
            "Epoch 43/100\n",
            "4/4 [==============================] - 0s 4ms/step - loss: 1.1501 - accuracy: 0.3417\n",
            "Epoch 44/100\n",
            "4/4 [==============================] - 0s 4ms/step - loss: 1.1501 - accuracy: 0.3417\n",
            "Epoch 45/100\n",
            "4/4 [==============================] - 0s 4ms/step - loss: 1.1502 - accuracy: 0.3417\n",
            "Epoch 46/100\n",
            "4/4 [==============================] - 0s 4ms/step - loss: 1.1501 - accuracy: 0.3417\n",
            "Epoch 47/100\n",
            "4/4 [==============================] - 0s 4ms/step - loss: 1.1500 - accuracy: 0.3417\n",
            "Epoch 48/100\n",
            "4/4 [==============================] - 0s 4ms/step - loss: 1.1501 - accuracy: 0.3417\n",
            "Epoch 49/100\n",
            "4/4 [==============================] - 0s 5ms/step - loss: 1.1499 - accuracy: 0.3417\n",
            "Epoch 50/100\n",
            "4/4 [==============================] - 0s 4ms/step - loss: 1.1499 - accuracy: 0.3417\n",
            "Epoch 51/100\n",
            "4/4 [==============================] - 0s 4ms/step - loss: 1.1498 - accuracy: 0.3417\n",
            "Epoch 52/100\n",
            "4/4 [==============================] - 0s 5ms/step - loss: 1.1498 - accuracy: 0.3417\n",
            "Epoch 53/100\n",
            "4/4 [==============================] - 0s 5ms/step - loss: 1.1497 - accuracy: 0.3417\n",
            "Epoch 54/100\n",
            "4/4 [==============================] - 0s 4ms/step - loss: 1.1497 - accuracy: 0.3417\n",
            "Epoch 55/100\n",
            "4/4 [==============================] - 0s 4ms/step - loss: 1.1497 - accuracy: 0.3417\n",
            "Epoch 56/100\n",
            "4/4 [==============================] - 0s 4ms/step - loss: 1.1495 - accuracy: 0.3417\n",
            "Epoch 57/100\n",
            "4/4 [==============================] - 0s 4ms/step - loss: 1.1495 - accuracy: 0.3417\n",
            "Epoch 58/100\n",
            "4/4 [==============================] - 0s 5ms/step - loss: 1.1495 - accuracy: 0.3417\n",
            "Epoch 59/100\n",
            "4/4 [==============================] - 0s 4ms/step - loss: 1.1494 - accuracy: 0.3417\n",
            "Epoch 60/100\n",
            "4/4 [==============================] - 0s 4ms/step - loss: 1.1494 - accuracy: 0.3417\n",
            "Epoch 61/100\n",
            "4/4 [==============================] - 0s 4ms/step - loss: 1.1494 - accuracy: 0.3417\n",
            "Epoch 62/100\n",
            "4/4 [==============================] - 0s 5ms/step - loss: 1.1493 - accuracy: 0.3417\n",
            "Epoch 63/100\n",
            "4/4 [==============================] - 0s 4ms/step - loss: 1.1493 - accuracy: 0.3417\n",
            "Epoch 64/100\n",
            "4/4 [==============================] - 0s 4ms/step - loss: 1.1492 - accuracy: 0.3417\n",
            "Epoch 65/100\n",
            "4/4 [==============================] - 0s 4ms/step - loss: 1.1492 - accuracy: 0.3417\n",
            "Epoch 66/100\n",
            "4/4 [==============================] - 0s 4ms/step - loss: 1.1491 - accuracy: 0.3417\n",
            "Epoch 67/100\n",
            "4/4 [==============================] - 0s 4ms/step - loss: 1.1491 - accuracy: 0.3417\n",
            "Epoch 68/100\n",
            "4/4 [==============================] - 0s 4ms/step - loss: 1.1490 - accuracy: 0.3417\n",
            "Epoch 69/100\n",
            "4/4 [==============================] - 0s 4ms/step - loss: 1.1490 - accuracy: 0.3417\n",
            "Epoch 70/100\n",
            "4/4 [==============================] - 0s 8ms/step - loss: 1.1489 - accuracy: 0.3417\n",
            "Epoch 71/100\n",
            "4/4 [==============================] - 0s 10ms/step - loss: 1.1489 - accuracy: 0.3417\n",
            "Epoch 72/100\n",
            "4/4 [==============================] - 0s 9ms/step - loss: 1.1489 - accuracy: 0.3417\n",
            "Epoch 73/100\n",
            "4/4 [==============================] - 0s 8ms/step - loss: 1.1488 - accuracy: 0.3417\n",
            "Epoch 74/100\n",
            "4/4 [==============================] - 0s 8ms/step - loss: 1.1488 - accuracy: 0.3417\n",
            "Epoch 75/100\n",
            "4/4 [==============================] - 0s 8ms/step - loss: 1.1487 - accuracy: 0.3417\n",
            "Epoch 76/100\n",
            "4/4 [==============================] - 0s 7ms/step - loss: 1.1487 - accuracy: 0.3417\n",
            "Epoch 77/100\n",
            "4/4 [==============================] - 0s 10ms/step - loss: 1.1486 - accuracy: 0.3417\n",
            "Epoch 78/100\n",
            "4/4 [==============================] - 0s 8ms/step - loss: 1.1486 - accuracy: 0.3417\n",
            "Epoch 79/100\n",
            "4/4 [==============================] - 0s 10ms/step - loss: 1.1485 - accuracy: 0.3417\n",
            "Epoch 80/100\n",
            "4/4 [==============================] - 0s 6ms/step - loss: 1.1486 - accuracy: 0.3417\n",
            "Epoch 81/100\n",
            "4/4 [==============================] - 0s 7ms/step - loss: 1.1484 - accuracy: 0.3417\n",
            "Epoch 82/100\n",
            "4/4 [==============================] - 0s 7ms/step - loss: 1.1484 - accuracy: 0.3417\n",
            "Epoch 83/100\n",
            "4/4 [==============================] - 0s 6ms/step - loss: 1.1484 - accuracy: 0.3417\n",
            "Epoch 84/100\n",
            "4/4 [==============================] - 0s 5ms/step - loss: 1.1483 - accuracy: 0.3417\n",
            "Epoch 85/100\n",
            "4/4 [==============================] - 0s 7ms/step - loss: 1.1482 - accuracy: 0.3417\n",
            "Epoch 86/100\n",
            "4/4 [==============================] - 0s 7ms/step - loss: 1.1483 - accuracy: 0.3417\n",
            "Epoch 87/100\n",
            "4/4 [==============================] - 0s 7ms/step - loss: 1.1482 - accuracy: 0.3417\n",
            "Epoch 88/100\n",
            "4/4 [==============================] - 0s 6ms/step - loss: 1.1482 - accuracy: 0.3417\n",
            "Epoch 89/100\n",
            "4/4 [==============================] - 0s 7ms/step - loss: 1.1482 - accuracy: 0.3417\n",
            "Epoch 90/100\n",
            "4/4 [==============================] - 0s 7ms/step - loss: 1.1481 - accuracy: 0.3417\n",
            "Epoch 91/100\n",
            "4/4 [==============================] - 0s 8ms/step - loss: 1.1480 - accuracy: 0.3417\n",
            "Epoch 92/100\n",
            "4/4 [==============================] - 0s 6ms/step - loss: 1.1480 - accuracy: 0.3417\n",
            "Epoch 93/100\n",
            "4/4 [==============================] - 0s 6ms/step - loss: 1.1479 - accuracy: 0.3417\n",
            "Epoch 94/100\n",
            "4/4 [==============================] - 0s 13ms/step - loss: 1.1479 - accuracy: 0.3417\n",
            "Epoch 95/100\n",
            "4/4 [==============================] - 0s 11ms/step - loss: 1.1478 - accuracy: 0.3417\n",
            "Epoch 96/100\n",
            "4/4 [==============================] - 0s 5ms/step - loss: 1.1479 - accuracy: 0.3417\n",
            "Epoch 97/100\n",
            "4/4 [==============================] - 0s 4ms/step - loss: 1.1478 - accuracy: 0.3417\n",
            "Epoch 98/100\n",
            "4/4 [==============================] - 0s 5ms/step - loss: 1.1477 - accuracy: 0.3417\n",
            "Epoch 99/100\n",
            "4/4 [==============================] - 0s 4ms/step - loss: 1.1476 - accuracy: 0.3417\n",
            "Epoch 100/100\n",
            "4/4 [==============================] - 0s 5ms/step - loss: 1.1478 - accuracy: 0.3417\n"
          ]
        },
        {
          "output_type": "execute_result",
          "data": {
            "text/plain": [
              "<keras.callbacks.History at 0x7d511812f4f0>"
            ]
          },
          "metadata": {},
          "execution_count": 12
        }
      ]
    },
    {
      "cell_type": "code",
      "source": [
        "model.evaluate(X_test,y_test)"
      ],
      "metadata": {
        "colab": {
          "base_uri": "https://localhost:8080/"
        },
        "id": "J6irXcjLC_Ev",
        "outputId": "84e72296-2928-43f4-84d2-faa7aaa14fc3"
      },
      "execution_count": 13,
      "outputs": [
        {
          "output_type": "stream",
          "name": "stdout",
          "text": [
            "1/1 [==============================] - 0s 168ms/step - loss: 1.1489 - accuracy: 0.3000\n"
          ]
        },
        {
          "output_type": "execute_result",
          "data": {
            "text/plain": [
              "[1.1489323377609253, 0.30000001192092896]"
            ]
          },
          "metadata": {},
          "execution_count": 13
        }
      ]
    },
    {
      "cell_type": "code",
      "source": [
        "model.predict(X_test)"
      ],
      "metadata": {
        "colab": {
          "base_uri": "https://localhost:8080/"
        },
        "id": "7Q7QwideENKG",
        "outputId": "5739afd9-5f42-4df1-cbb3-1607c21f9508"
      },
      "execution_count": 14,
      "outputs": [
        {
          "output_type": "stream",
          "name": "stdout",
          "text": [
            "1/1 [==============================] - 0s 79ms/step\n"
          ]
        },
        {
          "output_type": "execute_result",
          "data": {
            "text/plain": [
              "array([[0.33404538, 0.33861142, 0.3273431 ],\n",
              "       [0.33404538, 0.33861142, 0.3273431 ],\n",
              "       [0.33404538, 0.33861142, 0.3273431 ],\n",
              "       [0.33404538, 0.33861142, 0.3273431 ],\n",
              "       [0.33404538, 0.33861142, 0.3273431 ],\n",
              "       [0.33404538, 0.33861142, 0.3273431 ],\n",
              "       [0.33404538, 0.33861142, 0.3273431 ],\n",
              "       [0.33404538, 0.33861142, 0.3273431 ],\n",
              "       [0.33404538, 0.33861142, 0.3273431 ],\n",
              "       [0.33404538, 0.33861142, 0.3273431 ],\n",
              "       [0.33404538, 0.33861142, 0.3273431 ],\n",
              "       [0.33404538, 0.33861142, 0.3273431 ],\n",
              "       [0.33404538, 0.33861142, 0.3273431 ],\n",
              "       [0.33404538, 0.33861142, 0.3273431 ],\n",
              "       [0.33404538, 0.33861142, 0.3273431 ],\n",
              "       [0.33404538, 0.33861142, 0.3273431 ],\n",
              "       [0.33404538, 0.33861142, 0.3273431 ],\n",
              "       [0.33404538, 0.33861142, 0.3273431 ],\n",
              "       [0.33404538, 0.33861142, 0.3273431 ],\n",
              "       [0.33404538, 0.33861142, 0.3273431 ],\n",
              "       [0.33404538, 0.33861142, 0.3273431 ],\n",
              "       [0.33404538, 0.33861142, 0.3273431 ],\n",
              "       [0.33404538, 0.33861142, 0.3273431 ],\n",
              "       [0.33404538, 0.33861142, 0.3273431 ],\n",
              "       [0.33404538, 0.33861142, 0.3273431 ],\n",
              "       [0.33404538, 0.33861142, 0.3273431 ],\n",
              "       [0.33404538, 0.33861142, 0.3273431 ],\n",
              "       [0.33404538, 0.33861142, 0.3273431 ],\n",
              "       [0.33404538, 0.33861142, 0.3273431 ],\n",
              "       [0.33404538, 0.33861142, 0.3273431 ]], dtype=float32)"
            ]
          },
          "metadata": {},
          "execution_count": 14
        }
      ]
    },
    {
      "cell_type": "code",
      "source": [
        "# new project"
      ],
      "metadata": {
        "id": "r1hYWh0WEUKl"
      },
      "execution_count": 15,
      "outputs": []
    },
    {
      "cell_type": "code",
      "source": [
        "import tensorflow as tf\n",
        "from tensorflow.keras.models import Sequential\n",
        "from tensorflow.keras.datasets import mnist\n",
        "from tensorflow.keras.layers import Dense,Flatten\n",
        "from sklearn.model_selection import train_test_split\n",
        "from sklearn.preprocessing import StandardScaler\n",
        "from tensorflow.keras.utils import to_categorical"
      ],
      "metadata": {
        "id": "L_SI8wJRKllD"
      },
      "execution_count": 16,
      "outputs": []
    },
    {
      "cell_type": "code",
      "source": [
        "(x_train,y_train),(x_test,y_test) = mnist.load_data()"
      ],
      "metadata": {
        "colab": {
          "base_uri": "https://localhost:8080/"
        },
        "id": "PnxXrLHfKsLW",
        "outputId": "5223e894-f199-4b01-8b51-f8ade3003933"
      },
      "execution_count": 17,
      "outputs": [
        {
          "output_type": "stream",
          "name": "stdout",
          "text": [
            "Downloading data from https://storage.googleapis.com/tensorflow/tf-keras-datasets/mnist.npz\n",
            "11490434/11490434 [==============================] - 0s 0us/step\n"
          ]
        }
      ]
    },
    {
      "cell_type": "code",
      "source": [
        "x_train.shape # 28 rows, 28 cols and 60,000 entries"
      ],
      "metadata": {
        "colab": {
          "base_uri": "https://localhost:8080/"
        },
        "id": "kFg9kYFNK4AZ",
        "outputId": "89906803-818b-4998-9e35-1042da34a356"
      },
      "execution_count": 18,
      "outputs": [
        {
          "output_type": "execute_result",
          "data": {
            "text/plain": [
              "(60000, 28, 28)"
            ]
          },
          "metadata": {},
          "execution_count": 18
        }
      ]
    },
    {
      "cell_type": "code",
      "source": [
        "y_train.shape"
      ],
      "metadata": {
        "colab": {
          "base_uri": "https://localhost:8080/"
        },
        "id": "0sbzSvvpLPDu",
        "outputId": "3ec63ea7-d62e-48a7-f7df-e6097c1a2225"
      },
      "execution_count": 19,
      "outputs": [
        {
          "output_type": "execute_result",
          "data": {
            "text/plain": [
              "(60000,)"
            ]
          },
          "metadata": {},
          "execution_count": 19
        }
      ]
    },
    {
      "cell_type": "code",
      "source": [
        "y_train=to_categorical(y_train,num_classes=10)\n",
        "y_test=to_categorical(y_test,num_classes=10)\n",
        "# target variable"
      ],
      "metadata": {
        "id": "tCVFVy0QLRTs"
      },
      "execution_count": 20,
      "outputs": []
    },
    {
      "cell_type": "code",
      "source": [
        "x_train=x_train/255\n",
        "x_test=x_test/255"
      ],
      "metadata": {
        "id": "cfDQHmrsX014"
      },
      "execution_count": 21,
      "outputs": []
    },
    {
      "cell_type": "code",
      "source": [
        "y_train.shape\n",
        "# array of size 10"
      ],
      "metadata": {
        "colab": {
          "base_uri": "https://localhost:8080/"
        },
        "id": "IJlY54lSP3Ia",
        "outputId": "75b8466e-11cb-42c3-911e-67b9e197a1e7"
      },
      "execution_count": 22,
      "outputs": [
        {
          "output_type": "execute_result",
          "data": {
            "text/plain": [
              "(60000, 10)"
            ]
          },
          "metadata": {},
          "execution_count": 22
        }
      ]
    },
    {
      "cell_type": "code",
      "source": [
        "from tensorflow.keras.regularizers import l1\n",
        "\n",
        "\n",
        "model=Sequential([\n",
        "    Flatten(input_shape=(28,28)),\n",
        "    Dense(528,activation=\"relu\"), # hidden layer # relu because output is in numbers # relu is good for hidden layer\n",
        "    Dense(250,activation=\"relu\"),\n",
        "    Dense(100,activation=\"relu\"),\n",
        "    Dense(10,activation=\"softmax\",)# output layer\n",
        "])"
      ],
      "metadata": {
        "id": "U5fVNgStLaMS"
      },
      "execution_count": 23,
      "outputs": []
    },
    {
      "cell_type": "code",
      "source": [
        "model.compile(optimizer=\"adam\",loss=\"categorical_crossentropy\",metrics=([\"accuracy\"]))"
      ],
      "metadata": {
        "id": "6o6bVM4pObCH"
      },
      "execution_count": 24,
      "outputs": []
    },
    {
      "cell_type": "code",
      "source": [
        "model.summary()"
      ],
      "metadata": {
        "colab": {
          "base_uri": "https://localhost:8080/"
        },
        "id": "QkJ6-I8JRRxI",
        "outputId": "3db172ef-08c4-45f9-e15d-985f4d9f555b"
      },
      "execution_count": 25,
      "outputs": [
        {
          "output_type": "stream",
          "name": "stdout",
          "text": [
            "Model: \"sequential_1\"\n",
            "_________________________________________________________________\n",
            " Layer (type)                Output Shape              Param #   \n",
            "=================================================================\n",
            " flatten (Flatten)           (None, 784)               0         \n",
            "                                                                 \n",
            " dense_2 (Dense)             (None, 528)               414480    \n",
            "                                                                 \n",
            " dense_3 (Dense)             (None, 250)               132250    \n",
            "                                                                 \n",
            " dense_4 (Dense)             (None, 100)               25100     \n",
            "                                                                 \n",
            " dense_5 (Dense)             (None, 10)                1010      \n",
            "                                                                 \n",
            "=================================================================\n",
            "Total params: 572,840\n",
            "Trainable params: 572,840\n",
            "Non-trainable params: 0\n",
            "_________________________________________________________________\n"
          ]
        }
      ]
    },
    {
      "cell_type": "code",
      "source": [
        "model.fit(x_train ,y_train, epochs=5, batch_size=32, verbose=2)"
      ],
      "metadata": {
        "colab": {
          "base_uri": "https://localhost:8080/"
        },
        "id": "mg1kGSzhRUfX",
        "outputId": "5e531299-9a39-4f02-b120-522c3e231bcd"
      },
      "execution_count": 26,
      "outputs": [
        {
          "output_type": "stream",
          "name": "stdout",
          "text": [
            "Epoch 1/5\n",
            "1875/1875 - 25s - loss: 0.1951 - accuracy: 0.9402 - 25s/epoch - 13ms/step\n",
            "Epoch 2/5\n",
            "1875/1875 - 22s - loss: 0.0856 - accuracy: 0.9730 - 22s/epoch - 12ms/step\n",
            "Epoch 3/5\n",
            "1875/1875 - 16s - loss: 0.0617 - accuracy: 0.9810 - 16s/epoch - 9ms/step\n",
            "Epoch 4/5\n",
            "1875/1875 - 16s - loss: 0.0484 - accuracy: 0.9846 - 16s/epoch - 8ms/step\n",
            "Epoch 5/5\n",
            "1875/1875 - 16s - loss: 0.0396 - accuracy: 0.9873 - 16s/epoch - 8ms/step\n"
          ]
        },
        {
          "output_type": "execute_result",
          "data": {
            "text/plain": [
              "<keras.callbacks.History at 0x7d510bf46f80>"
            ]
          },
          "metadata": {},
          "execution_count": 26
        }
      ]
    },
    {
      "cell_type": "code",
      "source": [
        "model.evaluate(x_test,y_test)"
      ],
      "metadata": {
        "colab": {
          "base_uri": "https://localhost:8080/"
        },
        "id": "7wXaj0nLTGiW",
        "outputId": "ee2202b0-99c8-4702-8994-ac252f26ea77"
      },
      "execution_count": 27,
      "outputs": [
        {
          "output_type": "stream",
          "name": "stdout",
          "text": [
            "313/313 [==============================] - 1s 4ms/step - loss: 0.0788 - accuracy: 0.9796\n"
          ]
        },
        {
          "output_type": "execute_result",
          "data": {
            "text/plain": [
              "[0.07880352437496185, 0.9796000123023987]"
            ]
          },
          "metadata": {},
          "execution_count": 27
        }
      ]
    },
    {
      "cell_type": "code",
      "source": [
        "model.save(\"mnist_model.h5\")"
      ],
      "metadata": {
        "id": "VvKpYq9_T-op"
      },
      "execution_count": 28,
      "outputs": []
    },
    {
      "cell_type": "code",
      "source": [
        "model.get_weights()"
      ],
      "metadata": {
        "colab": {
          "base_uri": "https://localhost:8080/"
        },
        "id": "3I3YO4dnUGzE",
        "outputId": "7aec11bc-a5a4-4cab-f92b-44495a05b7ff"
      },
      "execution_count": 29,
      "outputs": [
        {
          "output_type": "execute_result",
          "data": {
            "text/plain": [
              "[array([[-0.05410859, -0.02920748, -0.00308814, ...,  0.03589352,\n",
              "         -0.04090673, -0.0476665 ],\n",
              "        [-0.01511678,  0.0370897 , -0.03414454, ..., -0.00671621,\n",
              "         -0.05511382,  0.03578977],\n",
              "        [ 0.00786187,  0.010585  , -0.06275432, ..., -0.0536097 ,\n",
              "          0.04675899,  0.06607388],\n",
              "        ...,\n",
              "        [-0.04904276,  0.01551819,  0.05994779, ..., -0.03543529,\n",
              "         -0.05431869, -0.00027053],\n",
              "        [ 0.0543882 , -0.001236  , -0.0301804 , ...,  0.04604762,\n",
              "          0.04922809,  0.04018226],\n",
              "        [-0.00988555,  0.04097202,  0.03738566, ..., -0.02218266,\n",
              "         -0.05860613, -0.03795306]], dtype=float32),\n",
              " array([ 1.61790941e-02,  6.76909313e-02, -1.79200955e-02, -5.08784279e-02,\n",
              "         1.94599088e-02, -1.13213649e-02,  2.60084234e-02, -1.97441168e-02,\n",
              "        -2.63357591e-02,  3.33275646e-02, -1.48893893e-03, -6.14037365e-02,\n",
              "         2.93980781e-02,  9.32148471e-02, -2.71726158e-02, -5.22873066e-02,\n",
              "        -2.23898515e-03,  1.24926530e-02,  3.92840849e-03, -1.21546909e-02,\n",
              "         4.06078547e-02, -3.57574299e-02,  5.54018933e-03,  3.83366756e-02,\n",
              "        -6.95286766e-02,  3.33804749e-02, -1.85101181e-02, -4.99615446e-02,\n",
              "         8.99600517e-03,  2.01444551e-02, -5.08144461e-02,  1.50401648e-02,\n",
              "        -7.62210786e-02,  5.84948584e-02, -6.86819572e-03, -2.96486951e-02,\n",
              "         2.05967315e-02,  3.12276296e-02, -6.35903329e-02, -1.95689257e-02,\n",
              "        -1.20904278e-02, -3.14873941e-02,  6.07256256e-02, -3.38320099e-02,\n",
              "        -7.87895992e-02, -5.87637313e-02, -1.11415405e-02,  1.77504476e-02,\n",
              "        -5.10610566e-02,  4.11264114e-02, -1.23791583e-02, -6.78917617e-02,\n",
              "        -9.34102852e-03, -4.76859137e-03,  5.96545264e-02, -8.34199414e-02,\n",
              "        -4.58208732e-02,  3.04161590e-02, -4.58869487e-02, -2.35459041e-02,\n",
              "         2.85173748e-02,  6.72613457e-02, -6.13966435e-02,  9.05286334e-03,\n",
              "        -3.65912821e-03,  5.27249351e-02,  1.00735594e-02, -3.90941501e-02,\n",
              "         5.17734550e-02,  9.18742642e-02, -1.74035951e-02, -7.03580901e-02,\n",
              "         1.20037924e-02, -4.03817631e-02,  3.88611034e-02, -5.54353409e-02,\n",
              "        -3.66382524e-02, -1.98899172e-02,  3.40366177e-02, -3.35899852e-02,\n",
              "         2.86174025e-02,  8.37491825e-03, -1.77729037e-02,  8.13262016e-02,\n",
              "        -4.95764613e-02,  2.03024726e-02, -4.80999760e-02, -8.96651000e-02,\n",
              "        -1.08434744e-01, -6.50861636e-02, -4.17054780e-02, -9.82135814e-03,\n",
              "        -2.67006550e-02,  1.16597578e-01, -3.60189863e-02, -1.63621008e-02,\n",
              "         1.20208962e-02, -9.70710441e-02, -1.67093072e-02, -2.59993244e-02,\n",
              "        -4.80361059e-02, -2.24041361e-02,  7.12060109e-02, -5.23206592e-02,\n",
              "         9.69925430e-03, -3.36930691e-03, -4.82752658e-02,  7.18165888e-03,\n",
              "         1.20264785e-02,  3.49528641e-02, -2.47013625e-02, -5.50686149e-03,\n",
              "         2.70792227e-02, -3.43176015e-02,  4.04394558e-03,  1.11655984e-02,\n",
              "         2.40676547e-03,  3.01965065e-02,  2.13204995e-02, -6.29203692e-02,\n",
              "        -5.18312212e-03, -2.41474621e-02, -2.55378950e-02, -7.18266368e-02,\n",
              "        -1.24189053e-02,  3.24212313e-02, -9.42959171e-03,  2.70135291e-02,\n",
              "        -2.00277716e-02, -4.81048636e-02, -4.60739359e-02, -5.05020022e-02,\n",
              "        -6.48868084e-02,  1.14083802e-02, -4.20631766e-02,  2.30046026e-02,\n",
              "         8.69160332e-03, -2.54755337e-02, -5.68201728e-02, -5.23293242e-02,\n",
              "         9.16161016e-03,  1.74925402e-02, -5.65072000e-02, -4.92669754e-02,\n",
              "        -5.36683016e-02,  5.27566783e-02, -3.09417862e-02, -3.23876776e-02,\n",
              "         1.85212083e-02, -6.72092885e-02,  8.98970962e-02,  7.52589107e-02,\n",
              "         5.17228208e-02, -1.61850415e-02,  3.68761644e-02,  1.48670711e-02,\n",
              "         7.93332979e-03, -5.08068427e-02,  9.36298538e-03, -1.67637337e-02,\n",
              "        -3.85933295e-02, -7.35848919e-02,  6.88714581e-03, -8.90548676e-02,\n",
              "        -4.33407351e-03,  3.21310312e-02,  1.41157312e-02, -3.79227400e-02,\n",
              "        -3.69881168e-02,  5.13560548e-02, -6.03055991e-02, -1.48074711e-02,\n",
              "         5.18629774e-02,  9.86243188e-02, -1.79570392e-02, -5.15897013e-02,\n",
              "        -1.52482912e-02, -1.20895281e-02, -1.47312358e-01,  1.42583828e-02,\n",
              "        -8.63654241e-02, -5.14525175e-02, -7.57014900e-02,  1.72156338e-02,\n",
              "        -1.27236936e-02, -2.99728122e-02, -4.54340912e-02, -7.77056217e-02,\n",
              "        -7.88042843e-02, -5.29132113e-02, -1.64920054e-02, -1.70612875e-02,\n",
              "        -2.30731051e-02, -3.49147394e-02,  1.31697403e-02, -2.69230548e-02,\n",
              "        -8.47063437e-02, -2.65102051e-02,  7.89538324e-02, -8.12167302e-02,\n",
              "        -2.90555023e-02,  4.12038490e-02, -1.90192349e-02, -1.53657002e-02,\n",
              "        -4.44296002e-02, -4.13754620e-02,  2.04788968e-02, -8.63583013e-03,\n",
              "        -1.20384425e-01,  2.59818733e-02, -7.68130198e-02,  9.30300262e-03,\n",
              "        -4.08894904e-02, -7.72336051e-02, -5.56352129e-03, -6.05025217e-02,\n",
              "        -6.03983318e-03,  3.17489542e-02,  4.17459793e-02, -1.33294640e-02,\n",
              "        -5.31239435e-02, -5.60859591e-02, -6.08861521e-02,  8.02009483e-04,\n",
              "        -2.03140657e-02, -3.84654850e-02, -2.34493725e-02,  3.14050727e-03,\n",
              "        -9.19566378e-02, -1.17275668e-02, -5.72155081e-02, -4.84180078e-02,\n",
              "        -1.33607656e-01, -1.28559634e-01, -2.25508176e-02, -5.00202030e-02,\n",
              "         9.82889831e-02,  2.95896139e-02, -2.04373337e-02, -4.05163988e-02,\n",
              "         4.50480692e-02,  2.56414302e-02,  1.19719058e-02, -3.32712531e-02,\n",
              "        -5.46829542e-04,  5.04783262e-03,  3.76723073e-02, -3.83642688e-02,\n",
              "        -1.07605604e-03, -2.52984185e-02,  6.26282543e-02, -1.94167614e-03,\n",
              "        -8.17969292e-02, -6.22515082e-02,  9.21135861e-03,  5.24874367e-02,\n",
              "        -7.22519383e-02, -3.26347873e-02, -6.02520406e-02, -1.91511251e-02,\n",
              "         3.21344920e-02, -6.19866364e-02,  5.35981171e-02,  1.41896517e-03,\n",
              "        -4.30473872e-02,  6.44271746e-02, -6.65663481e-02, -7.62601383e-03,\n",
              "        -8.53488222e-02, -1.29411882e-02, -2.81442199e-02, -3.14806178e-02,\n",
              "        -7.35855997e-02,  1.66028906e-02, -4.26671654e-02, -1.67047698e-02,\n",
              "        -1.16102621e-02,  3.50645930e-03,  1.57291200e-02, -2.91652083e-02,\n",
              "        -1.21704511e-01, -7.33480901e-02, -8.17313567e-02,  8.80407356e-03,\n",
              "        -1.52135594e-02, -3.48945558e-02, -7.67909959e-02, -2.40043318e-03,\n",
              "        -1.53588941e-02, -2.31085662e-02,  4.60937293e-03, -5.91641478e-02,\n",
              "        -3.17862406e-02, -5.05442061e-02,  8.52007642e-02,  3.90493199e-02,\n",
              "        -1.86463725e-02,  2.60730423e-02, -5.37336208e-02, -2.50364263e-02,\n",
              "        -3.90490592e-02, -3.04722693e-02,  7.77456071e-03,  2.87402608e-02,\n",
              "         6.40293211e-02,  6.55518100e-03,  2.46790461e-02, -1.04660178e-02,\n",
              "         7.23475665e-02,  1.92942303e-02, -2.44175531e-02, -3.04558463e-02,\n",
              "         1.83315203e-02, -2.95001902e-02, -5.89479916e-02, -2.82867178e-02,\n",
              "        -2.31809840e-02, -3.64960656e-02, -5.90892881e-03, -4.99404706e-02,\n",
              "        -6.16038553e-02, -4.71239304e-03, -4.95829806e-02, -5.68735078e-02,\n",
              "         3.47116264e-03,  6.23993874e-02,  9.03166682e-02, -1.13119204e-02,\n",
              "         4.91623431e-02,  7.13374913e-02,  4.34824601e-02, -8.73256624e-02,\n",
              "        -8.06843415e-02, -4.01012041e-02,  2.68217474e-02,  3.38714803e-03,\n",
              "         5.16054742e-02, -6.08305447e-02,  2.93605216e-02, -1.10150520e-02,\n",
              "         5.74099869e-02, -1.32461814e-02,  1.72783397e-02,  7.73361325e-03,\n",
              "        -2.16552950e-02, -3.16159055e-02, -1.64435022e-02, -5.92675107e-03,\n",
              "        -2.70592552e-02, -3.74421179e-02, -3.27391177e-02,  1.39915850e-02,\n",
              "         8.17415304e-04,  5.13577135e-03,  7.78426928e-03, -2.80987062e-02,\n",
              "        -4.41896394e-02, -6.01777658e-02, -1.92814902e-03,  2.50681527e-02,\n",
              "         3.37480418e-02, -7.14526400e-02,  6.14433736e-02, -6.06586561e-02,\n",
              "         3.31281051e-02,  2.93787923e-02, -1.00494288e-01,  9.83365811e-04,\n",
              "         3.99730019e-02, -1.05044834e-01, -5.32344095e-02,  1.71189327e-02,\n",
              "        -3.48907188e-02,  1.78540573e-02,  3.23885009e-02,  2.53901221e-02,\n",
              "        -2.78841536e-02, -3.33091989e-02, -5.79007678e-02, -8.35202485e-02,\n",
              "        -2.01234985e-02, -1.96776856e-02, -4.28195521e-02,  2.53925659e-02,\n",
              "        -6.63837940e-02,  3.42589952e-02,  4.37400723e-03, -1.41199548e-02,\n",
              "         7.42350589e-04,  9.35922004e-03, -5.51196188e-02,  7.93050416e-03,\n",
              "        -4.08857800e-02,  9.73156914e-02, -6.29865527e-02, -5.40787317e-02,\n",
              "        -7.55448081e-03,  1.89935770e-02, -4.50539254e-02, -1.36237601e-02,\n",
              "         1.69211142e-02,  1.87211838e-02, -1.29225515e-02, -9.57883149e-02,\n",
              "        -4.80551720e-02, -8.59102756e-02, -4.65892479e-02,  4.29759733e-02,\n",
              "        -1.12344297e-02,  2.00564638e-02,  4.48750565e-03, -1.15862321e-02,\n",
              "        -4.19575758e-02, -1.83800142e-02,  7.19961524e-02, -8.67803693e-02,\n",
              "        -2.35025678e-02, -8.73800442e-02, -1.14300057e-01, -2.33531296e-02,\n",
              "        -2.65896823e-02, -1.50516957e-01, -7.57362619e-02, -2.05816682e-02,\n",
              "        -4.23679017e-02, -2.67459955e-02, -5.25492951e-02,  6.62547210e-03,\n",
              "        -3.34055126e-02, -5.41378818e-02, -1.86793581e-02, -5.13571724e-02,\n",
              "         3.64062674e-02, -1.89951193e-02, -1.10740336e-02, -4.36449200e-02,\n",
              "        -3.89976203e-02, -5.35576120e-02, -1.04637574e-02, -3.75174880e-02,\n",
              "        -1.98866688e-02, -5.62843820e-03, -1.82083100e-02, -3.89371105e-02,\n",
              "        -1.24302976e-01, -2.07882393e-02, -4.64185141e-02, -5.03771426e-03,\n",
              "         1.64323989e-02, -6.95774797e-03, -5.10403042e-05, -1.61764827e-02,\n",
              "         8.84357840e-02, -8.40861201e-02, -1.47893429e-02, -2.29151938e-02,\n",
              "         1.32659711e-02, -1.40300393e-03, -2.60299910e-02,  5.08281328e-02,\n",
              "         1.97414048e-02, -3.06508262e-02, -5.00132926e-02, -3.71235944e-02,\n",
              "        -6.60341606e-02,  1.87601931e-02, -9.96098970e-04,  5.63252121e-02,\n",
              "        -9.40043107e-02, -3.55316624e-02, -7.96460360e-02,  8.42691809e-02,\n",
              "        -5.27166277e-02,  2.17321776e-02,  1.10839777e-01, -3.78257558e-02,\n",
              "         1.61205325e-02, -1.94320437e-02,  3.94194610e-02, -6.44039810e-02,\n",
              "        -6.34822100e-02,  4.62122262e-02, -2.27507651e-02,  6.50381297e-02,\n",
              "        -5.73384017e-02, -4.67973873e-02, -6.58931732e-02, -1.72067005e-02,\n",
              "        -1.14697274e-02, -5.68232760e-02,  8.63726996e-03, -2.37533394e-02,\n",
              "         4.18918878e-02,  1.07389793e-01, -2.33756006e-02, -1.18326163e-02,\n",
              "        -9.57386941e-02,  2.65206806e-02,  1.47905499e-01,  4.70720045e-02,\n",
              "         7.47850835e-02,  6.61449805e-02, -5.50795309e-02,  2.78946869e-02,\n",
              "        -2.47884216e-03,  6.54150844e-02, -1.12242652e-02, -1.40341967e-02,\n",
              "        -2.25706827e-02, -9.23104435e-02,  1.31723555e-02,  6.05155621e-03,\n",
              "        -1.85829904e-02, -7.24168494e-02,  9.38965095e-05, -3.03992685e-02,\n",
              "         8.92156176e-03, -6.29031239e-03,  1.44161507e-02, -4.63554934e-02,\n",
              "        -6.80748969e-02, -5.74311875e-02, -8.47766921e-03,  5.38144261e-03,\n",
              "        -3.32218967e-02,  1.85439084e-02,  2.77685449e-02, -2.55029742e-02],\n",
              "       dtype=float32),\n",
              " array([[ 0.08592112,  0.02996867, -0.1499111 , ...,  0.00837694,\n",
              "         -0.04592144, -0.0919544 ],\n",
              "        [ 0.05137464,  0.14634912, -0.03036118, ..., -0.03824453,\n",
              "          0.06567843, -0.04879706],\n",
              "        [-0.05208932, -0.24690638,  0.00536544, ..., -0.17610835,\n",
              "          0.03658641,  0.0769737 ],\n",
              "        ...,\n",
              "        [-0.1049037 , -0.06579755,  0.0156256 , ..., -0.17251432,\n",
              "         -0.00811179, -0.02034456],\n",
              "        [ 0.05684091, -0.01877956,  0.05399674, ...,  0.02245856,\n",
              "         -0.08683586, -0.05306705],\n",
              "        [-0.08780009, -0.1362797 , -0.03778736, ..., -0.0470761 ,\n",
              "          0.05464668,  0.1353497 ]], dtype=float32),\n",
              " array([ 2.26826291e-03, -2.33781561e-02,  3.57208364e-02, -1.02289543e-01,\n",
              "         1.32246017e-01,  2.07424462e-01, -8.79916921e-02,  2.60355100e-02,\n",
              "         1.51436552e-02,  2.83208545e-02, -1.11158617e-01, -3.23364846e-02,\n",
              "         1.19694091e-01,  1.17280148e-01, -2.67585646e-02, -5.96967153e-02,\n",
              "        -8.06925893e-02,  1.06015220e-01,  1.57605149e-02, -7.08719417e-02,\n",
              "         1.91661660e-02, -2.20210124e-02,  5.12771420e-02, -4.41036932e-02,\n",
              "        -1.24638947e-02, -4.20797542e-02, -9.91323683e-03, -7.39891157e-02,\n",
              "        -9.55620855e-02,  1.35139450e-01, -2.45058220e-02, -1.70100741e-02,\n",
              "        -1.90343350e-01, -1.35171600e-02, -1.09168947e-01, -5.06281964e-02,\n",
              "         1.53280478e-02, -7.39777982e-02,  1.01596070e-02, -6.22539334e-02,\n",
              "         2.71168649e-02, -5.91765568e-02, -1.02815852e-01, -4.11463268e-02,\n",
              "         2.04297647e-01,  1.46010414e-01, -9.09975916e-02,  6.44518994e-03,\n",
              "         7.19358921e-02,  7.91053399e-02, -2.69992687e-02, -9.90283638e-02,\n",
              "         3.68458033e-02, -4.62329537e-02,  1.93415006e-04, -2.72619799e-02,\n",
              "         2.85190716e-02, -8.81790463e-03, -6.28113374e-02,  3.81769501e-02,\n",
              "         2.70553287e-02, -8.51362571e-02, -8.88539925e-02, -5.30612841e-02,\n",
              "        -6.84889778e-02, -1.35976151e-01, -6.05439804e-02, -3.16504724e-02,\n",
              "        -4.28932719e-02,  6.11598487e-04, -2.55948324e-02, -1.07242279e-01,\n",
              "        -4.70664613e-02, -3.28758312e-03, -5.00633009e-02, -8.58884901e-02,\n",
              "        -1.26533955e-01, -1.44962268e-02, -1.26002267e-01, -1.13046244e-01,\n",
              "        -6.76496793e-03, -4.73592505e-02, -1.36730913e-02, -6.37455136e-02,\n",
              "        -4.50175442e-02, -3.44642904e-03, -2.94108540e-02, -1.55526564e-01,\n",
              "        -1.08814925e-01, -3.62373213e-03, -5.23017757e-02,  1.49304613e-01,\n",
              "        -2.26914175e-02, -9.91637781e-02, -9.19405296e-02, -2.74087284e-02,\n",
              "        -8.04604515e-02,  8.70727468e-03,  3.80701907e-02,  1.53216049e-01,\n",
              "         6.55323267e-02, -9.73546654e-02,  3.41051370e-02,  1.11022666e-01,\n",
              "        -7.92114586e-02, -9.98493806e-02, -6.12320416e-02, -7.51254782e-02,\n",
              "        -2.41293194e-04,  1.42714530e-02, -9.40873027e-02,  6.81342259e-02,\n",
              "        -3.61524592e-03,  1.62822276e-01, -1.03240624e-01, -2.31304765e-02,\n",
              "        -7.31084198e-02, -1.87033508e-02, -2.25922428e-02,  4.37652096e-02,\n",
              "        -1.16762832e-01, -9.62952711e-03, -1.14845067e-01, -7.46565610e-02,\n",
              "        -5.36516830e-02, -8.72120485e-02, -1.33960605e-01, -6.86198175e-02,\n",
              "        -4.12411802e-03, -1.29788011e-01, -5.65099716e-02,  1.97806045e-01,\n",
              "        -4.61897142e-02, -5.62417693e-02,  1.02900617e-01, -8.07128027e-02,\n",
              "        -3.22590284e-02, -2.21174322e-02, -5.50316907e-02,  9.86851156e-02,\n",
              "         4.65375409e-02, -5.52578792e-02, -2.13253628e-02, -5.33465855e-02,\n",
              "         3.11326254e-02,  7.13833645e-02,  1.01275928e-01, -7.33367801e-02,\n",
              "        -6.37044460e-02, -5.86457588e-02, -2.68985759e-02, -2.37566866e-02,\n",
              "        -1.03613585e-01, -4.15575551e-03,  9.25736409e-03, -4.90952469e-02,\n",
              "        -4.64054272e-02, -1.84939094e-02, -8.61612055e-03, -1.30841270e-01,\n",
              "         1.14218205e-01, -9.63294804e-02,  8.98255780e-03, -9.79053229e-02,\n",
              "         1.29152074e-01, -1.20928884e-01,  1.41109265e-02, -5.83981276e-02,\n",
              "         1.39385611e-02, -5.27194887e-02,  6.94030970e-02, -3.82146649e-02,\n",
              "        -5.85520044e-02, -5.82085401e-02, -2.75395419e-02, -2.34185811e-02,\n",
              "        -8.72378647e-02,  1.07585296e-01, -3.60975787e-02,  6.89927414e-02,\n",
              "         5.65716885e-02, -4.19855937e-02, -9.93606225e-02,  1.03449404e-01,\n",
              "        -5.04706018e-02,  5.30807041e-02, -4.93280450e-03,  2.80636307e-02,\n",
              "        -6.75225034e-02,  2.40139648e-01,  6.75424263e-02,  2.86801308e-02,\n",
              "        -5.53798266e-02, -5.67124970e-02, -1.60111376e-05, -2.05801129e-02,\n",
              "        -4.73367535e-02, -1.90392658e-02, -7.87274688e-02,  9.12903026e-02,\n",
              "        -1.12088602e-02,  4.66231667e-02,  8.81939977e-02, -1.11166462e-01,\n",
              "         5.12088202e-02,  2.95641292e-02, -3.69835570e-02,  3.38659924e-03,\n",
              "        -8.74044001e-02, -5.39126992e-02, -4.82590720e-02,  1.11299701e-01,\n",
              "        -6.36105388e-02, -1.14074029e-01,  5.44380471e-02, -1.02723308e-01,\n",
              "        -6.46483004e-02, -6.01199381e-02,  1.41989633e-01,  1.27623558e-01,\n",
              "         2.11550090e-02,  1.38673246e-01,  3.39466929e-02, -5.18277613e-03,\n",
              "         1.03517428e-01, -2.80089155e-02, -6.15659077e-03, -2.24362891e-02,\n",
              "        -8.04023519e-02, -1.28316224e-01, -2.42531300e-02, -7.12565780e-02,\n",
              "        -8.11208040e-02, -5.18663116e-02, -4.74745035e-02, -7.64453039e-03,\n",
              "        -1.37011275e-01, -8.55550990e-02, -8.46025497e-02,  1.72094617e-03,\n",
              "         4.22825292e-02, -5.90371899e-02, -6.69876337e-02,  1.85286716e-01,\n",
              "        -3.07974610e-02, -1.33950189e-01, -9.10416245e-02, -8.29461664e-02,\n",
              "         1.02622829e-01, -6.55663684e-02], dtype=float32),\n",
              " array([[-0.10120062,  0.00189939, -0.18320297, ...,  0.03990856,\n",
              "          0.15487663, -0.05602705],\n",
              "        [-0.134934  , -0.04317943, -0.08621801, ..., -0.10429174,\n",
              "          0.08622397,  0.11541253],\n",
              "        [ 0.08207009, -0.11313269,  0.15370925, ...,  0.08311753,\n",
              "         -0.03592892,  0.04925515],\n",
              "        ...,\n",
              "        [ 0.08092736,  0.00271654,  0.04824517, ..., -0.00553432,\n",
              "         -0.02502925,  0.1135686 ],\n",
              "        [-0.13291764,  0.11217879, -0.09496296, ..., -0.06114866,\n",
              "         -0.17639782, -0.06111632],\n",
              "        [-0.09009414,  0.15783088, -0.0862065 , ..., -0.0573149 ,\n",
              "         -0.03728888, -0.01381416]], dtype=float32),\n",
              " array([-0.0375404 , -0.02991115,  0.09567829,  0.00580737, -0.0900261 ,\n",
              "        -0.07999855, -0.10097155,  0.1658821 , -0.0406103 , -0.0741097 ,\n",
              "        -0.01373759, -0.1014372 , -0.08177288,  0.16609831,  0.08522273,\n",
              "         0.17025484, -0.08560567,  0.06606334, -0.08536913, -0.00189334,\n",
              "        -0.09964932,  0.09958342, -0.11186334, -0.0402352 , -0.10758499,\n",
              "        -0.09265453, -0.01545082, -0.09764435,  0.06696658,  0.18784836,\n",
              "         0.16064706,  0.19900802, -0.0267752 ,  0.01334521,  0.1479881 ,\n",
              "        -0.03974366,  0.02007649, -0.0468043 ,  0.00219703,  0.04628247,\n",
              "        -0.02405075,  0.15061483, -0.06760031,  0.10179343, -0.0313972 ,\n",
              "        -0.00658265, -0.11151014,  0.00144835, -0.04182107, -0.05286914,\n",
              "        -0.03852747, -0.02500905, -0.03793976, -0.08484123,  0.12799409,\n",
              "        -0.02352225, -0.07952811, -0.04134781, -0.10313284, -0.03583939,\n",
              "        -0.05998353,  0.01188325,  0.00078177, -0.00908312,  0.00341784,\n",
              "         0.21584742, -0.08836414, -0.02145517, -0.05122945, -0.04988166,\n",
              "        -0.03084346, -0.04350743, -0.13616261,  0.00533973, -0.01884817,\n",
              "        -0.06853972,  0.01635147,  0.07778224,  0.1666855 ,  0.11876252,\n",
              "         0.01653007, -0.06833699,  0.145137  , -0.04135413, -0.09643079,\n",
              "         0.01498061, -0.00461364,  0.03728446,  0.01988027,  0.09838785,\n",
              "        -0.0269458 , -0.1156075 ,  0.21634652,  0.11307939,  0.04144392,\n",
              "         0.10873859, -0.04648045, -0.0068007 , -0.11215954,  0.01372182],\n",
              "       dtype=float32),\n",
              " array([[-1.30807068e-02, -1.77755654e-01,  2.09999591e-01,\n",
              "         -1.09694172e-02,  8.26971680e-02, -1.00183100e-01,\n",
              "          1.15432627e-01, -5.22558615e-02,  6.02026433e-02,\n",
              "         -9.05394554e-02],\n",
              "        [-2.41926685e-01,  8.67630690e-02, -2.08348289e-01,\n",
              "         -2.33209297e-01,  1.57930598e-01,  3.86270671e-03,\n",
              "          1.26328608e-02, -9.50573832e-02, -1.89498793e-02,\n",
              "         -1.84128657e-01],\n",
              "        [ 1.83346182e-01, -1.42114744e-01,  7.83515275e-02,\n",
              "         -8.05295333e-02, -3.02396715e-01,  1.24464668e-01,\n",
              "          8.41974318e-02,  7.88975656e-02,  1.49220422e-01,\n",
              "         -5.70917837e-02],\n",
              "        [ 1.45435715e-02, -2.63374206e-02,  4.15274799e-02,\n",
              "         -7.86193758e-02, -1.30090639e-01, -2.85247833e-01,\n",
              "         -1.78942606e-01, -1.41091272e-01, -2.10109502e-02,\n",
              "         -1.63417816e-01],\n",
              "        [ 5.94507270e-02,  1.34186134e-01,  7.13995546e-02,\n",
              "          9.76567119e-02,  2.03161433e-01, -2.26375952e-01,\n",
              "         -1.38322443e-01, -1.36771455e-01, -2.62188435e-01,\n",
              "          1.97019130e-01],\n",
              "        [-3.40153366e-01,  2.78264582e-01, -9.12370458e-02,\n",
              "          2.14943271e-02, -7.54255205e-02,  2.08454311e-01,\n",
              "          5.10709994e-02, -6.92586508e-03, -2.11351305e-01,\n",
              "          1.56388909e-01],\n",
              "        [-9.33771133e-02,  4.95743975e-02,  1.28442600e-01,\n",
              "          1.26620010e-01, -1.57799453e-01, -1.19626425e-01,\n",
              "          5.42971455e-02,  2.07583532e-01, -2.10211605e-01,\n",
              "         -2.93045521e-01],\n",
              "        [-1.80946365e-01, -2.19155073e-01, -1.41741410e-01,\n",
              "          4.95305955e-02,  2.05756485e-01, -5.52262142e-02,\n",
              "         -2.27434650e-01,  2.25236509e-02,  9.22702178e-02,\n",
              "          2.50813216e-01],\n",
              "        [ 5.14640957e-02,  1.24119148e-01, -2.31138408e-01,\n",
              "         -5.65307066e-02,  9.92415696e-02,  3.28411274e-02,\n",
              "          2.14836802e-02, -2.08389685e-01, -8.08580890e-02,\n",
              "          1.55153260e-01],\n",
              "        [-2.68349469e-01, -2.05455422e-01, -1.42332941e-01,\n",
              "         -1.92519695e-01,  2.26543602e-02,  2.27896497e-02,\n",
              "         -1.45154357e-01, -2.41950095e-01,  6.33182004e-02,\n",
              "          2.33041141e-02],\n",
              "        [-1.72108993e-01, -1.77815109e-01,  2.71246761e-01,\n",
              "          1.56784758e-01,  5.79122230e-02,  9.14999023e-02,\n",
              "         -3.17149132e-01,  9.02013406e-02, -1.05107754e-01,\n",
              "         -3.03059578e-01],\n",
              "        [-1.21976465e-01,  7.23912567e-02,  3.01070139e-02,\n",
              "          1.16363063e-01, -1.02710195e-01, -1.14012830e-01,\n",
              "          1.62417479e-02,  3.99947166e-02, -7.19038770e-02,\n",
              "         -1.40085325e-01],\n",
              "        [ 1.73572395e-02,  2.04099372e-01,  9.85449627e-02,\n",
              "         -2.00251713e-01,  5.88080697e-02, -9.03818384e-02,\n",
              "         -1.68699265e-01,  2.17762604e-01, -3.01644862e-01,\n",
              "          8.98176134e-02],\n",
              "        [-6.76021278e-02,  2.08570603e-02, -2.66004801e-01,\n",
              "         -8.58445764e-02,  6.47817850e-02,  1.31414393e-02,\n",
              "          4.42547984e-02, -2.44703844e-01,  9.42706093e-02,\n",
              "          8.19165856e-02],\n",
              "        [ 2.14899868e-01,  1.68997813e-02,  9.37876776e-02,\n",
              "         -8.00268501e-02,  1.66033536e-01, -1.46267593e-01,\n",
              "          9.99550596e-02,  1.53884172e-01,  1.44543931e-01,\n",
              "          2.00837776e-01],\n",
              "        [ 6.00588098e-02, -7.13830069e-02,  1.55255154e-01,\n",
              "          4.77802604e-02, -9.53956693e-02, -7.23339096e-02,\n",
              "          1.72822043e-01, -2.21187603e-02,  1.99973717e-01,\n",
              "         -2.00126898e-02],\n",
              "        [-1.36994291e-02,  1.57016456e-01,  2.24085465e-01,\n",
              "         -2.01382682e-01,  6.53686896e-02, -1.22967549e-01,\n",
              "         -1.19190715e-01,  1.45565331e-01, -2.84348816e-01,\n",
              "         -1.28587350e-01],\n",
              "        [-1.71863865e-02,  7.66253322e-02,  2.20165730e-01,\n",
              "          1.29849315e-01,  3.11888270e-02, -3.20031315e-01,\n",
              "         -9.69298929e-02,  1.22467726e-01,  5.13723753e-02,\n",
              "          1.34815827e-01],\n",
              "        [-1.02812134e-01, -1.58443525e-01, -2.86493897e-02,\n",
              "         -1.15799690e-02,  2.01485962e-01,  1.11429133e-01,\n",
              "         -1.54479146e-01,  8.20679888e-02, -1.06346101e-01,\n",
              "          1.71284109e-01],\n",
              "        [ 1.76155373e-01, -3.16093832e-01,  1.62187770e-01,\n",
              "         -1.99988335e-01, -8.32939241e-03, -1.37890473e-01,\n",
              "         -1.27272513e-02,  1.97251782e-01, -5.53229190e-02,\n",
              "          1.24303922e-01],\n",
              "        [-4.48942967e-02, -3.90228748e-01, -2.98065901e-01,\n",
              "         -3.22894230e-02,  1.39943331e-01,  2.32561231e-02,\n",
              "         -1.21441908e-01,  1.44939393e-01, -2.04561234e-01,\n",
              "         -8.95429254e-02],\n",
              "        [-3.40536386e-01,  1.43845156e-01,  5.35893776e-02,\n",
              "         -1.56069845e-02,  1.32186189e-01,  1.68996006e-01,\n",
              "          6.17204607e-02, -1.04098685e-01,  1.22864872e-01,\n",
              "          1.13502100e-01],\n",
              "        [-2.15180859e-01,  1.34832144e-01, -1.70302559e-02,\n",
              "         -3.57008986e-02,  1.19998910e-01,  8.82312879e-02,\n",
              "          1.08459912e-01,  1.84180047e-02, -5.53651787e-02,\n",
              "          8.83797854e-02],\n",
              "        [ 2.15921670e-01,  1.61791041e-01, -1.85824856e-02,\n",
              "         -1.02771461e-01,  2.26203293e-01, -6.90864176e-02,\n",
              "          2.13046685e-01, -8.98283944e-02, -2.03454457e-02,\n",
              "          2.54271477e-01],\n",
              "        [-2.32272521e-01,  9.46223512e-02, -2.58861277e-02,\n",
              "          1.95718840e-01,  3.57619673e-02, -5.09852823e-03,\n",
              "          7.31409788e-02,  5.85700050e-02, -1.33648723e-01,\n",
              "         -8.75393972e-02],\n",
              "        [ 8.64793211e-02,  2.83484340e-01, -2.24919736e-01,\n",
              "         -2.54526496e-01, -1.94391206e-01, -2.14550436e-01,\n",
              "          4.56100740e-02, -1.85447976e-01,  1.55220050e-02,\n",
              "         -5.15450835e-02],\n",
              "        [-1.26963302e-01,  4.49877903e-02,  7.94984996e-02,\n",
              "         -2.15475960e-03,  2.67439391e-02, -6.89973831e-02,\n",
              "          1.67197865e-02, -1.64330542e-01, -2.00619757e-01,\n",
              "         -3.35341930e-01],\n",
              "        [-1.59165591e-01,  7.30161816e-02, -9.87081975e-02,\n",
              "          4.01261672e-02,  9.12775919e-02, -1.34049647e-03,\n",
              "          4.16262783e-02,  4.99393245e-05, -8.45224559e-02,\n",
              "         -9.68560874e-02],\n",
              "        [-2.15151891e-01,  2.07938790e-01,  2.54395247e-01,\n",
              "         -1.88706547e-01,  2.02162459e-01, -1.02609336e-01,\n",
              "          1.72144666e-01,  1.76485062e-01,  1.80392116e-01,\n",
              "         -1.47380710e-01],\n",
              "        [-1.85830504e-01,  1.01890050e-01,  1.47484928e-01,\n",
              "          2.00669289e-01, -3.03566784e-01, -1.16768435e-01,\n",
              "         -2.74666995e-01,  3.25369537e-02,  2.49389350e-01,\n",
              "         -1.42344505e-01],\n",
              "        [-4.79601547e-02, -3.27579714e-02, -1.17990926e-01,\n",
              "         -7.43082538e-02, -1.32674992e-01,  1.28155693e-01,\n",
              "          1.60936803e-01, -1.87768396e-02,  1.70355588e-01,\n",
              "          5.56965992e-02],\n",
              "        [ 4.35661525e-02, -3.08168590e-01, -6.85147345e-02,\n",
              "          9.31153893e-02, -2.91389465e-01,  1.07276030e-02,\n",
              "         -3.06445599e-01, -1.49905592e-01,  1.04686700e-01,\n",
              "          5.27324863e-02],\n",
              "        [-1.81809828e-01, -1.31586701e-01, -9.66753885e-02,\n",
              "          5.66092916e-02,  5.94511852e-02,  3.62100676e-02,\n",
              "         -7.60009959e-02,  1.44860923e-01, -3.00949458e-02,\n",
              "         -8.58729407e-02],\n",
              "        [ 6.99655935e-02,  1.18660979e-01,  1.47129193e-01,\n",
              "          1.92972437e-01,  1.09368458e-01,  1.99659020e-01,\n",
              "          2.05858111e-01, -3.40752125e-01,  6.14785068e-02,\n",
              "         -1.28589839e-01],\n",
              "        [-2.06926182e-01,  1.17473185e-01, -3.02803725e-01,\n",
              "         -1.44362330e-01,  2.20327258e-01, -1.71471968e-01,\n",
              "         -2.60134220e-01,  1.88118964e-02,  1.19944818e-01,\n",
              "          2.43188769e-01],\n",
              "        [-1.44020747e-02,  1.70035493e-02, -1.63062081e-01,\n",
              "         -1.90062776e-01,  3.26280557e-02, -1.30399093e-01,\n",
              "          1.62642330e-01, -1.51299223e-01, -1.66018695e-01,\n",
              "          9.78822857e-02],\n",
              "        [-3.34455632e-02,  1.47210047e-01, -6.86807409e-02,\n",
              "          1.98834866e-01,  1.33580729e-01, -1.30727187e-01,\n",
              "         -2.86460459e-01,  1.60672456e-01,  8.19462910e-02,\n",
              "          2.51780629e-01],\n",
              "        [-1.66880712e-03,  1.39732927e-01, -1.03986531e-01,\n",
              "          1.07772976e-01, -1.86870590e-01, -2.00194538e-01,\n",
              "          1.81153059e-01,  1.94601700e-01,  2.03191955e-03,\n",
              "         -1.65558681e-01],\n",
              "        [ 1.67151138e-01,  1.92974702e-01, -1.96453873e-02,\n",
              "         -1.82388961e-01,  6.74829111e-02, -1.75905943e-01,\n",
              "         -2.55069703e-01,  1.14484377e-01,  4.84284833e-02,\n",
              "          2.73198988e-02],\n",
              "        [ 3.75007205e-02, -2.12046444e-01,  2.00986594e-01,\n",
              "          1.86993286e-01, -2.25615799e-01,  2.08728641e-01,\n",
              "          1.64779142e-01, -2.14768171e-01,  5.15860766e-02,\n",
              "          7.88492486e-02],\n",
              "        [-3.18808034e-02, -2.24642769e-01, -2.14626908e-01,\n",
              "          1.80111244e-01,  1.90432072e-01, -7.18370751e-02,\n",
              "         -2.56763041e-01,  1.75520852e-01, -3.13552544e-02,\n",
              "         -4.65994477e-02],\n",
              "        [-4.81196679e-02, -1.86127052e-01, -2.78766546e-02,\n",
              "          1.18518863e-02, -2.26926342e-01, -6.17933907e-02,\n",
              "         -7.50238821e-02,  1.55506387e-01,  1.32004768e-01,\n",
              "          1.38432041e-01],\n",
              "        [-3.73420835e-01,  1.14300393e-01, -2.07529142e-01,\n",
              "         -1.82314217e-01, -5.11841588e-02, -1.63177475e-01,\n",
              "         -5.59207015e-02,  1.41842291e-01, -1.26593530e-01,\n",
              "         -4.72922064e-03],\n",
              "        [ 1.90080956e-01, -2.87115332e-02, -8.90610665e-02,\n",
              "         -3.93306799e-02, -5.24772815e-02, -4.68671285e-02,\n",
              "          2.01351926e-01, -3.56792688e-01,  9.00147930e-02,\n",
              "         -1.05626680e-01],\n",
              "        [ 2.90256739e-01, -1.14867147e-02, -1.89070955e-01,\n",
              "         -3.49126272e-02, -1.49328247e-01, -1.37970597e-01,\n",
              "          8.49713907e-02, -2.32922122e-01, -1.46357924e-01,\n",
              "          9.17926282e-02],\n",
              "        [-6.57689050e-02, -4.27797914e-01,  4.20108512e-02,\n",
              "         -1.85109153e-02, -5.16796820e-02, -2.73378212e-02,\n",
              "          1.90719858e-01,  1.19404554e-01, -1.95550144e-01,\n",
              "         -2.88755834e-01],\n",
              "        [ 1.75061032e-01,  4.76739928e-03,  7.72686079e-02,\n",
              "          2.25980788e-01, -1.43553153e-01,  1.06466278e-01,\n",
              "         -1.27937466e-01,  1.87286004e-01,  5.84138697e-03,\n",
              "          1.24565616e-01],\n",
              "        [ 7.76608055e-03, -6.15990870e-02,  2.74520065e-03,\n",
              "          9.03751850e-02,  5.14663272e-02,  2.49536447e-02,\n",
              "         -2.09256589e-01, -1.80281147e-01, -1.16378464e-01,\n",
              "          5.75925484e-02],\n",
              "        [-6.52772095e-03, -2.61072159e-01, -2.35359684e-01,\n",
              "         -2.51433909e-01,  9.13073197e-02, -2.19898954e-01,\n",
              "         -1.53567225e-01, -2.70497382e-01, -4.70677093e-02,\n",
              "         -1.22667752e-01],\n",
              "        [-2.87094474e-01,  5.90175055e-02, -1.30445827e-02,\n",
              "         -3.14587019e-02,  1.80191264e-01, -6.48749769e-02,\n",
              "          1.86358765e-01, -1.62020504e-01,  5.25598489e-02,\n",
              "          8.49381089e-02],\n",
              "        [-1.46906644e-01, -4.30422947e-02, -1.33083373e-01,\n",
              "          2.25901082e-01,  3.48488092e-02,  2.36655265e-01,\n",
              "         -6.80979490e-02, -1.00620762e-01, -1.59791574e-01,\n",
              "         -6.42015189e-02],\n",
              "        [-2.02894539e-01, -7.49216005e-02, -1.91686064e-01,\n",
              "         -1.26930907e-01, -1.00870945e-01,  8.02466944e-02,\n",
              "          1.09501153e-01, -7.24544898e-02, -1.28693193e-01,\n",
              "          1.76429629e-01],\n",
              "        [-1.02526695e-01, -2.16921359e-01,  9.67343897e-02,\n",
              "          4.39815745e-02, -2.01702993e-02, -2.64019638e-01,\n",
              "          1.53708570e-02,  1.99743975e-02, -4.19686511e-02,\n",
              "          1.14051383e-02],\n",
              "        [ 1.74621210e-01,  1.32777289e-01,  5.89954294e-02,\n",
              "         -2.64441948e-02, -5.77156097e-02,  1.68894529e-02,\n",
              "         -2.14589268e-01, -6.54352084e-02,  1.20076530e-01,\n",
              "         -7.26147294e-02],\n",
              "        [ 8.06245431e-02, -3.39807004e-01,  1.91271380e-01,\n",
              "         -2.06849724e-01,  2.31537610e-01,  4.33211364e-02,\n",
              "         -1.17044382e-01, -2.52171248e-01,  1.61197409e-02,\n",
              "          1.24660470e-01],\n",
              "        [ 1.18630290e-01, -5.54472916e-02, -2.30784670e-01,\n",
              "         -2.86801040e-01, -1.60678282e-01, -1.76294800e-02,\n",
              "          1.46671921e-01,  9.57944915e-02, -9.85228419e-02,\n",
              "         -2.05022067e-01],\n",
              "        [-1.32855296e-01,  5.12431189e-02, -1.30262211e-01,\n",
              "         -1.58841103e-01,  1.67168248e-02,  4.35084999e-02,\n",
              "         -2.20884338e-01, -9.03256908e-02, -2.33353395e-02,\n",
              "          1.16015226e-03],\n",
              "        [ 7.03047961e-02, -4.09329273e-02,  1.62299082e-01,\n",
              "          4.13347557e-02,  6.03910722e-02,  1.01134948e-01,\n",
              "         -5.04729748e-02,  1.21971341e-02,  2.03299999e-01,\n",
              "          1.51315061e-02],\n",
              "        [-9.96316224e-02,  2.08900571e-01, -2.20773175e-01,\n",
              "          5.68823032e-02,  1.22548938e-01,  7.34746084e-02,\n",
              "         -1.52014971e-01,  1.89081594e-01, -1.52517393e-01,\n",
              "          5.97597973e-05],\n",
              "        [-3.89920641e-03, -4.17252064e-01, -1.39821783e-01,\n",
              "         -2.60052271e-02, -3.14018838e-02,  1.05623402e-01,\n",
              "         -7.11295828e-02, -1.66693211e-01, -2.79067099e-01,\n",
              "          1.47181883e-01],\n",
              "        [-8.19976851e-02, -1.34270296e-01, -2.23243609e-01,\n",
              "         -2.27579743e-01,  5.98856434e-02,  2.11411029e-01,\n",
              "         -3.93298678e-02, -1.41653165e-01, -1.83816671e-01,\n",
              "         -1.07905403e-01],\n",
              "        [-1.46682203e-01, -2.40039304e-02,  1.12957075e-01,\n",
              "         -1.73960507e-01, -2.69858353e-02, -1.53439850e-01,\n",
              "          1.39340609e-01, -1.39987081e-01, -1.33476108e-01,\n",
              "         -1.75979123e-01],\n",
              "        [ 1.09564468e-01,  2.66858488e-01, -1.51347797e-02,\n",
              "         -1.45735964e-01,  4.25943285e-02, -1.12578370e-01,\n",
              "         -2.10311934e-01,  1.10626586e-01,  1.06001303e-01,\n",
              "          1.04661524e-01],\n",
              "        [-1.37215093e-01, -8.54044557e-02,  4.69603622e-03,\n",
              "         -3.06739450e-01, -9.98060554e-02, -6.78422898e-02,\n",
              "          1.45391598e-01,  1.08299322e-01, -5.63973412e-02,\n",
              "          1.13514051e-01],\n",
              "        [-2.57659197e-01,  2.00950265e-01, -1.81092530e-01,\n",
              "          8.41261372e-02, -1.29558474e-01, -3.20460141e-01,\n",
              "          4.02915739e-02,  1.20524600e-01,  5.53525351e-02,\n",
              "          1.39256462e-01],\n",
              "        [-2.25077912e-01,  7.87562283e-04,  4.09439616e-02,\n",
              "         -6.69265389e-02, -2.45890290e-01, -4.99258675e-02,\n",
              "         -4.15506624e-02,  2.76525225e-02,  2.18390375e-01,\n",
              "         -2.21032396e-01],\n",
              "        [ 2.59012401e-01,  8.90005901e-02,  1.97098032e-01,\n",
              "          2.24064201e-01,  1.11695230e-01,  5.86198121e-02,\n",
              "          1.26296282e-01,  1.42819658e-01,  6.45080805e-02,\n",
              "         -2.98895855e-02],\n",
              "        [ 1.93400875e-01, -1.34663478e-01, -2.19318375e-01,\n",
              "          1.13242520e-02,  1.43059015e-01,  1.83388323e-01,\n",
              "          2.58346677e-01,  6.10180479e-03, -1.39077678e-01,\n",
              "         -1.57554597e-01],\n",
              "        [-7.24913203e-04, -3.74089181e-02,  4.16429117e-02,\n",
              "         -4.30957153e-02,  5.46264686e-02,  5.48334271e-02,\n",
              "         -1.82818800e-01, -8.49566460e-02, -1.11982867e-01,\n",
              "         -1.38037279e-01],\n",
              "        [ 8.18198025e-02,  1.67787015e-01,  2.21567467e-01,\n",
              "         -5.05367592e-02,  2.33135074e-01, -3.44319642e-02,\n",
              "          4.54462208e-02, -3.22016180e-02, -2.27104798e-01,\n",
              "         -2.59526353e-02],\n",
              "        [-3.43043618e-02,  2.49297842e-01,  9.35021043e-02,\n",
              "          8.73856526e-03, -1.51155367e-02,  2.63013363e-01,\n",
              "         -2.24653929e-01, -1.64163098e-01, -2.18622118e-01,\n",
              "          2.44837981e-02],\n",
              "        [-3.13359022e-01, -1.55712724e-01,  2.37548739e-01,\n",
              "          1.40264714e-02,  9.40644369e-03, -5.73934764e-02,\n",
              "          2.05102563e-01,  1.35898918e-01, -2.40497962e-02,\n",
              "          4.58120033e-02],\n",
              "        [-1.63959712e-01,  1.85148358e-01,  4.31469157e-02,\n",
              "          1.21259749e-01, -8.64442885e-02,  7.31815994e-02,\n",
              "         -4.02289718e-01,  1.72833260e-02, -2.30840817e-01,\n",
              "         -8.92597213e-02],\n",
              "        [-2.26612300e-01, -1.97500825e-01,  1.06964789e-01,\n",
              "          3.02931666e-02, -9.59068090e-02,  1.40459880e-01,\n",
              "          2.98571140e-02, -1.77777037e-01, -7.08413348e-02,\n",
              "          1.86629206e-01],\n",
              "        [-2.64619112e-01,  1.13658227e-01, -1.40076920e-01,\n",
              "         -2.14556023e-01, -3.26104549e-04,  1.24086961e-01,\n",
              "          3.97098102e-02, -1.34843349e-01,  3.28480788e-02,\n",
              "         -2.71917492e-01],\n",
              "        [ 1.93169728e-01,  1.54996902e-01, -1.47177145e-01,\n",
              "          5.11562973e-02, -3.75626385e-01,  1.64336219e-01,\n",
              "          4.37097661e-02, -7.90558234e-02, -1.18795000e-01,\n",
              "         -2.35653058e-01],\n",
              "        [ 7.48486966e-02, -3.95652413e-01, -5.69202900e-02,\n",
              "          1.55047581e-01,  1.25441402e-01, -1.27001017e-01,\n",
              "         -4.20971215e-02, -2.25170970e-01, -1.18121900e-01,\n",
              "          9.51638222e-02],\n",
              "        [-2.82642275e-01,  7.19663873e-02,  1.43266108e-03,\n",
              "         -3.10566928e-02, -1.60680443e-01,  1.34153757e-02,\n",
              "         -5.47546707e-02, -1.27528086e-01,  7.02441037e-02,\n",
              "          1.55542359e-01],\n",
              "        [ 1.77480251e-01, -2.18072668e-01,  1.50196478e-01,\n",
              "         -1.08174309e-01,  1.51125148e-01,  1.50758818e-01,\n",
              "          4.51448970e-02, -2.35808745e-01,  2.03381658e-01,\n",
              "          6.52098209e-02],\n",
              "        [-7.85734132e-02, -1.60044387e-01, -2.76317328e-01,\n",
              "          1.32539243e-01, -1.76780134e-01,  2.10419104e-01,\n",
              "          1.41074369e-02, -1.03882894e-01,  1.20951429e-01,\n",
              "          2.32063010e-01],\n",
              "        [ 1.47519514e-01,  6.72516450e-02,  2.03824993e-02,\n",
              "          1.18997313e-01, -2.60493696e-01,  5.76180667e-02,\n",
              "          4.42118794e-02, -2.69413143e-01,  4.24220636e-02,\n",
              "         -8.08992386e-02],\n",
              "        [-1.78034112e-01, -5.96037842e-02,  1.27340451e-01,\n",
              "          1.66289791e-01, -8.40705913e-03, -5.59697673e-03,\n",
              "          6.72669103e-03, -1.26864910e-01,  1.91486731e-01,\n",
              "         -6.90382421e-02],\n",
              "        [ 1.26760021e-01,  1.21331736e-01,  1.15969531e-01,\n",
              "         -1.38243392e-01, -2.25800171e-01,  1.15347635e-02,\n",
              "         -1.51312485e-01,  9.72378068e-03,  1.79045826e-01,\n",
              "         -8.80245715e-02],\n",
              "        [ 1.21728525e-01, -6.78804442e-02, -8.30299631e-02,\n",
              "          8.01554024e-02,  1.40148848e-01, -3.01157907e-02,\n",
              "         -8.80262032e-02,  1.17569961e-01,  1.53960928e-01,\n",
              "          2.33439934e-02],\n",
              "        [-2.74076700e-01,  2.19208419e-01, -2.92736609e-02,\n",
              "          1.25769094e-01, -5.71203697e-03,  2.20715106e-01,\n",
              "          2.09367648e-01,  8.36725980e-02,  5.43203093e-02,\n",
              "         -4.57283258e-02],\n",
              "        [ 1.89353317e-01, -2.10083206e-03, -2.24952623e-01,\n",
              "          1.97772942e-02,  8.10079649e-02, -8.14096108e-02,\n",
              "          7.32194167e-03,  1.22252084e-01, -1.24064162e-01,\n",
              "          1.89712733e-01],\n",
              "        [-5.10687903e-02,  1.03730507e-01, -2.25623012e-01,\n",
              "         -1.07489051e-02,  9.94620472e-03, -1.09592661e-01,\n",
              "         -7.35711232e-02,  2.19279617e-01,  1.41879290e-01,\n",
              "          1.82726577e-01],\n",
              "        [-1.00802332e-02, -3.68960679e-01, -2.20643237e-01,\n",
              "         -1.46337137e-01,  5.58342300e-02,  2.14937255e-01,\n",
              "          5.57243116e-02,  2.15425700e-01,  1.23121932e-01,\n",
              "          1.09386742e-02],\n",
              "        [-1.98801622e-01, -2.20473990e-01, -1.92514323e-02,\n",
              "          9.86550450e-02,  6.01815805e-02, -4.99481142e-01,\n",
              "         -2.43175820e-01, -8.92434120e-02,  6.41666260e-03,\n",
              "          1.13232888e-01],\n",
              "        [-2.18357448e-03,  2.74056587e-02, -1.77103892e-01,\n",
              "          1.43983111e-01, -5.47241792e-02, -8.50847811e-02,\n",
              "         -8.15532729e-02, -1.74226701e-01,  1.30713046e-01,\n",
              "         -1.79522768e-01],\n",
              "        [-1.59825999e-02,  2.48207268e-03, -1.21583395e-01,\n",
              "          1.97653305e-02, -1.30320400e-01,  6.34151846e-02,\n",
              "         -3.37648243e-01,  1.75134733e-01, -1.62516572e-02,\n",
              "          1.62941925e-02],\n",
              "        [ 1.17157558e-02,  1.31943047e-01, -9.25654173e-02,\n",
              "         -1.69676375e-02, -8.80038813e-02,  5.59669640e-03,\n",
              "          4.85276878e-02, -5.26864044e-02, -4.40186709e-02,\n",
              "         -1.17754310e-01],\n",
              "        [-3.61546837e-02, -2.17171222e-01, -2.76314288e-01,\n",
              "         -1.58157982e-02, -2.71625258e-02,  1.83144137e-01,\n",
              "         -5.67285195e-02, -2.87809223e-01,  1.39753878e-01,\n",
              "         -1.80533350e-01],\n",
              "        [-1.77457437e-01, -1.22381978e-01,  3.34524401e-02,\n",
              "          2.00448707e-01, -6.58301488e-02,  2.02170432e-01,\n",
              "         -2.68710792e-01,  2.08473414e-01,  1.25671178e-01,\n",
              "          2.30810001e-01],\n",
              "        [-1.09766364e-01, -2.19266236e-01,  2.77498543e-01,\n",
              "         -1.98578507e-01, -4.09271307e-02,  8.67381766e-02,\n",
              "         -3.61531943e-01,  1.13475852e-01, -3.77059728e-02,\n",
              "          1.05641484e-01],\n",
              "        [-9.94024128e-02, -2.14338839e-01,  1.60181560e-02,\n",
              "         -2.19896227e-01,  1.37257099e-01, -1.02278478e-01,\n",
              "          5.83736040e-02, -1.06796719e-01,  7.07610175e-02,\n",
              "         -1.43178806e-01],\n",
              "        [ 1.08421603e-02,  1.32111311e-01,  2.88451090e-02,\n",
              "          1.09372534e-01,  8.43609720e-02, -4.49165329e-02,\n",
              "          5.69912344e-02, -1.32671054e-02,  1.77705571e-01,\n",
              "         -2.62578279e-01],\n",
              "        [ 1.10491849e-01,  3.62602361e-02,  2.09861800e-01,\n",
              "          2.08335757e-01, -1.52213812e-01,  5.15994430e-02,\n",
              "         -2.65885085e-01,  9.22608078e-02,  3.98012437e-02,\n",
              "          1.41120970e-01],\n",
              "        [-1.15187965e-01, -1.56174330e-02, -4.32427168e-01,\n",
              "         -1.32607043e-01, -1.04458049e-01, -1.27564862e-01,\n",
              "         -4.82052900e-02, -1.61431730e-01, -1.60373390e-01,\n",
              "         -1.26754157e-02],\n",
              "        [-9.98644978e-02, -8.93560573e-02, -1.18054748e-01,\n",
              "          3.93084399e-02,  9.28529724e-02,  8.98518562e-02,\n",
              "          1.87475439e-02, -7.95816109e-02,  5.64883798e-02,\n",
              "         -1.73119947e-01]], dtype=float32),\n",
              " array([-0.01521899, -0.15247503,  0.00588971, -0.03998996, -0.0334325 ,\n",
              "        -0.02799956, -0.06652275, -0.09386873,  0.24933058,  0.05166018],\n",
              "       dtype=float32)]"
            ]
          },
          "metadata": {},
          "execution_count": 29
        }
      ]
    },
    {
      "cell_type": "code",
      "source": [
        "import matplotlib.pyplot as plt\n",
        "def p(i):\n",
        "\n",
        "  plt.axis('off')\n",
        "  plt.title(y_test[i])\n",
        "  plt.imshow(x_test[i])\n",
        "\n",
        "\n",
        "fig = plt.figure(figsize=(15, 15))\n",
        "\n",
        "for i in range(0,10):\n",
        "  k=0\n",
        "  for j in y_test[0]:\n",
        "    k=k+1\n",
        "    # print(j)\n",
        "    if i==j:\n",
        "      # print(i,\" \",j)\n",
        "      fig.add_subplot(10, 10, i+1)\n",
        "      print(i,\" \",j)\n",
        "      p(k-1)\n",
        "      break"
      ],
      "metadata": {
        "colab": {
          "base_uri": "https://localhost:8080/",
          "height": 246
        },
        "id": "I4t-mOMWWSpO",
        "outputId": "a52e1b43-da43-437f-de2e-37a37c6b46d6"
      },
      "execution_count": 34,
      "outputs": [
        {
          "output_type": "stream",
          "name": "stdout",
          "text": [
            "0   0.0\n",
            "1   1.0\n"
          ]
        },
        {
          "output_type": "stream",
          "name": "stderr",
          "text": [
            "/usr/local/lib/python3.10/dist-packages/matplotlib/text.py:1279: FutureWarning: elementwise comparison failed; returning scalar instead, but in the future will perform elementwise comparison\n",
            "  if s != self._text:\n"
          ]
        },
        {
          "output_type": "display_data",
          "data": {
            "text/plain": [
              "<Figure size 1500x1500 with 2 Axes>"
            ],
            "image/png": "[encoded data removed]"
          },
          "metadata": {}
        }
      ]
    },
    {
      "cell_type": "code",
      "source": [
        "y_test.shape"
      ],
      "metadata": {
        "colab": {
          "base_uri": "https://localhost:8080/"
        },
        "id": "b2t5L1RtYx7b",
        "outputId": "30a9d51e-6783-4890-bc41-bbbf0ae10a13"
      },
      "execution_count": 35,
      "outputs": [
        {
          "output_type": "execute_result",
          "data": {
            "text/plain": [
              "(10000, 10)"
            ]
          },
          "metadata": {},
          "execution_count": 35
        }
      ]
    },
    {
      "cell_type": "code",
      "source": [
        "import numpy as np\n",
        "for i in range(10):\n",
        "  k = np.argmax(y_test[i])\n",
        "  m = x_test[i]\n",
        "  plt.imshow(m)\n",
        "  plt.title(f\"Label {k}\")\n",
        "  plt.show()\n",
        "\n"
      ],
      "metadata": {
        "colab": {
          "base_uri": "https://localhost:8080/",
          "height": 1000
        },
        "id": "QgWvPlI6Zrc_",
        "outputId": "31ce37c7-7bcf-40a0-88d8-4d0f145c30da"
      },
      "execution_count": 36,
      "outputs": [
        {
          "output_type": "display_data",
          "data": {
            "text/plain": [
              "<Figure size 640x480 with 1 Axes>"
            ],
            "image/png": "[encoded data removed]"
          },
          "metadata": {}
        },
        {
          "output_type": "display_data",
          "data": {
            "text/plain": [
              "<Figure size 640x480 with 1 Axes>"
            ],
            "image/png": "[encoded data removed]"
          },
          "metadata": {}
        },
        {
          "output_type": "display_data",
          "data": {
            "text/plain": [
              "<Figure size 640x480 with 1 Axes>"
            ],
            "image/png": "[encoded data removed]"
          },
          "metadata": {}
        },
        {
          "output_type": "display_data",
          "data": {
            "text/plain": [
              "<Figure size 640x480 with 1 Axes>"
            ],
            "image/png": "[encoded data removed]"
          },
          "metadata": {}
        },
        {
          "output_type": "display_data",
          "data": {
            "text/plain": [
              "<Figure size 640x480 with 1 Axes>"
            ],
            "image/png": "[encoded data removed]"
          },
          "metadata": {}
        },
        {
          "output_type": "display_data",
          "data": {
            "text/plain": [
              "<Figure size 640x480 with 1 Axes>"
            ],
            "image/png": "[encoded data removed]"
          },
          "metadata": {}
        },
        {
          "output_type": "display_data",
          "data": {
            "text/plain": [
              "<Figure size 640x480 with 1 Axes>"
            ],
            "image/png": "[encoded data removed]"
          },
          "metadata": {}
        },
        {
          "output_type": "display_data",
          "data": {
            "text/plain": [
              "<Figure size 640x480 with 1 Axes>"
            ],
            "image/png": "[encoded data removed]"
          },
          "metadata": {}
        },
        {
          "output_type": "display_data",
          "data": {
            "text/plain": [
              "<Figure size 640x480 with 1 Axes>"
            ],
            "image/png": "[encoded data removed]"
          },
          "metadata": {}
        },
        {
          "output_type": "display_data",
          "data": {
            "text/plain": [
              "<Figure size 640x480 with 1 Axes>"
            ],
            "image/png": "[encoded data removed]"
          },
          "metadata": {}
        }
      ]
    }
  ]
}