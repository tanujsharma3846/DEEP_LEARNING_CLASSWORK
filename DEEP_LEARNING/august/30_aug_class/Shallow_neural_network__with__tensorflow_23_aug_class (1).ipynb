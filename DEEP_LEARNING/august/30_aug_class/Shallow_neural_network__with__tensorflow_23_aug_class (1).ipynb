{
  "cells": [
    {
      "cell_type": "code",
      "execution_count": 94,
      "metadata": {
        "id": "KYlEmFDV4VSN"
      },
      "outputs": [],
      "source": [
        "# neural network using tensorflow"
      ]
    },
    {
      "cell_type": "code",
      "execution_count": 95,
      "metadata": {
        "id": "CAKKBUt04aFq"
      },
      "outputs": [],
      "source": [
        "import tensorflow as tf\n",
        "from tensorflow.keras.models import Sequential\n",
        "from tensorflow.keras.layers import Dense\n",
        "from sklearn.model_selection import train_test_split\n",
        "from sklearn.preprocessing import StandardScaler\n",
        "from sklearn.datasets import load_iris\n",
        "from keras.optimizers import Nadam"
      ]
    },
    {
      "cell_type": "code",
      "execution_count": 96,
      "metadata": {
        "colab": {
          "base_uri": "https://localhost:8080/"
        },
        "id": "wBz3-IEO4egB",
        "outputId": "1cf0f3a8-9d6a-417a-b2a2-c1b6745654ef"
      },
      "outputs": [
        {
          "output_type": "execute_result",
          "data": {
            "text/plain": [
              "{'data': array([[5.1, 3.5, 1.4, 0.2],\n",
              "        [4.9, 3. , 1.4, 0.2],\n",
              "        [4.7, 3.2, 1.3, 0.2],\n",
              "        [4.6, 3.1, 1.5, 0.2],\n",
              "        [5. , 3.6, 1.4, 0.2],\n",
              "        [5.4, 3.9, 1.7, 0.4],\n",
              "        [4.6, 3.4, 1.4, 0.3],\n",
              "        [5. , 3.4, 1.5, 0.2],\n",
              "        [4.4, 2.9, 1.4, 0.2],\n",
              "        [4.9, 3.1, 1.5, 0.1],\n",
              "        [5.4, 3.7, 1.5, 0.2],\n",
              "        [4.8, 3.4, 1.6, 0.2],\n",
              "        [4.8, 3. , 1.4, 0.1],\n",
              "        [4.3, 3. , 1.1, 0.1],\n",
              "        [5.8, 4. , 1.2, 0.2],\n",
              "        [5.7, 4.4, 1.5, 0.4],\n",
              "        [5.4, 3.9, 1.3, 0.4],\n",
              "        [5.1, 3.5, 1.4, 0.3],\n",
              "        [5.7, 3.8, 1.7, 0.3],\n",
              "        [5.1, 3.8, 1.5, 0.3],\n",
              "        [5.4, 3.4, 1.7, 0.2],\n",
              "        [5.1, 3.7, 1.5, 0.4],\n",
              "        [4.6, 3.6, 1. , 0.2],\n",
              "        [5.1, 3.3, 1.7, 0.5],\n",
              "        [4.8, 3.4, 1.9, 0.2],\n",
              "        [5. , 3. , 1.6, 0.2],\n",
              "        [5. , 3.4, 1.6, 0.4],\n",
              "        [5.2, 3.5, 1.5, 0.2],\n",
              "        [5.2, 3.4, 1.4, 0.2],\n",
              "        [4.7, 3.2, 1.6, 0.2],\n",
              "        [4.8, 3.1, 1.6, 0.2],\n",
              "        [5.4, 3.4, 1.5, 0.4],\n",
              "        [5.2, 4.1, 1.5, 0.1],\n",
              "        [5.5, 4.2, 1.4, 0.2],\n",
              "        [4.9, 3.1, 1.5, 0.2],\n",
              "        [5. , 3.2, 1.2, 0.2],\n",
              "        [5.5, 3.5, 1.3, 0.2],\n",
              "        [4.9, 3.6, 1.4, 0.1],\n",
              "        [4.4, 3. , 1.3, 0.2],\n",
              "        [5.1, 3.4, 1.5, 0.2],\n",
              "        [5. , 3.5, 1.3, 0.3],\n",
              "        [4.5, 2.3, 1.3, 0.3],\n",
              "        [4.4, 3.2, 1.3, 0.2],\n",
              "        [5. , 3.5, 1.6, 0.6],\n",
              "        [5.1, 3.8, 1.9, 0.4],\n",
              "        [4.8, 3. , 1.4, 0.3],\n",
              "        [5.1, 3.8, 1.6, 0.2],\n",
              "        [4.6, 3.2, 1.4, 0.2],\n",
              "        [5.3, 3.7, 1.5, 0.2],\n",
              "        [5. , 3.3, 1.4, 0.2],\n",
              "        [7. , 3.2, 4.7, 1.4],\n",
              "        [6.4, 3.2, 4.5, 1.5],\n",
              "        [6.9, 3.1, 4.9, 1.5],\n",
              "        [5.5, 2.3, 4. , 1.3],\n",
              "        [6.5, 2.8, 4.6, 1.5],\n",
              "        [5.7, 2.8, 4.5, 1.3],\n",
              "        [6.3, 3.3, 4.7, 1.6],\n",
              "        [4.9, 2.4, 3.3, 1. ],\n",
              "        [6.6, 2.9, 4.6, 1.3],\n",
              "        [5.2, 2.7, 3.9, 1.4],\n",
              "        [5. , 2. , 3.5, 1. ],\n",
              "        [5.9, 3. , 4.2, 1.5],\n",
              "        [6. , 2.2, 4. , 1. ],\n",
              "        [6.1, 2.9, 4.7, 1.4],\n",
              "        [5.6, 2.9, 3.6, 1.3],\n",
              "        [6.7, 3.1, 4.4, 1.4],\n",
              "        [5.6, 3. , 4.5, 1.5],\n",
              "        [5.8, 2.7, 4.1, 1. ],\n",
              "        [6.2, 2.2, 4.5, 1.5],\n",
              "        [5.6, 2.5, 3.9, 1.1],\n",
              "        [5.9, 3.2, 4.8, 1.8],\n",
              "        [6.1, 2.8, 4. , 1.3],\n",
              "        [6.3, 2.5, 4.9, 1.5],\n",
              "        [6.1, 2.8, 4.7, 1.2],\n",
              "        [6.4, 2.9, 4.3, 1.3],\n",
              "        [6.6, 3. , 4.4, 1.4],\n",
              "        [6.8, 2.8, 4.8, 1.4],\n",
              "        [6.7, 3. , 5. , 1.7],\n",
              "        [6. , 2.9, 4.5, 1.5],\n",
              "        [5.7, 2.6, 3.5, 1. ],\n",
              "        [5.5, 2.4, 3.8, 1.1],\n",
              "        [5.5, 2.4, 3.7, 1. ],\n",
              "        [5.8, 2.7, 3.9, 1.2],\n",
              "        [6. , 2.7, 5.1, 1.6],\n",
              "        [5.4, 3. , 4.5, 1.5],\n",
              "        [6. , 3.4, 4.5, 1.6],\n",
              "        [6.7, 3.1, 4.7, 1.5],\n",
              "        [6.3, 2.3, 4.4, 1.3],\n",
              "        [5.6, 3. , 4.1, 1.3],\n",
              "        [5.5, 2.5, 4. , 1.3],\n",
              "        [5.5, 2.6, 4.4, 1.2],\n",
              "        [6.1, 3. , 4.6, 1.4],\n",
              "        [5.8, 2.6, 4. , 1.2],\n",
              "        [5. , 2.3, 3.3, 1. ],\n",
              "        [5.6, 2.7, 4.2, 1.3],\n",
              "        [5.7, 3. , 4.2, 1.2],\n",
              "        [5.7, 2.9, 4.2, 1.3],\n",
              "        [6.2, 2.9, 4.3, 1.3],\n",
              "        [5.1, 2.5, 3. , 1.1],\n",
              "        [5.7, 2.8, 4.1, 1.3],\n",
              "        [6.3, 3.3, 6. , 2.5],\n",
              "        [5.8, 2.7, 5.1, 1.9],\n",
              "        [7.1, 3. , 5.9, 2.1],\n",
              "        [6.3, 2.9, 5.6, 1.8],\n",
              "        [6.5, 3. , 5.8, 2.2],\n",
              "        [7.6, 3. , 6.6, 2.1],\n",
              "        [4.9, 2.5, 4.5, 1.7],\n",
              "        [7.3, 2.9, 6.3, 1.8],\n",
              "        [6.7, 2.5, 5.8, 1.8],\n",
              "        [7.2, 3.6, 6.1, 2.5],\n",
              "        [6.5, 3.2, 5.1, 2. ],\n",
              "        [6.4, 2.7, 5.3, 1.9],\n",
              "        [6.8, 3. , 5.5, 2.1],\n",
              "        [5.7, 2.5, 5. , 2. ],\n",
              "        [5.8, 2.8, 5.1, 2.4],\n",
              "        [6.4, 3.2, 5.3, 2.3],\n",
              "        [6.5, 3. , 5.5, 1.8],\n",
              "        [7.7, 3.8, 6.7, 2.2],\n",
              "        [7.7, 2.6, 6.9, 2.3],\n",
              "        [6. , 2.2, 5. , 1.5],\n",
              "        [6.9, 3.2, 5.7, 2.3],\n",
              "        [5.6, 2.8, 4.9, 2. ],\n",
              "        [7.7, 2.8, 6.7, 2. ],\n",
              "        [6.3, 2.7, 4.9, 1.8],\n",
              "        [6.7, 3.3, 5.7, 2.1],\n",
              "        [7.2, 3.2, 6. , 1.8],\n",
              "        [6.2, 2.8, 4.8, 1.8],\n",
              "        [6.1, 3. , 4.9, 1.8],\n",
              "        [6.4, 2.8, 5.6, 2.1],\n",
              "        [7.2, 3. , 5.8, 1.6],\n",
              "        [7.4, 2.8, 6.1, 1.9],\n",
              "        [7.9, 3.8, 6.4, 2. ],\n",
              "        [6.4, 2.8, 5.6, 2.2],\n",
              "        [6.3, 2.8, 5.1, 1.5],\n",
              "        [6.1, 2.6, 5.6, 1.4],\n",
              "        [7.7, 3. , 6.1, 2.3],\n",
              "        [6.3, 3.4, 5.6, 2.4],\n",
              "        [6.4, 3.1, 5.5, 1.8],\n",
              "        [6. , 3. , 4.8, 1.8],\n",
              "        [6.9, 3.1, 5.4, 2.1],\n",
              "        [6.7, 3.1, 5.6, 2.4],\n",
              "        [6.9, 3.1, 5.1, 2.3],\n",
              "        [5.8, 2.7, 5.1, 1.9],\n",
              "        [6.8, 3.2, 5.9, 2.3],\n",
              "        [6.7, 3.3, 5.7, 2.5],\n",
              "        [6.7, 3. , 5.2, 2.3],\n",
              "        [6.3, 2.5, 5. , 1.9],\n",
              "        [6.5, 3. , 5.2, 2. ],\n",
              "        [6.2, 3.4, 5.4, 2.3],\n",
              "        [5.9, 3. , 5.1, 1.8]]),\n",
              " 'target': array([0, 0, 0, 0, 0, 0, 0, 0, 0, 0, 0, 0, 0, 0, 0, 0, 0, 0, 0, 0, 0, 0,\n",
              "        0, 0, 0, 0, 0, 0, 0, 0, 0, 0, 0, 0, 0, 0, 0, 0, 0, 0, 0, 0, 0, 0,\n",
              "        0, 0, 0, 0, 0, 0, 1, 1, 1, 1, 1, 1, 1, 1, 1, 1, 1, 1, 1, 1, 1, 1,\n",
              "        1, 1, 1, 1, 1, 1, 1, 1, 1, 1, 1, 1, 1, 1, 1, 1, 1, 1, 1, 1, 1, 1,\n",
              "        1, 1, 1, 1, 1, 1, 1, 1, 1, 1, 1, 1, 2, 2, 2, 2, 2, 2, 2, 2, 2, 2,\n",
              "        2, 2, 2, 2, 2, 2, 2, 2, 2, 2, 2, 2, 2, 2, 2, 2, 2, 2, 2, 2, 2, 2,\n",
              "        2, 2, 2, 2, 2, 2, 2, 2, 2, 2, 2, 2, 2, 2, 2, 2, 2, 2]),\n",
              " 'frame': None,\n",
              " 'target_names': array(['setosa', 'versicolor', 'virginica'], dtype='<U10'),\n",
              " 'DESCR': '.. _iris_dataset:\\n\\nIris plants dataset\\n--------------------\\n\\n**Data Set Characteristics:**\\n\\n    :Number of Instances: 150 (50 in each of three classes)\\n    :Number of Attributes: 4 numeric, predictive attributes and the class\\n    :Attribute Information:\\n        - sepal length in cm\\n        - sepal width in cm\\n        - petal length in cm\\n        - petal width in cm\\n        - class:\\n                - Iris-Setosa\\n                - Iris-Versicolour\\n                - Iris-Virginica\\n                \\n    :Summary Statistics:\\n\\n    ============== ==== ==== ======= ===== ====================\\n                    Min  Max   Mean    SD   Class Correlation\\n    ============== ==== ==== ======= ===== ====================\\n    sepal length:   4.3  7.9   5.84   0.83    0.7826\\n    sepal width:    2.0  4.4   3.05   0.43   -0.4194\\n    petal length:   1.0  6.9   3.76   1.76    0.9490  (high!)\\n    petal width:    0.1  2.5   1.20   0.76    0.9565  (high!)\\n    ============== ==== ==== ======= ===== ====================\\n\\n    :Missing Attribute Values: None\\n    :Class Distribution: 33.3% for each of 3 classes.\\n    :Creator: R.A. Fisher\\n    :Donor: Michael Marshall (MARSHALL%PLU@io.arc.nasa.gov)\\n    :Date: July, 1988\\n\\nThe famous Iris database, first used by Sir R.A. Fisher. The dataset is taken\\nfrom Fisher\\'s paper. Note that it\\'s the same as in R, but not as in the UCI\\nMachine Learning Repository, which has two wrong data points.\\n\\nThis is perhaps the best known database to be found in the\\npattern recognition literature.  Fisher\\'s paper is a classic in the field and\\nis referenced frequently to this day.  (See Duda & Hart, for example.)  The\\ndata set contains 3 classes of 50 instances each, where each class refers to a\\ntype of iris plant.  One class is linearly separable from the other 2; the\\nlatter are NOT linearly separable from each other.\\n\\n.. topic:: References\\n\\n   - Fisher, R.A. \"The use of multiple measurements in taxonomic problems\"\\n     Annual Eugenics, 7, Part II, 179-188 (1936); also in \"Contributions to\\n     Mathematical Statistics\" (John Wiley, NY, 1950).\\n   - Duda, R.O., & Hart, P.E. (1973) Pattern Classification and Scene Analysis.\\n     (Q327.D83) John Wiley & Sons.  ISBN 0-471-22361-1.  See page 218.\\n   - Dasarathy, B.V. (1980) \"Nosing Around the Neighborhood: A New System\\n     Structure and Classification Rule for Recognition in Partially Exposed\\n     Environments\".  IEEE Transactions on Pattern Analysis and Machine\\n     Intelligence, Vol. PAMI-2, No. 1, 67-71.\\n   - Gates, G.W. (1972) \"The Reduced Nearest Neighbor Rule\".  IEEE Transactions\\n     on Information Theory, May 1972, 431-433.\\n   - See also: 1988 MLC Proceedings, 54-64.  Cheeseman et al\"s AUTOCLASS II\\n     conceptual clustering system finds 3 classes in the data.\\n   - Many, many more ...',\n",
              " 'feature_names': ['sepal length (cm)',\n",
              "  'sepal width (cm)',\n",
              "  'petal length (cm)',\n",
              "  'petal width (cm)'],\n",
              " 'filename': 'iris.csv',\n",
              " 'data_module': 'sklearn.datasets.data'}"
            ]
          },
          "metadata": {},
          "execution_count": 96
        }
      ],
      "source": [
        "iris=load_iris()\n",
        "iris"
      ]
    },
    {
      "cell_type": "code",
      "execution_count": 97,
      "metadata": {
        "colab": {
          "base_uri": "https://localhost:8080/"
        },
        "id": "ZsZh1T8S5b1a",
        "outputId": "b48ce11a-a7f0-4fd4-db10-9154f0dec23f"
      },
      "outputs": [
        {
          "output_type": "execute_result",
          "data": {
            "text/plain": [
              "array([0, 0, 0, 0, 0, 0, 0, 0, 0, 0, 0, 0, 0, 0, 0, 0, 0, 0, 0, 0, 0, 0,\n",
              "       0, 0, 0, 0, 0, 0, 0, 0, 0, 0, 0, 0, 0, 0, 0, 0, 0, 0, 0, 0, 0, 0,\n",
              "       0, 0, 0, 0, 0, 0, 1, 1, 1, 1, 1, 1, 1, 1, 1, 1, 1, 1, 1, 1, 1, 1,\n",
              "       1, 1, 1, 1, 1, 1, 1, 1, 1, 1, 1, 1, 1, 1, 1, 1, 1, 1, 1, 1, 1, 1,\n",
              "       1, 1, 1, 1, 1, 1, 1, 1, 1, 1, 1, 1, 2, 2, 2, 2, 2, 2, 2, 2, 2, 2,\n",
              "       2, 2, 2, 2, 2, 2, 2, 2, 2, 2, 2, 2, 2, 2, 2, 2, 2, 2, 2, 2, 2, 2,\n",
              "       2, 2, 2, 2, 2, 2, 2, 2, 2, 2, 2, 2, 2, 2, 2, 2, 2, 2])"
            ]
          },
          "metadata": {},
          "execution_count": 97
        }
      ],
      "source": [
        "iris.target"
      ]
    },
    {
      "cell_type": "code",
      "execution_count": 98,
      "metadata": {
        "id": "n3y3WtoN5jof"
      },
      "outputs": [],
      "source": [
        "# total number of neurons(inputes) in input layer - 4\n",
        "# total number of neurons in hidden layer adjacent to input layer - 2/3 of input layer\n",
        "# total number of hidden neurons in adjacent layer is not fixed, if complexity is less, reduce the neurons , if underfit then increase the neurons"
      ]
    },
    {
      "cell_type": "code",
      "execution_count": 99,
      "metadata": {
        "colab": {
          "base_uri": "https://localhost:8080/"
        },
        "id": "TpEgMoQ47kNL",
        "outputId": "be2a3aa9-adfb-41df-cccf-5e9092110918"
      },
      "outputs": [
        {
          "output_type": "execute_result",
          "data": {
            "text/plain": [
              "(150, 4)"
            ]
          },
          "metadata": {},
          "execution_count": 99
        }
      ],
      "source": [
        "iris.data.shape"
      ]
    },
    {
      "cell_type": "code",
      "execution_count": 100,
      "metadata": {
        "id": "kPmNecae7sz0"
      },
      "outputs": [],
      "source": [
        "X_train,X_test,y_train,y_test=train_test_split(iris.data,iris.target,test_size=0.2,random_state=42)\n",
        "# random state - > used to select random data in a sequenece\n",
        "# to select randomly -> random_state=0"
      ]
    },
    {
      "cell_type": "code",
      "execution_count": 101,
      "metadata": {
        "colab": {
          "base_uri": "https://localhost:8080/"
        },
        "id": "NcHOghsQ8YZy",
        "outputId": "68b8bdc8-75b7-4d05-fd21-d9c97e94ad55"
      },
      "outputs": [
        {
          "output_type": "execute_result",
          "data": {
            "text/plain": [
              "array([[4.6, 3.6, 1. , 0.2],\n",
              "       [5.7, 4.4, 1.5, 0.4],\n",
              "       [6.7, 3.1, 4.4, 1.4],\n",
              "       [4.8, 3.4, 1.6, 0.2],\n",
              "       [4.4, 3.2, 1.3, 0.2],\n",
              "       [6.3, 2.5, 5. , 1.9],\n",
              "       [6.4, 3.2, 4.5, 1.5],\n",
              "       [5.2, 3.5, 1.5, 0.2],\n",
              "       [5. , 3.6, 1.4, 0.2],\n",
              "       [5.2, 4.1, 1.5, 0.1],\n",
              "       [5.8, 2.7, 5.1, 1.9],\n",
              "       [6. , 3.4, 4.5, 1.6],\n",
              "       [6.7, 3.1, 4.7, 1.5],\n",
              "       [5.4, 3.9, 1.3, 0.4],\n",
              "       [5.4, 3.7, 1.5, 0.2],\n",
              "       [5.5, 2.4, 3.7, 1. ],\n",
              "       [6.3, 2.8, 5.1, 1.5],\n",
              "       [6.4, 3.1, 5.5, 1.8],\n",
              "       [6.6, 3. , 4.4, 1.4],\n",
              "       [7.2, 3.6, 6.1, 2.5],\n",
              "       [5.7, 2.9, 4.2, 1.3],\n",
              "       [7.6, 3. , 6.6, 2.1],\n",
              "       [5.6, 3. , 4.5, 1.5],\n",
              "       [5.1, 3.5, 1.4, 0.2],\n",
              "       [7.7, 2.8, 6.7, 2. ],\n",
              "       [5.8, 2.7, 4.1, 1. ],\n",
              "       [5.2, 3.4, 1.4, 0.2],\n",
              "       [5. , 3.5, 1.3, 0.3],\n",
              "       [5.1, 3.8, 1.9, 0.4],\n",
              "       [5. , 2. , 3.5, 1. ],\n",
              "       [6.3, 2.7, 4.9, 1.8],\n",
              "       [4.8, 3.4, 1.9, 0.2],\n",
              "       [5. , 3. , 1.6, 0.2],\n",
              "       [5.1, 3.3, 1.7, 0.5],\n",
              "       [5.6, 2.7, 4.2, 1.3],\n",
              "       [5.1, 3.4, 1.5, 0.2],\n",
              "       [5.7, 3. , 4.2, 1.2],\n",
              "       [7.7, 3.8, 6.7, 2.2],\n",
              "       [4.6, 3.2, 1.4, 0.2],\n",
              "       [6.2, 2.9, 4.3, 1.3],\n",
              "       [5.7, 2.5, 5. , 2. ],\n",
              "       [5.5, 4.2, 1.4, 0.2],\n",
              "       [6. , 3. , 4.8, 1.8],\n",
              "       [5.8, 2.7, 5.1, 1.9],\n",
              "       [6. , 2.2, 4. , 1. ],\n",
              "       [5.4, 3. , 4.5, 1.5],\n",
              "       [6.2, 3.4, 5.4, 2.3],\n",
              "       [5.5, 2.3, 4. , 1.3],\n",
              "       [5.4, 3.9, 1.7, 0.4],\n",
              "       [5. , 2.3, 3.3, 1. ],\n",
              "       [6.4, 2.7, 5.3, 1.9],\n",
              "       [5. , 3.3, 1.4, 0.2],\n",
              "       [5. , 3.2, 1.2, 0.2],\n",
              "       [5.5, 2.4, 3.8, 1.1],\n",
              "       [6.7, 3. , 5. , 1.7],\n",
              "       [4.9, 3.1, 1.5, 0.2],\n",
              "       [5.8, 2.8, 5.1, 2.4],\n",
              "       [5. , 3.4, 1.5, 0.2],\n",
              "       [5. , 3.5, 1.6, 0.6],\n",
              "       [5.9, 3.2, 4.8, 1.8],\n",
              "       [5.1, 2.5, 3. , 1.1],\n",
              "       [6.9, 3.2, 5.7, 2.3],\n",
              "       [6. , 2.7, 5.1, 1.6],\n",
              "       [6.1, 2.6, 5.6, 1.4],\n",
              "       [7.7, 3. , 6.1, 2.3],\n",
              "       [5.5, 2.5, 4. , 1.3],\n",
              "       [4.4, 2.9, 1.4, 0.2],\n",
              "       [4.3, 3. , 1.1, 0.1],\n",
              "       [6. , 2.2, 5. , 1.5],\n",
              "       [7.2, 3.2, 6. , 1.8],\n",
              "       [4.6, 3.1, 1.5, 0.2],\n",
              "       [5.1, 3.5, 1.4, 0.3],\n",
              "       [4.4, 3. , 1.3, 0.2],\n",
              "       [6.3, 2.5, 4.9, 1.5],\n",
              "       [6.3, 3.4, 5.6, 2.4],\n",
              "       [4.6, 3.4, 1.4, 0.3],\n",
              "       [6.8, 3. , 5.5, 2.1],\n",
              "       [6.3, 3.3, 6. , 2.5],\n",
              "       [4.7, 3.2, 1.3, 0.2],\n",
              "       [6.1, 2.9, 4.7, 1.4],\n",
              "       [6.5, 2.8, 4.6, 1.5],\n",
              "       [6.2, 2.8, 4.8, 1.8],\n",
              "       [7. , 3.2, 4.7, 1.4],\n",
              "       [6.4, 3.2, 5.3, 2.3],\n",
              "       [5.1, 3.8, 1.6, 0.2],\n",
              "       [6.9, 3.1, 5.4, 2.1],\n",
              "       [5.9, 3. , 4.2, 1.5],\n",
              "       [6.5, 3. , 5.2, 2. ],\n",
              "       [5.7, 2.6, 3.5, 1. ],\n",
              "       [5.2, 2.7, 3.9, 1.4],\n",
              "       [6.1, 3. , 4.6, 1.4],\n",
              "       [4.5, 2.3, 1.3, 0.3],\n",
              "       [6.6, 2.9, 4.6, 1.3],\n",
              "       [5.5, 2.6, 4.4, 1.2],\n",
              "       [5.3, 3.7, 1.5, 0.2],\n",
              "       [5.6, 3. , 4.1, 1.3],\n",
              "       [7.3, 2.9, 6.3, 1.8],\n",
              "       [6.7, 3.3, 5.7, 2.1],\n",
              "       [5.1, 3.7, 1.5, 0.4],\n",
              "       [4.9, 2.4, 3.3, 1. ],\n",
              "       [6.7, 3.3, 5.7, 2.5],\n",
              "       [7.2, 3. , 5.8, 1.6],\n",
              "       [4.9, 3.6, 1.4, 0.1],\n",
              "       [6.7, 3.1, 5.6, 2.4],\n",
              "       [4.9, 3. , 1.4, 0.2],\n",
              "       [6.9, 3.1, 4.9, 1.5],\n",
              "       [7.4, 2.8, 6.1, 1.9],\n",
              "       [6.3, 2.9, 5.6, 1.8],\n",
              "       [5.7, 2.8, 4.1, 1.3],\n",
              "       [6.5, 3. , 5.5, 1.8],\n",
              "       [6.3, 2.3, 4.4, 1.3],\n",
              "       [6.4, 2.9, 4.3, 1.3],\n",
              "       [5.6, 2.8, 4.9, 2. ],\n",
              "       [5.9, 3. , 5.1, 1.8],\n",
              "       [5.4, 3.4, 1.7, 0.2],\n",
              "       [6.1, 2.8, 4. , 1.3],\n",
              "       [4.9, 2.5, 4.5, 1.7],\n",
              "       [5.8, 4. , 1.2, 0.2],\n",
              "       [5.8, 2.6, 4. , 1.2],\n",
              "       [7.1, 3. , 5.9, 2.1]])"
            ]
          },
          "metadata": {},
          "execution_count": 101
        }
      ],
      "source": [
        "X_train"
      ]
    },
    {
      "cell_type": "code",
      "execution_count": 102,
      "metadata": {
        "id": "CQrCm0Gi8aPO"
      },
      "outputs": [],
      "source": [
        "# Sequential is used when we want our layers in a sequence(input layer, hidden layer and output layer )\n",
        "# Dense is used to fully connect the neuron( apne aage wale layer se fully connected ho jaye)(har ek neuron hidden layer ke her ek neuron se connect ho jayega)\n",
        "# relu is used to overcome vanishing gradient problem\n",
        "# softmax is used for mutliclass classification\n",
        "from tensorflow.keras.regularizers import l1\n",
        "\n",
        "model=Sequential([\n",
        "    Dense(units=3,activation=\"relu\",input_shape=(X_train.shape[1],), kernel_regularizer=l1(.01)), # hidden layer\n",
        "    Dense(units=3,activation=\"softmax\",)# output layer\n",
        "])"
      ]
    },
    {
      "cell_type": "code",
      "execution_count": 103,
      "metadata": {
        "colab": {
          "base_uri": "https://localhost:8080/"
        },
        "id": "amqckJy9A9LS",
        "outputId": "4ada52f0-013c-4bac-fb1f-32b6d3631fba"
      },
      "outputs": [
        {
          "output_type": "stream",
          "name": "stdout",
          "text": [
            "Model: \"sequential_1\"\n",
            "_________________________________________________________________\n",
            " Layer (type)                Output Shape              Param #   \n",
            "=================================================================\n",
            " dense_3 (Dense)             (None, 3)                 15        \n",
            "                                                                 \n",
            " dense_4 (Dense)             (None, 3)                 12        \n",
            "                                                                 \n",
            "=================================================================\n",
            "Total params: 27\n",
            "Trainable params: 27\n",
            "Non-trainable params: 0\n",
            "_________________________________________________________________\n"
          ]
        }
      ],
      "source": [
        "model.summary()"
      ]
    },
    {
      "cell_type": "code",
      "execution_count": 104,
      "metadata": {
        "id": "iCN2OQpCBir2"
      },
      "outputs": [],
      "source": [
        "model.compile(optimizer=\"SGD\",loss=\"sparse_categorical_crossentropy\",metrics=[\"accuracy\"])\n",
        "# optimizer --> stochastic gradient descent\n",
        "# sparse_categorical_entropy - multi class classification"
      ]
    },
    {
      "cell_type": "code",
      "execution_count": 105,
      "metadata": {
        "colab": {
          "base_uri": "https://localhost:8080/"
        },
        "id": "2ECkVJGqBvvF",
        "outputId": "79df109a-722c-4381-89d7-39ac56ca3f96"
      },
      "outputs": [
        {
          "output_type": "stream",
          "name": "stdout",
          "text": [
            "Epoch 1/100\n",
            "4/4 [==============================] - 0s 5ms/step - loss: 1.1440 - accuracy: 0.3333\n",
            "Epoch 2/100\n",
            "4/4 [==============================] - 0s 3ms/step - loss: 1.0459 - accuracy: 0.4417\n",
            "Epoch 3/100\n",
            "4/4 [==============================] - 0s 2ms/step - loss: 1.0181 - accuracy: 0.6083\n",
            "Epoch 4/100\n",
            "4/4 [==============================] - 0s 3ms/step - loss: 1.0056 - accuracy: 0.6500\n",
            "Epoch 5/100\n",
            "4/4 [==============================] - 0s 3ms/step - loss: 0.9927 - accuracy: 0.6500\n",
            "Epoch 6/100\n",
            "4/4 [==============================] - 0s 3ms/step - loss: 0.9795 - accuracy: 0.6583\n",
            "Epoch 7/100\n",
            "4/4 [==============================] - 0s 3ms/step - loss: 0.9666 - accuracy: 0.6583\n",
            "Epoch 8/100\n",
            "4/4 [==============================] - 0s 4ms/step - loss: 0.9540 - accuracy: 0.6833\n",
            "Epoch 9/100\n",
            "4/4 [==============================] - 0s 4ms/step - loss: 0.9421 - accuracy: 0.6500\n",
            "Epoch 10/100\n",
            "4/4 [==============================] - 0s 3ms/step - loss: 0.9307 - accuracy: 0.6917\n",
            "Epoch 11/100\n",
            "4/4 [==============================] - 0s 3ms/step - loss: 0.9202 - accuracy: 0.6917\n",
            "Epoch 12/100\n",
            "4/4 [==============================] - 0s 3ms/step - loss: 0.9098 - accuracy: 0.6833\n",
            "Epoch 13/100\n",
            "4/4 [==============================] - 0s 3ms/step - loss: 0.9016 - accuracy: 0.7000\n",
            "Epoch 14/100\n",
            "4/4 [==============================] - 0s 3ms/step - loss: 0.8943 - accuracy: 0.7167\n",
            "Epoch 15/100\n",
            "4/4 [==============================] - 0s 3ms/step - loss: 0.8875 - accuracy: 0.6833\n",
            "Epoch 16/100\n",
            "4/4 [==============================] - 0s 3ms/step - loss: 0.8811 - accuracy: 0.6917\n",
            "Epoch 17/100\n",
            "4/4 [==============================] - 0s 3ms/step - loss: 0.8756 - accuracy: 0.6583\n",
            "Epoch 18/100\n",
            "4/4 [==============================] - 0s 5ms/step - loss: 0.8702 - accuracy: 0.6667\n",
            "Epoch 19/100\n",
            "4/4 [==============================] - 0s 3ms/step - loss: 0.8646 - accuracy: 0.6833\n",
            "Epoch 20/100\n",
            "4/4 [==============================] - 0s 3ms/step - loss: 0.8598 - accuracy: 0.6917\n",
            "Epoch 21/100\n",
            "4/4 [==============================] - 0s 3ms/step - loss: 0.8549 - accuracy: 0.7000\n",
            "Epoch 22/100\n",
            "4/4 [==============================] - 0s 3ms/step - loss: 0.8507 - accuracy: 0.7000\n",
            "Epoch 23/100\n",
            "4/4 [==============================] - 0s 3ms/step - loss: 0.8462 - accuracy: 0.6833\n",
            "Epoch 24/100\n",
            "4/4 [==============================] - 0s 3ms/step - loss: 0.8419 - accuracy: 0.7000\n",
            "Epoch 25/100\n",
            "4/4 [==============================] - 0s 3ms/step - loss: 0.8382 - accuracy: 0.7167\n",
            "Epoch 26/100\n",
            "4/4 [==============================] - 0s 3ms/step - loss: 0.8342 - accuracy: 0.7250\n",
            "Epoch 27/100\n",
            "4/4 [==============================] - 0s 3ms/step - loss: 0.8298 - accuracy: 0.7083\n",
            "Epoch 28/100\n",
            "4/4 [==============================] - 0s 3ms/step - loss: 0.8261 - accuracy: 0.7250\n",
            "Epoch 29/100\n",
            "4/4 [==============================] - 0s 3ms/step - loss: 0.8225 - accuracy: 0.7167\n",
            "Epoch 30/100\n",
            "4/4 [==============================] - 0s 3ms/step - loss: 0.8193 - accuracy: 0.7167\n",
            "Epoch 31/100\n",
            "4/4 [==============================] - 0s 3ms/step - loss: 0.8153 - accuracy: 0.7250\n",
            "Epoch 32/100\n",
            "4/4 [==============================] - 0s 3ms/step - loss: 0.8122 - accuracy: 0.7083\n",
            "Epoch 33/100\n",
            "4/4 [==============================] - 0s 3ms/step - loss: 0.8094 - accuracy: 0.7000\n",
            "Epoch 34/100\n",
            "4/4 [==============================] - 0s 3ms/step - loss: 0.8058 - accuracy: 0.7167\n",
            "Epoch 35/100\n",
            "4/4 [==============================] - 0s 3ms/step - loss: 0.8026 - accuracy: 0.7167\n",
            "Epoch 36/100\n",
            "4/4 [==============================] - 0s 3ms/step - loss: 0.7993 - accuracy: 0.7167\n",
            "Epoch 37/100\n",
            "4/4 [==============================] - 0s 3ms/step - loss: 0.7969 - accuracy: 0.7167\n",
            "Epoch 38/100\n",
            "4/4 [==============================] - 0s 3ms/step - loss: 0.7934 - accuracy: 0.7250\n",
            "Epoch 39/100\n",
            "4/4 [==============================] - 0s 3ms/step - loss: 0.7907 - accuracy: 0.7333\n",
            "Epoch 40/100\n",
            "4/4 [==============================] - 0s 4ms/step - loss: 0.7889 - accuracy: 0.7083\n",
            "Epoch 41/100\n",
            "4/4 [==============================] - 0s 3ms/step - loss: 0.7850 - accuracy: 0.7250\n",
            "Epoch 42/100\n",
            "4/4 [==============================] - 0s 3ms/step - loss: 0.7823 - accuracy: 0.7250\n",
            "Epoch 43/100\n",
            "4/4 [==============================] - 0s 4ms/step - loss: 0.7797 - accuracy: 0.7333\n",
            "Epoch 44/100\n",
            "4/4 [==============================] - 0s 3ms/step - loss: 0.7772 - accuracy: 0.7167\n",
            "Epoch 45/100\n",
            "4/4 [==============================] - 0s 3ms/step - loss: 0.7744 - accuracy: 0.7250\n",
            "Epoch 46/100\n",
            "4/4 [==============================] - 0s 3ms/step - loss: 0.7728 - accuracy: 0.7250\n",
            "Epoch 47/100\n",
            "4/4 [==============================] - 0s 4ms/step - loss: 0.7695 - accuracy: 0.7167\n",
            "Epoch 48/100\n",
            "4/4 [==============================] - 0s 3ms/step - loss: 0.7670 - accuracy: 0.7250\n",
            "Epoch 49/100\n",
            "4/4 [==============================] - 0s 3ms/step - loss: 0.7651 - accuracy: 0.7167\n",
            "Epoch 50/100\n",
            "4/4 [==============================] - 0s 3ms/step - loss: 0.7625 - accuracy: 0.7000\n",
            "Epoch 51/100\n",
            "4/4 [==============================] - 0s 3ms/step - loss: 0.7597 - accuracy: 0.7083\n",
            "Epoch 52/100\n",
            "4/4 [==============================] - 0s 3ms/step - loss: 0.7578 - accuracy: 0.7250\n",
            "Epoch 53/100\n",
            "4/4 [==============================] - 0s 3ms/step - loss: 0.7556 - accuracy: 0.7167\n",
            "Epoch 54/100\n",
            "4/4 [==============================] - 0s 3ms/step - loss: 0.7532 - accuracy: 0.7167\n",
            "Epoch 55/100\n",
            "4/4 [==============================] - 0s 3ms/step - loss: 0.7521 - accuracy: 0.7167\n",
            "Epoch 56/100\n",
            "4/4 [==============================] - 0s 3ms/step - loss: 0.7484 - accuracy: 0.7167\n",
            "Epoch 57/100\n",
            "4/4 [==============================] - 0s 3ms/step - loss: 0.7466 - accuracy: 0.7250\n",
            "Epoch 58/100\n",
            "4/4 [==============================] - 0s 3ms/step - loss: 0.7444 - accuracy: 0.7250\n",
            "Epoch 59/100\n",
            "4/4 [==============================] - 0s 3ms/step - loss: 0.7421 - accuracy: 0.7167\n",
            "Epoch 60/100\n",
            "4/4 [==============================] - 0s 3ms/step - loss: 0.7403 - accuracy: 0.7250\n",
            "Epoch 61/100\n",
            "4/4 [==============================] - 0s 3ms/step - loss: 0.7380 - accuracy: 0.7583\n",
            "Epoch 62/100\n",
            "4/4 [==============================] - 0s 3ms/step - loss: 0.7379 - accuracy: 0.7333\n",
            "Epoch 63/100\n",
            "4/4 [==============================] - 0s 4ms/step - loss: 0.7352 - accuracy: 0.7250\n",
            "Epoch 64/100\n",
            "4/4 [==============================] - 0s 4ms/step - loss: 0.7328 - accuracy: 0.7417\n",
            "Epoch 65/100\n",
            "4/4 [==============================] - 0s 4ms/step - loss: 0.7304 - accuracy: 0.7333\n",
            "Epoch 66/100\n",
            "4/4 [==============================] - 0s 4ms/step - loss: 0.7295 - accuracy: 0.7417\n",
            "Epoch 67/100\n",
            "4/4 [==============================] - 0s 4ms/step - loss: 0.7267 - accuracy: 0.7500\n",
            "Epoch 68/100\n",
            "4/4 [==============================] - 0s 3ms/step - loss: 0.7261 - accuracy: 0.7417\n",
            "Epoch 69/100\n",
            "4/4 [==============================] - 0s 3ms/step - loss: 0.7237 - accuracy: 0.7333\n",
            "Epoch 70/100\n",
            "4/4 [==============================] - 0s 3ms/step - loss: 0.7212 - accuracy: 0.7500\n",
            "Epoch 71/100\n",
            "4/4 [==============================] - 0s 4ms/step - loss: 0.7201 - accuracy: 0.7417\n",
            "Epoch 72/100\n",
            "4/4 [==============================] - 0s 4ms/step - loss: 0.7186 - accuracy: 0.7333\n",
            "Epoch 73/100\n",
            "4/4 [==============================] - 0s 4ms/step - loss: 0.7161 - accuracy: 0.7500\n",
            "Epoch 74/100\n",
            "4/4 [==============================] - 0s 3ms/step - loss: 0.7164 - accuracy: 0.7333\n",
            "Epoch 75/100\n",
            "4/4 [==============================] - 0s 4ms/step - loss: 0.7125 - accuracy: 0.7667\n",
            "Epoch 76/100\n",
            "4/4 [==============================] - 0s 3ms/step - loss: 0.7108 - accuracy: 0.7500\n",
            "Epoch 77/100\n",
            "4/4 [==============================] - 0s 3ms/step - loss: 0.7102 - accuracy: 0.7417\n",
            "Epoch 78/100\n",
            "4/4 [==============================] - 0s 3ms/step - loss: 0.7081 - accuracy: 0.7500\n",
            "Epoch 79/100\n",
            "4/4 [==============================] - 0s 3ms/step - loss: 0.7071 - accuracy: 0.7500\n",
            "Epoch 80/100\n",
            "4/4 [==============================] - 0s 3ms/step - loss: 0.7053 - accuracy: 0.7750\n",
            "Epoch 81/100\n",
            "4/4 [==============================] - 0s 3ms/step - loss: 0.7047 - accuracy: 0.7333\n",
            "Epoch 82/100\n",
            "4/4 [==============================] - 0s 3ms/step - loss: 0.7011 - accuracy: 0.7583\n",
            "Epoch 83/100\n",
            "4/4 [==============================] - 0s 3ms/step - loss: 0.7004 - accuracy: 0.7583\n",
            "Epoch 84/100\n",
            "4/4 [==============================] - 0s 3ms/step - loss: 0.6979 - accuracy: 0.7667\n",
            "Epoch 85/100\n",
            "4/4 [==============================] - 0s 3ms/step - loss: 0.6968 - accuracy: 0.7500\n",
            "Epoch 86/100\n",
            "4/4 [==============================] - 0s 3ms/step - loss: 0.6966 - accuracy: 0.7667\n",
            "Epoch 87/100\n",
            "4/4 [==============================] - 0s 4ms/step - loss: 0.6938 - accuracy: 0.7500\n",
            "Epoch 88/100\n",
            "4/4 [==============================] - 0s 3ms/step - loss: 0.6923 - accuracy: 0.7750\n",
            "Epoch 89/100\n",
            "4/4 [==============================] - 0s 3ms/step - loss: 0.6905 - accuracy: 0.7667\n",
            "Epoch 90/100\n",
            "4/4 [==============================] - 0s 3ms/step - loss: 0.6901 - accuracy: 0.7833\n",
            "Epoch 91/100\n",
            "4/4 [==============================] - 0s 3ms/step - loss: 0.6884 - accuracy: 0.7667\n",
            "Epoch 92/100\n",
            "4/4 [==============================] - 0s 3ms/step - loss: 0.6879 - accuracy: 0.7500\n",
            "Epoch 93/100\n",
            "4/4 [==============================] - 0s 3ms/step - loss: 0.6868 - accuracy: 0.7750\n",
            "Epoch 94/100\n",
            "4/4 [==============================] - 0s 3ms/step - loss: 0.6842 - accuracy: 0.7500\n",
            "Epoch 95/100\n",
            "4/4 [==============================] - 0s 3ms/step - loss: 0.6821 - accuracy: 0.7667\n",
            "Epoch 96/100\n",
            "4/4 [==============================] - 0s 3ms/step - loss: 0.6806 - accuracy: 0.7750\n",
            "Epoch 97/100\n",
            "4/4 [==============================] - 0s 3ms/step - loss: 0.6796 - accuracy: 0.7750\n",
            "Epoch 98/100\n",
            "4/4 [==============================] - 0s 3ms/step - loss: 0.6781 - accuracy: 0.7833\n",
            "Epoch 99/100\n",
            "4/4 [==============================] - 0s 3ms/step - loss: 0.6770 - accuracy: 0.7750\n",
            "Epoch 100/100\n",
            "4/4 [==============================] - 0s 3ms/step - loss: 0.6760 - accuracy: 0.7667\n"
          ]
        },
        {
          "output_type": "execute_result",
          "data": {
            "text/plain": [
              "<keras.callbacks.History at 0x7a1297eb3460>"
            ]
          },
          "metadata": {},
          "execution_count": 105
        }
      ],
      "source": [
        "model.fit(X_train,y_train,epochs=100, verbose=1)"
      ]
    },
    {
      "cell_type": "code",
      "execution_count": 106,
      "metadata": {
        "colab": {
          "base_uri": "https://localhost:8080/"
        },
        "id": "J6irXcjLC_Ev",
        "outputId": "70b2efd7-4024-478f-9071-da3b23393bdd"
      },
      "outputs": [
        {
          "output_type": "stream",
          "name": "stdout",
          "text": [
            "1/1 [==============================] - 0s 142ms/step - loss: 0.6836 - accuracy: 0.7333\n"
          ]
        },
        {
          "output_type": "execute_result",
          "data": {
            "text/plain": [
              "[0.6836192011833191, 0.7333333492279053]"
            ]
          },
          "metadata": {},
          "execution_count": 106
        }
      ],
      "source": [
        "model.evaluate(X_test,y_test)"
      ]
    },
    {
      "cell_type": "code",
      "execution_count": 107,
      "metadata": {
        "colab": {
          "base_uri": "https://localhost:8080/"
        },
        "id": "7Q7QwideENKG",
        "outputId": "fc380ae7-892e-4734-9077-e247e74b973a"
      },
      "outputs": [
        {
          "output_type": "stream",
          "name": "stdout",
          "text": [
            "1/1 [==============================] - 0s 47ms/step\n"
          ]
        },
        {
          "output_type": "execute_result",
          "data": {
            "text/plain": [
              "array([[0.22129783, 0.33268985, 0.44601214],\n",
              "       [0.9579914 , 0.02035665, 0.0216519 ],\n",
              "       [0.25062147, 0.23935394, 0.5100246 ],\n",
              "       [0.19438721, 0.41679323, 0.38881946],\n",
              "       [0.20683075, 0.37804875, 0.41512045],\n",
              "       [0.93723524, 0.0306655 , 0.03209916],\n",
              "       [0.25372383, 0.39123574, 0.3550405 ],\n",
              "       [0.19116196, 0.42679968, 0.38203835],\n",
              "       [0.2065952 , 0.37878436, 0.4146204 ],\n",
              "       [0.19661237, 0.42366034, 0.37972736],\n",
              "       [0.19116196, 0.42679968, 0.38203835],\n",
              "       [0.9185481 , 0.04001154, 0.04144036],\n",
              "       [0.96444166, 0.01717275, 0.01838548],\n",
              "       [0.9211055 , 0.03872945, 0.04016507],\n",
              "       [0.9539991 , 0.02233253, 0.02366845],\n",
              "       [0.19116196, 0.42679968, 0.38203835],\n",
              "       [0.21358696, 0.3569117 , 0.4295014 ],\n",
              "       [0.19949846, 0.40090632, 0.39959523],\n",
              "       [0.21142808, 0.3636741 , 0.42489782],\n",
              "       [0.20904888, 0.37111747, 0.41983354],\n",
              "       [0.90219903, 0.04822813, 0.04957284],\n",
              "       [0.19494456, 0.41506273, 0.3899927 ],\n",
              "       [0.914332  , 0.04212712, 0.04354084],\n",
              "       [0.21436012, 0.35448775, 0.43115205],\n",
              "       [0.21951777, 0.33829144, 0.4421908 ],\n",
              "       [0.19116196, 0.42679968, 0.38203835],\n",
              "       [0.24017192, 0.27287593, 0.48695204],\n",
              "       [0.20522569, 0.3830594 , 0.41171494],\n",
              "       [0.9012216 , 0.04872041, 0.050058  ],\n",
              "       [0.8984343 , 0.05012483, 0.05144088]], dtype=float32)"
            ]
          },
          "metadata": {},
          "execution_count": 107
        }
      ],
      "source": [
        "model.predict(X_test)"
      ]
    },
    {
      "cell_type": "code",
      "execution_count": 108,
      "metadata": {
        "id": "r1hYWh0WEUKl"
      },
      "outputs": [],
      "source": [
        "# new project"
      ]
    },
    {
      "cell_type": "code",
      "execution_count": 109,
      "metadata": {
        "id": "L_SI8wJRKllD"
      },
      "outputs": [],
      "source": [
        "import tensorflow as tf\n",
        "from tensorflow.keras.models import Sequential\n",
        "from tensorflow.keras.datasets import mnist\n",
        "from tensorflow.keras.layers import Dense,Flatten\n",
        "from sklearn.model_selection import train_test_split\n",
        "from sklearn.preprocessing import StandardScaler\n",
        "from tensorflow.keras.utils import to_categorical"
      ]
    },
    {
      "cell_type": "code",
      "execution_count": 110,
      "metadata": {
        "id": "PnxXrLHfKsLW"
      },
      "outputs": [],
      "source": [
        "(x_train,y_train),(x_test,y_test) = mnist.load_data()"
      ]
    },
    {
      "cell_type": "code",
      "execution_count": 111,
      "metadata": {
        "colab": {
          "base_uri": "https://localhost:8080/"
        },
        "id": "kFg9kYFNK4AZ",
        "outputId": "76dd0fa1-ead7-49ab-bb31-f871c4da1536"
      },
      "outputs": [
        {
          "output_type": "execute_result",
          "data": {
            "text/plain": [
              "(60000, 28, 28)"
            ]
          },
          "metadata": {},
          "execution_count": 111
        }
      ],
      "source": [
        "x_train.shape # 28 rows, 28 cols and 60,000 entries"
      ]
    },
    {
      "cell_type": "code",
      "execution_count": 112,
      "metadata": {
        "colab": {
          "base_uri": "https://localhost:8080/"
        },
        "id": "0sbzSvvpLPDu",
        "outputId": "7c5943c3-b034-4b9d-fac9-7c812baeb96c"
      },
      "outputs": [
        {
          "output_type": "execute_result",
          "data": {
            "text/plain": [
              "(60000,)"
            ]
          },
          "metadata": {},
          "execution_count": 112
        }
      ],
      "source": [
        "y_train.shape"
      ]
    },
    {
      "cell_type": "code",
      "execution_count": 113,
      "metadata": {
        "id": "tCVFVy0QLRTs"
      },
      "outputs": [],
      "source": [
        "y_train=to_categorical(y_train,num_classes=10)\n",
        "y_test=to_categorical(y_test,num_classes=10)\n",
        "# target variable"
      ]
    },
    {
      "cell_type": "code",
      "execution_count": 114,
      "metadata": {
        "id": "cfDQHmrsX014"
      },
      "outputs": [],
      "source": [
        "x_train=x_train/255\n",
        "x_test=x_test/255"
      ]
    },
    {
      "cell_type": "code",
      "execution_count": 115,
      "metadata": {
        "colab": {
          "base_uri": "https://localhost:8080/"
        },
        "id": "IJlY54lSP3Ia",
        "outputId": "c951ae3c-60a8-46ae-ad8b-2f7b7e97f97e"
      },
      "outputs": [
        {
          "output_type": "execute_result",
          "data": {
            "text/plain": [
              "(60000, 10)"
            ]
          },
          "metadata": {},
          "execution_count": 115
        }
      ],
      "source": [
        "y_train.shape\n",
        "# array of size 10"
      ]
    },
    {
      "cell_type": "code",
      "execution_count": 116,
      "metadata": {
        "id": "U5fVNgStLaMS"
      },
      "outputs": [],
      "source": [
        "from tensorflow.keras.regularizers import l1\n",
        "\n",
        "\n",
        "model=Sequential([\n",
        "    Flatten(input_shape=(28,28)),\n",
        "    Dense(528,activation=\"relu\"), # hidden layer1 # relu because output is in numbers # relu is good for hidden layer\n",
        "    Dense(250,activation=\"relu\"),# hidden layer2\n",
        "    Dense(100,activation=\"relu\"),# hidden layer3\n",
        "    Dense(10,activation=\"softmax\",)# output layer\n",
        "])"
      ]
    },
    {
      "cell_type": "code",
      "execution_count": 117,
      "metadata": {
        "id": "6o6bVM4pObCH"
      },
      "outputs": [],
      "source": [
        "model.compile(optimizer=\"adam\",loss=\"categorical_crossentropy\",metrics=([\"accuracy\"])) # metrics is them thing on which we judge our model\n",
        "# accuracy as it as classification problem"
      ]
    },
    {
      "cell_type": "code",
      "execution_count": 118,
      "metadata": {
        "colab": {
          "base_uri": "https://localhost:8080/"
        },
        "id": "QkJ6-I8JRRxI",
        "outputId": "bacd6d13-ee01-4762-d2f1-788ac2a1a8fa"
      },
      "outputs": [
        {
          "output_type": "stream",
          "name": "stdout",
          "text": [
            "Model: \"sequential_2\"\n",
            "_________________________________________________________________\n",
            " Layer (type)                Output Shape              Param #   \n",
            "=================================================================\n",
            " flatten_1 (Flatten)         (None, 784)               0         \n",
            "                                                                 \n",
            " dense_5 (Dense)             (None, 528)               414480    \n",
            "                                                                 \n",
            " dense_6 (Dense)             (None, 250)               132250    \n",
            "                                                                 \n",
            " dense_7 (Dense)             (None, 100)               25100     \n",
            "                                                                 \n",
            " dense_8 (Dense)             (None, 10)                1010      \n",
            "                                                                 \n",
            "=================================================================\n",
            "Total params: 572,840\n",
            "Trainable params: 572,840\n",
            "Non-trainable params: 0\n",
            "_________________________________________________________________\n"
          ]
        }
      ],
      "source": [
        "model.summary()"
      ]
    },
    {
      "cell_type": "code",
      "execution_count": 119,
      "metadata": {
        "colab": {
          "base_uri": "https://localhost:8080/"
        },
        "id": "mg1kGSzhRUfX",
        "outputId": "11613cdb-5982-4c3e-8741-c77a0d31a1d7"
      },
      "outputs": [
        {
          "output_type": "stream",
          "name": "stdout",
          "text": [
            "Epoch 1/5\n",
            "1875/1875 - 14s - loss: 0.1937 - accuracy: 0.9406 - 14s/epoch - 8ms/step\n",
            "Epoch 2/5\n",
            "1875/1875 - 13s - loss: 0.0898 - accuracy: 0.9722 - 13s/epoch - 7ms/step\n",
            "Epoch 3/5\n",
            "1875/1875 - 12s - loss: 0.0602 - accuracy: 0.9813 - 12s/epoch - 7ms/step\n",
            "Epoch 4/5\n",
            "1875/1875 - 12s - loss: 0.0487 - accuracy: 0.9846 - 12s/epoch - 6ms/step\n",
            "Epoch 5/5\n",
            "1875/1875 - 12s - loss: 0.0372 - accuracy: 0.9884 - 12s/epoch - 7ms/step\n"
          ]
        },
        {
          "output_type": "execute_result",
          "data": {
            "text/plain": [
              "<keras.callbacks.History at 0x7a1295063220>"
            ]
          },
          "metadata": {},
          "execution_count": 119
        }
      ],
      "source": [
        "model.fit(x_train ,y_train, epochs=5, batch_size=32, verbose=2)"
      ]
    },
    {
      "cell_type": "code",
      "execution_count": 120,
      "metadata": {
        "colab": {
          "base_uri": "https://localhost:8080/"
        },
        "id": "7wXaj0nLTGiW",
        "outputId": "19c4f98b-f235-4f46-a707-74a8b88b617c"
      },
      "outputs": [
        {
          "output_type": "stream",
          "name": "stdout",
          "text": [
            "313/313 [==============================] - 1s 2ms/step - loss: 0.0744 - accuracy: 0.9791\n"
          ]
        },
        {
          "output_type": "execute_result",
          "data": {
            "text/plain": [
              "[0.07439994066953659, 0.9790999889373779]"
            ]
          },
          "metadata": {},
          "execution_count": 120
        }
      ],
      "source": [
        "model.evaluate(x_test,y_test)"
      ]
    },
    {
      "cell_type": "code",
      "execution_count": 121,
      "metadata": {
        "id": "VvKpYq9_T-op"
      },
      "outputs": [],
      "source": [
        "model.save(\"mnist_model.h5\")"
      ]
    },
    {
      "cell_type": "code",
      "execution_count": 122,
      "metadata": {
        "colab": {
          "base_uri": "https://localhost:8080/"
        },
        "id": "3I3YO4dnUGzE",
        "outputId": "a1f28254-f43e-4838-f975-c571db0690cc"
      },
      "outputs": [
        {
          "output_type": "execute_result",
          "data": {
            "text/plain": [
              "[array([[-0.04194376,  0.05285433, -0.00482247, ...,  0.01114981,\n",
              "         -0.04354236, -0.03928529],\n",
              "        [ 0.06145267,  0.05074338, -0.04419004, ..., -0.01536576,\n",
              "          0.0331236 ,  0.04469977],\n",
              "        [-0.0075536 ,  0.01156783,  0.0294126 , ...,  0.01499314,\n",
              "         -0.02076595,  0.03342074],\n",
              "        ...,\n",
              "        [-0.01093132,  0.02705336,  0.00139157, ...,  0.05420865,\n",
              "          0.05782783,  0.04183599],\n",
              "        [-0.05927081,  0.02670138, -0.02539916, ...,  0.05325784,\n",
              "         -0.05747531, -0.00726035],\n",
              "        [ 0.01846524,  0.00106797,  0.03919674, ...,  0.06529395,\n",
              "         -0.04992137, -0.04054078]], dtype=float32),\n",
              " array([ 7.05451285e-03, -3.26673165e-02, -5.61637431e-02, -2.68173404e-02,\n",
              "         2.58743931e-02,  3.76411751e-02, -4.34035435e-02, -3.77670117e-02,\n",
              "        -2.62757856e-02, -1.29655795e-02, -2.18342710e-02,  2.49995030e-02,\n",
              "        -2.29587220e-02,  3.37862894e-02, -2.09819786e-02, -1.20241269e-02,\n",
              "        -4.04848754e-02, -7.91981630e-03, -2.24738661e-02,  5.95967062e-02,\n",
              "         4.15246822e-02, -1.20988330e-02, -1.60243697e-02, -7.43699074e-02,\n",
              "        -3.77557985e-02,  2.91117765e-02, -6.57072291e-02,  1.08010611e-02,\n",
              "         7.74787879e-03, -6.19942136e-02, -8.67888555e-02,  1.66436825e-02,\n",
              "        -1.08996546e-02, -3.74053256e-03, -3.62054557e-02,  5.32787386e-03,\n",
              "        -8.54031220e-02,  4.64858115e-03, -1.95335993e-03, -3.08494642e-02,\n",
              "         4.64153513e-02,  1.80220660e-02, -1.74540130e-03,  6.38478622e-02,\n",
              "        -3.12416479e-02,  2.44444050e-02,  1.84342954e-02,  5.12438975e-02,\n",
              "         1.31398614e-03,  2.28880327e-02,  4.51635420e-02, -2.07025073e-02,\n",
              "        -4.04430777e-02,  1.19419768e-02,  1.20686181e-02,  3.65753360e-02,\n",
              "        -2.76417881e-02, -3.00295539e-02, -5.97282089e-02, -1.86864287e-02,\n",
              "        -3.90840173e-02, -3.35344151e-02, -9.40382015e-03,  3.26313032e-03,\n",
              "         3.87932137e-02, -4.24359329e-02, -3.53259258e-02, -3.47338989e-02,\n",
              "         3.04320008e-02, -1.86865199e-02, -5.73956333e-02, -1.15732774e-02,\n",
              "        -6.56655729e-02, -2.82074399e-02, -1.49678057e-02, -7.87905902e-02,\n",
              "        -6.86585903e-02,  2.45269109e-02,  1.37574282e-02,  5.14447242e-02,\n",
              "        -4.09519374e-02,  9.14984383e-03, -2.52077747e-02,  8.07020627e-03,\n",
              "         1.91182941e-02, -6.17741905e-02, -2.35645493e-04, -4.95952256e-02,\n",
              "         2.36280691e-02, -5.62635586e-02,  2.72539584e-03, -8.22690278e-02,\n",
              "        -4.45264615e-02, -3.04847918e-02, -6.89832792e-02, -8.66785422e-02,\n",
              "         1.91294458e-02, -3.63890938e-02, -3.16553600e-02,  3.79953980e-02,\n",
              "         4.56153490e-02, -3.54528241e-02, -1.85928009e-02, -2.44906358e-02,\n",
              "        -7.08240666e-04,  2.75030825e-02, -2.66245827e-02, -2.37012114e-02,\n",
              "         2.10706908e-02, -2.80251876e-02, -1.43157151e-02, -2.14953572e-02,\n",
              "        -2.87263058e-02, -3.76672819e-02,  4.05644402e-02, -2.72870436e-03,\n",
              "         4.97515127e-02,  1.40340086e-02,  2.21049469e-02, -4.54167612e-02,\n",
              "        -1.08901765e-02,  9.16184336e-02, -2.62416783e-03, -6.53689429e-02,\n",
              "        -3.68760526e-02, -3.74507345e-02,  1.22293010e-02, -2.20212266e-02,\n",
              "         3.70855182e-02, -5.79675213e-02,  3.48494318e-03,  2.57114619e-02,\n",
              "        -3.44641171e-02, -5.22028608e-03, -4.89058085e-02,  1.43438019e-02,\n",
              "        -8.26677307e-02, -6.24929033e-02, -4.19341698e-02,  1.36733381e-02,\n",
              "        -1.95722878e-02, -3.37765329e-02, -4.91630621e-02,  1.08191390e-02,\n",
              "         1.00458283e-02, -5.75632490e-02,  1.10512292e-02,  9.53517780e-02,\n",
              "        -1.24043398e-01,  2.12175101e-02, -1.27807688e-02, -6.97713047e-02,\n",
              "         1.73310339e-02,  1.04712769e-02,  8.41605756e-03, -8.92179385e-02,\n",
              "        -3.34102809e-02, -4.36145589e-02, -8.44819769e-02, -2.08123084e-02,\n",
              "        -5.65947033e-02, -2.55611688e-02, -1.92496404e-02,  8.13726038e-02,\n",
              "        -2.09608153e-02, -2.45664250e-02, -1.54039580e-02, -6.28052056e-02,\n",
              "        -1.47443349e-02, -4.73789126e-02, -2.29571667e-02, -5.41162640e-02,\n",
              "         3.24123353e-02,  5.67529127e-02, -5.62466271e-02,  2.14549638e-02,\n",
              "        -8.63854121e-03, -4.74187881e-02, -3.75110321e-02,  1.06365066e-02,\n",
              "         7.66152143e-02, -1.95803046e-02, -6.22269996e-02,  4.47847024e-02,\n",
              "         3.42051801e-03, -2.31546331e-02,  2.29699258e-02,  1.20214997e-02,\n",
              "        -2.97873793e-03, -2.30740644e-02, -8.96363184e-02, -3.36641371e-02,\n",
              "        -2.05184165e-02,  9.91300959e-03, -2.34565884e-02, -2.24415138e-02,\n",
              "        -5.66038676e-02,  5.60843199e-02, -6.80299569e-03, -3.27814766e-03,\n",
              "         3.15114222e-02,  2.76880804e-02, -1.48383081e-02,  1.58914868e-02,\n",
              "         2.47047599e-02, -1.64338108e-02,  1.74566638e-02, -5.96783012e-02,\n",
              "        -1.00222304e-01, -5.88719093e-04, -3.06950361e-02,  1.01944143e-02,\n",
              "         2.07877755e-02, -3.98995169e-02, -3.40498500e-02, -3.27524319e-02,\n",
              "         4.86761332e-03,  3.11911292e-02, -3.95952575e-02, -2.71690562e-02,\n",
              "        -5.88174053e-02, -7.14740381e-02, -5.08780666e-02,  2.86574336e-03,\n",
              "        -5.50452694e-02, -5.98306917e-02,  1.99709716e-03, -2.50735339e-02,\n",
              "        -7.32894987e-02, -2.09042523e-02,  5.48580615e-03,  2.37612296e-02,\n",
              "         2.12650038e-02, -5.15332669e-02, -3.48770954e-02, -7.48038590e-02,\n",
              "        -2.76513007e-02, -3.22152004e-02,  5.92122190e-02, -6.33884072e-02,\n",
              "        -4.65015508e-02,  6.47502467e-02,  1.74268708e-02,  4.40416969e-02,\n",
              "        -1.89715736e-02, -2.99000908e-02, -7.79810697e-02, -1.98802110e-02,\n",
              "        -3.13582197e-02,  1.88609082e-02, -3.38860303e-02,  2.66790222e-02,\n",
              "        -2.55227163e-02,  1.28674670e-03,  1.61390863e-02, -1.49950574e-06,\n",
              "         8.55730753e-03,  8.59321374e-03, -3.50237428e-03, -5.62178576e-03,\n",
              "         1.26773063e-02, -1.09974779e-02,  1.11127170e-02, -4.07404378e-02,\n",
              "         2.79766973e-02,  6.56151697e-02, -1.19216731e-02,  3.16485832e-03,\n",
              "         5.46154985e-03,  2.51119155e-02, -2.96780486e-02,  7.48023763e-03,\n",
              "        -1.65467616e-02,  2.62464359e-02,  1.09464504e-01,  6.11528754e-03,\n",
              "        -3.28856637e-03, -3.85332368e-02, -1.50895575e-02, -5.96117377e-02,\n",
              "        -5.65744489e-02,  3.07913031e-03,  3.31116869e-04,  1.02687646e-02,\n",
              "         1.96391251e-02, -3.31868157e-02,  6.10462436e-03, -1.17760018e-01,\n",
              "         2.73524877e-02,  9.90651175e-03,  2.72696409e-02,  5.07021286e-02,\n",
              "        -1.07799619e-01, -3.42301875e-02, -5.65646365e-02, -9.10008512e-03,\n",
              "        -1.36720007e-02, -1.60215553e-02, -1.95925105e-02, -2.34926715e-02,\n",
              "        -9.44653235e-04, -2.47776825e-02,  3.37855965e-02,  1.58665050e-02,\n",
              "        -2.23531071e-02, -9.74946562e-03,  1.06912367e-02,  5.04617728e-02,\n",
              "         1.82876345e-02,  2.39117835e-02,  5.34709655e-02,  1.99322924e-02,\n",
              "        -2.03636847e-02, -5.63253388e-02,  1.38575910e-03, -1.99761298e-02,\n",
              "        -4.14683893e-02, -1.02450892e-01,  2.88192742e-02, -4.24524099e-02,\n",
              "        -1.09174596e-02, -8.83035511e-02,  3.82429920e-02,  4.50222380e-02,\n",
              "        -1.02016479e-02, -1.38902497e-02,  4.08138940e-03, -4.03805636e-03,\n",
              "        -4.73238109e-03, -2.26664077e-02,  3.72722815e-03,  5.38854040e-02,\n",
              "         3.90704535e-02, -5.73759526e-02, -8.35671946e-02, -5.92397526e-02,\n",
              "        -5.44954231e-03, -4.66693528e-02, -3.65415923e-02,  1.49327591e-01,\n",
              "         2.31580925e-04, -7.63330758e-02, -2.80776676e-02, -2.95894220e-04,\n",
              "         5.49937366e-04,  6.50814734e-03,  3.11934147e-02,  3.16134728e-02,\n",
              "        -9.76510644e-02, -2.79907733e-02, -5.21069057e-02, -2.78228056e-02,\n",
              "         7.81177506e-02, -3.90695669e-02, -8.87895469e-03, -3.75961908e-03,\n",
              "        -1.19759645e-02,  5.04450500e-02,  8.57309699e-02, -5.26511995e-03,\n",
              "        -4.42524739e-02, -8.14881027e-02, -4.83825691e-02, -4.70933085e-03,\n",
              "         2.69179349e-03,  3.55962031e-02, -4.39168960e-02, -3.46911177e-02,\n",
              "        -8.93968716e-02, -1.10943997e-02, -1.88536793e-02,  5.02865240e-02,\n",
              "        -1.38519555e-02, -2.67282799e-02,  4.75534536e-02, -7.52606476e-03,\n",
              "         2.12536324e-02,  3.23957354e-02, -3.20096090e-02, -1.85242072e-02,\n",
              "        -3.02370936e-02, -2.33502276e-02, -4.91052419e-02,  1.66911222e-02,\n",
              "        -2.93965936e-02, -1.47103705e-02, -4.16859612e-02, -3.18596549e-02,\n",
              "        -7.58304214e-03, -3.91201451e-02, -3.76806557e-02, -5.67746675e-03,\n",
              "        -5.05752787e-02, -2.55528931e-02,  5.58725558e-02,  1.80593953e-02,\n",
              "        -2.05038879e-02, -3.42192054e-02, -1.70040759e-03, -3.09438333e-02,\n",
              "         5.65676764e-02, -2.23486554e-02, -5.79687022e-02, -2.54859067e-02,\n",
              "        -4.40034196e-02,  5.22329938e-04, -1.04925111e-02, -3.28697264e-02,\n",
              "        -4.18400541e-02,  2.31290478e-02,  1.30013539e-03, -1.03158802e-02,\n",
              "        -6.92674890e-02, -8.29295740e-02, -2.43465267e-02,  8.84363148e-03,\n",
              "        -9.78446826e-02,  1.25487428e-02,  7.22901151e-02,  6.84778066e-03,\n",
              "         4.87108529e-02, -4.12770584e-02,  3.34622040e-02, -3.87884937e-02,\n",
              "         1.67239718e-02,  4.65235636e-02,  2.58793887e-02, -3.01801488e-02,\n",
              "        -6.50447384e-02,  3.60642560e-02,  5.83632849e-03, -1.88413616e-02,\n",
              "         1.69623625e-02,  3.16417962e-02,  2.57716123e-02,  4.78962213e-02,\n",
              "        -5.31922914e-02,  4.33508009e-02, -3.00021134e-02, -1.59755144e-02,\n",
              "         2.59124488e-02,  4.32027802e-02, -5.24723018e-03, -1.66416131e-02,\n",
              "        -5.80696799e-02,  1.14762066e-02, -3.44039537e-02, -9.23095718e-02,\n",
              "        -1.28217908e-02, -3.62818465e-02,  2.09701099e-02, -7.16784149e-02,\n",
              "         2.30841395e-02, -7.20348880e-02, -3.02446019e-02, -8.00612476e-03,\n",
              "        -6.17126841e-03, -3.18413489e-02, -6.65999157e-03, -8.89645610e-03,\n",
              "         6.66541904e-02, -2.15247218e-02, -6.69405013e-02, -2.73224302e-02,\n",
              "        -7.17050023e-03, -1.50978314e-02,  1.65529605e-02,  2.16508377e-02,\n",
              "        -4.53734472e-02, -8.30872059e-02, -5.39640337e-03, -2.76075285e-02,\n",
              "         1.88295338e-02,  1.86923146e-02, -2.70322729e-02, -7.45737404e-02,\n",
              "         1.98541097e-02, -4.67821993e-02,  2.65347920e-02, -2.06933022e-02,\n",
              "        -9.38629657e-02, -3.86925526e-02, -2.37116162e-02, -5.63112497e-02,\n",
              "         1.43742468e-02, -6.89116120e-02, -2.94644982e-02,  2.41696704e-02,\n",
              "        -6.00756295e-02, -5.08766584e-02, -2.54247375e-02,  1.70826316e-02,\n",
              "         3.39148790e-02, -3.55642736e-02,  5.89984935e-03, -5.34794182e-02,\n",
              "        -5.29699884e-02, -2.28968393e-02, -3.60607170e-02, -5.22206575e-02,\n",
              "         4.27546799e-02, -3.15283798e-02, -1.40528176e-02, -3.74798216e-02,\n",
              "         9.40498896e-03, -1.99247943e-03, -7.36179054e-02, -1.22326510e-02,\n",
              "        -9.31379572e-03,  7.12177306e-02, -2.68753450e-02, -1.96552966e-04,\n",
              "        -3.44885327e-02, -4.72383481e-03,  2.05709953e-02, -1.54798981e-02,\n",
              "         7.12987641e-03, -2.55893748e-02, -6.50513321e-02, -1.85671132e-02,\n",
              "        -2.62525417e-02, -2.49131210e-02, -1.22104986e-02, -9.05542821e-02,\n",
              "        -2.56403219e-02, -4.19500358e-02, -2.50343587e-02, -7.03426311e-03],\n",
              "       dtype=float32),\n",
              " array([[ 0.24412242,  0.03936799, -0.00544112, ..., -0.05711117,\n",
              "          0.17057191, -0.15697   ],\n",
              "        [ 0.09034279, -0.00367667,  0.06817321, ...,  0.06476672,\n",
              "          0.03357565, -0.26289794],\n",
              "        [-0.0463843 ,  0.03241802,  0.03289473, ...,  0.08959583,\n",
              "         -0.20051625,  0.01245952],\n",
              "        ...,\n",
              "        [ 0.07058445, -0.02939361, -0.01991368, ...,  0.09616401,\n",
              "         -0.02920414,  0.05978889],\n",
              "        [-0.04281377, -0.04035608, -0.22242181, ..., -0.07451447,\n",
              "         -0.08919439,  0.00536389],\n",
              "        [-0.13895175, -0.12440238,  0.14473166, ..., -0.02659525,\n",
              "         -0.08383945, -0.11183999]], dtype=float32),\n",
              " array([-0.03865889, -0.09955908, -0.11241056,  0.00178495, -0.02913042,\n",
              "        -0.09903856, -0.07752677,  0.01186638,  0.14194022,  0.01184778,\n",
              "         0.06084948, -0.02939575, -0.05598513, -0.09591872, -0.0828052 ,\n",
              "         0.07988229,  0.11079092, -0.07382628,  0.03643066,  0.04168902,\n",
              "        -0.11318896, -0.07320211, -0.01155021, -0.01330163, -0.04258936,\n",
              "        -0.0321801 ,  0.08147527,  0.074679  ,  0.05444682, -0.10722495,\n",
              "        -0.12018184, -0.08275756, -0.01651165,  0.16038087, -0.11410009,\n",
              "        -0.01504568, -0.07878634, -0.04476368,  0.01558001,  0.16990867,\n",
              "        -0.04494015, -0.11410005,  0.00935779, -0.04568186, -0.12682194,\n",
              "        -0.06267271, -0.02936051, -0.00704153, -0.07852798, -0.02758169,\n",
              "        -0.12812652, -0.05536167, -0.00534932, -0.0915207 , -0.03299231,\n",
              "        -0.04857955,  0.08604112, -0.09515149,  0.09078868, -0.0401176 ,\n",
              "         0.21025729,  0.07486922, -0.08911138, -0.08895346,  0.0910512 ,\n",
              "        -0.06093629, -0.04356502,  0.18811454, -0.09088022, -0.03991636,\n",
              "        -0.06576938,  0.02509253, -0.0285213 , -0.12929717,  0.12360854,\n",
              "         0.14152758, -0.00773885, -0.04132702,  0.06873531,  0.01446782,\n",
              "        -0.09479093, -0.00459345,  0.0023409 , -0.0604607 ,  0.10951461,\n",
              "        -0.06984954,  0.1452135 , -0.10657219, -0.03265329,  0.05104942,\n",
              "        -0.08528429, -0.04839258, -0.07159121,  0.00744062,  0.12664752,\n",
              "        -0.07208975,  0.13702603, -0.07036214,  0.04171876, -0.08675557,\n",
              "        -0.07087214, -0.07786094, -0.01986309, -0.03158191, -0.09753632,\n",
              "         0.00788317,  0.0067723 , -0.07689589, -0.03203751, -0.05906067,\n",
              "        -0.0921804 ,  0.1005047 , -0.05197373, -0.01919905, -0.04757433,\n",
              "        -0.03919922,  0.11464247, -0.00753645,  0.02443583,  0.01158086,\n",
              "         0.14738385, -0.06854464, -0.04397075,  0.15943174, -0.10741258,\n",
              "        -0.08462884, -0.06935166,  0.02508872, -0.00602764, -0.09532993,\n",
              "        -0.12135012, -0.03370583, -0.01203636, -0.04976355,  0.00344186,\n",
              "         0.0307593 , -0.07570512, -0.09628034, -0.10380888,  0.11429767,\n",
              "        -0.02193294, -0.01127067,  0.05352635, -0.03223894, -0.02480245,\n",
              "        -0.01590079, -0.13342981, -0.10913058, -0.07109015,  0.13237904,\n",
              "        -0.01348133,  0.1834473 , -0.06433857,  0.14688866, -0.06617509,\n",
              "         0.00235743, -0.06895267,  0.00816083,  0.10805667,  0.09182876,\n",
              "        -0.04839966,  0.08458553, -0.02220961, -0.01136565, -0.0717209 ,\n",
              "        -0.02963024,  0.00253635, -0.01608606, -0.08501181, -0.10554951,\n",
              "        -0.08359539,  0.05446039, -0.12118872,  0.12469003, -0.02069484,\n",
              "         0.02041722,  0.06669842, -0.05764339, -0.05589863, -0.07975887,\n",
              "         0.1696827 , -0.10361629,  0.02123167, -0.00967631, -0.01362152,\n",
              "        -0.08404225,  0.00496281, -0.01397157,  0.09335975, -0.02124167,\n",
              "        -0.09411222,  0.09156626,  0.17788045, -0.09040449,  0.17004232,\n",
              "        -0.14727585,  0.06321283, -0.10108862, -0.05296833, -0.13189466,\n",
              "        -0.06135471,  0.01378436,  0.10403538,  0.05668585, -0.10183564,\n",
              "        -0.08343442,  0.0358016 ,  0.01687024, -0.03751763,  0.08689269,\n",
              "        -0.09880023, -0.05461475,  0.05109025, -0.02102592,  0.01210001,\n",
              "        -0.07356422,  0.01851685,  0.20335688, -0.01828893,  0.00852078,\n",
              "        -0.0231674 ,  0.16091728, -0.0735328 , -0.08883113, -0.05085203,\n",
              "        -0.11113999,  0.03794691,  0.02134726,  0.00151213,  0.03190029,\n",
              "        -0.07570498,  0.13817807, -0.01235301, -0.04743683,  0.10296019,\n",
              "        -0.06678671, -0.09025669, -0.10309621, -0.04960829, -0.05299459,\n",
              "        -0.08804365,  0.11697361,  0.01756002,  0.16948709, -0.11055498,\n",
              "        -0.0457116 , -0.08666451,  0.01956932, -0.02222453, -0.0554755 ],\n",
              "       dtype=float32),\n",
              " array([[-0.04414592,  0.05243262, -0.20111859, ..., -0.02047282,\n",
              "         -0.04959162, -0.08968183],\n",
              "        [-0.09369715, -0.1148821 ,  0.02342205, ...,  0.09725928,\n",
              "          0.1315092 , -0.00421481],\n",
              "        [-0.02445662,  0.15021794, -0.03767603, ..., -0.02411156,\n",
              "          0.04679605, -0.1310108 ],\n",
              "        ...,\n",
              "        [ 0.05337515,  0.11027019, -0.09741774, ..., -0.07283968,\n",
              "          0.16765115, -0.02721143],\n",
              "        [ 0.12703377,  0.17671917, -0.09572331, ...,  0.0871293 ,\n",
              "          0.04131834, -0.0445215 ],\n",
              "        [ 0.08948614, -0.22955781,  0.03024227, ...,  0.11504772,\n",
              "          0.08148743,  0.09835685]], dtype=float32),\n",
              " array([-6.83324486e-02,  5.61433211e-02,  1.59311574e-02, -4.65244427e-02,\n",
              "        -1.25275820e-01,  8.65189433e-02, -2.37257741e-02,  5.56933396e-02,\n",
              "        -5.96383139e-02,  5.78365736e-02,  2.57792711e-01,  1.27693966e-01,\n",
              "        -1.16231456e-01,  3.01117101e-03,  1.37895703e-01, -4.72282097e-02,\n",
              "        -7.96256065e-02, -9.97729972e-02,  4.34550680e-02, -5.61699346e-02,\n",
              "         1.03083011e-02,  1.42946199e-01, -7.78247640e-02, -1.16496190e-01,\n",
              "        -8.04319158e-02, -1.87092368e-02, -2.72050276e-02, -3.82150151e-02,\n",
              "         5.12399636e-02,  1.33296428e-02,  2.08174959e-01, -9.32065621e-02,\n",
              "         4.88167536e-03, -2.58504748e-02,  2.87468801e-03,  1.52815448e-03,\n",
              "         2.46102646e-01, -9.96998027e-02, -8.36229473e-02, -1.14329634e-02,\n",
              "         3.60355973e-02,  4.17795256e-02, -1.13230012e-02,  1.75764132e-02,\n",
              "        -5.35054579e-02,  1.08519256e-01, -3.37806940e-02, -2.07626522e-02,\n",
              "        -1.25863388e-01,  2.85214663e-01, -2.30401978e-02, -7.90548250e-02,\n",
              "        -1.42478779e-01, -1.28524721e-01, -4.64927889e-02,  1.51332887e-02,\n",
              "        -5.49610816e-02, -1.40800672e-02, -9.74180251e-02,  2.43491590e-01,\n",
              "        -2.63573788e-02,  1.13664471e-01,  4.26754020e-02, -3.53339575e-02,\n",
              "        -3.22724693e-02, -4.36248071e-02, -4.64330427e-02,  4.05717343e-02,\n",
              "        -1.00239478e-01,  1.97699264e-01, -9.80307683e-02, -6.43274188e-02,\n",
              "         8.28255340e-02,  4.08586413e-02, -9.62976832e-03, -6.30762801e-02,\n",
              "        -5.65333467e-05, -3.10480427e-02, -7.10014179e-02,  3.40938079e-03,\n",
              "        -5.34722768e-02, -1.18572757e-01,  2.70103081e-03, -5.23362346e-02,\n",
              "        -3.62748420e-03, -4.73990850e-02, -3.46045308e-02, -1.27966329e-02,\n",
              "        -9.73411929e-03,  1.20424099e-01, -1.15552507e-01,  2.50149406e-02,\n",
              "        -7.93298110e-02, -8.82946774e-02, -1.29440740e-01,  2.17823640e-01,\n",
              "         1.55417547e-01, -6.42690286e-02, -7.60020688e-02, -3.50279063e-02],\n",
              "       dtype=float32),\n",
              " array([[ 4.49611880e-02,  1.55336305e-01, -7.44570345e-02,\n",
              "         -1.80918276e-01,  7.75590315e-02,  4.49136421e-02,\n",
              "         -2.26127207e-01,  1.67899191e-01, -2.04404369e-01,\n",
              "          1.38273254e-01],\n",
              "        [-1.22567341e-01, -3.70483100e-02,  7.15222061e-02,\n",
              "         -1.96068630e-01,  2.43985921e-01,  8.46173894e-03,\n",
              "         -2.29484830e-02, -5.29547743e-02,  4.96945791e-02,\n",
              "          1.18617587e-01],\n",
              "        [ 2.30957031e-01, -1.07178740e-01,  1.23582348e-01,\n",
              "         -8.79089683e-02,  9.25102159e-02,  1.84083171e-02,\n",
              "         -1.15143806e-01,  1.33913103e-03, -9.77412388e-02,\n",
              "          1.98552266e-01],\n",
              "        [-2.79643685e-01, -8.49173740e-02, -4.60436419e-02,\n",
              "          1.58051491e-01, -8.96144807e-02,  1.27770588e-01,\n",
              "          2.87921876e-02, -2.40459433e-03, -1.21737206e-02,\n",
              "          4.57824580e-02],\n",
              "        [ 4.08260413e-02,  2.43253022e-01, -1.32891968e-01,\n",
              "          1.69423416e-01, -1.59849972e-01,  1.24860562e-01,\n",
              "         -6.87274709e-02,  1.39396548e-01, -3.09523121e-02,\n",
              "          3.68354330e-03],\n",
              "        [-2.37539262e-01, -5.22040315e-02,  2.36753318e-02,\n",
              "         -2.68736668e-02, -1.22900024e-01,  1.91700846e-01,\n",
              "          1.62846103e-01, -1.42671868e-01,  1.06208630e-01,\n",
              "         -7.34161511e-02],\n",
              "        [ 1.44165412e-01,  1.36665329e-01,  1.89429820e-01,\n",
              "          1.79108605e-01, -1.88438505e-01, -2.80526616e-02,\n",
              "         -3.52847070e-01,  2.13223398e-01,  4.13622968e-02,\n",
              "          1.79785803e-01],\n",
              "        [ 8.09535235e-02, -5.27882755e-01,  1.60322096e-02,\n",
              "          1.17342286e-01,  1.44957334e-01, -1.91461537e-02,\n",
              "         -1.72335450e-02, -1.91371977e-01, -6.86079338e-02,\n",
              "          1.83209151e-01],\n",
              "        [ 1.35907799e-01, -1.98981360e-01,  1.42410457e-01,\n",
              "          1.54021427e-01,  7.51903504e-02,  1.57073140e-01,\n",
              "         -2.49825597e-01,  2.31738999e-01, -2.28523329e-01,\n",
              "          1.57248706e-01],\n",
              "        [ 1.27234980e-01, -1.92558140e-01,  1.77197799e-01,\n",
              "         -2.86241528e-02, -1.54668525e-01,  1.19483508e-01,\n",
              "          1.40244812e-01,  1.58652335e-01,  1.60973713e-01,\n",
              "         -1.81578845e-01],\n",
              "        [ 4.81688716e-02, -3.21552008e-01, -2.78006732e-01,\n",
              "          7.00987726e-02, -4.34583247e-01,  2.68785120e-03,\n",
              "          1.30239641e-02, -3.47566128e-01,  1.04127005e-01,\n",
              "         -1.11637704e-01],\n",
              "        [-5.47677316e-02, -3.05230409e-01, -1.36486124e-02,\n",
              "          1.66969642e-01, -6.66431189e-02, -6.52948990e-02,\n",
              "         -2.84134090e-01,  1.41270667e-01,  1.44215792e-01,\n",
              "         -1.86538488e-01],\n",
              "        [-2.33204603e-01,  1.30252495e-01, -1.14119075e-01,\n",
              "         -4.15643215e-01,  4.49671596e-02,  1.57897845e-01,\n",
              "          3.30692753e-02,  3.10362969e-02, -6.82092011e-02,\n",
              "         -1.89955965e-01],\n",
              "        [-1.98569313e-01,  1.01781517e-01, -2.87872970e-01,\n",
              "          7.16464370e-02, -3.96163277e-02, -5.98524474e-02,\n",
              "         -4.31762159e-01,  1.31350771e-01, -4.64932546e-02,\n",
              "          1.29076362e-01],\n",
              "        [ 3.37883942e-02, -2.74645954e-01,  2.40250900e-01,\n",
              "          2.29392245e-01,  1.80087775e-01, -1.21192530e-01,\n",
              "          3.87068801e-02,  1.30264327e-01,  2.01849982e-01,\n",
              "          2.50595063e-01],\n",
              "        [-3.69572528e-02, -4.54681888e-02,  7.54214404e-03,\n",
              "         -1.31227076e-01,  7.16092139e-02, -2.20381171e-01,\n",
              "          1.23326235e-01,  1.90964878e-01, -1.15594439e-01,\n",
              "          6.47983253e-02],\n",
              "        [-1.22473300e-01,  1.44826308e-01, -8.28910172e-02,\n",
              "         -1.29446045e-01,  1.20914139e-01, -2.30126247e-01,\n",
              "          1.50905132e-01,  1.59183457e-01, -2.17054859e-01,\n",
              "          8.91114771e-02],\n",
              "        [ 1.74705252e-01,  1.96072310e-01, -2.38491774e-01,\n",
              "         -1.67972401e-01, -2.28745282e-01, -2.43599027e-01,\n",
              "         -2.33390808e-01,  1.23518601e-01, -1.43681899e-01,\n",
              "         -8.04895684e-02],\n",
              "        [ 1.70593441e-01, -9.21038613e-02, -1.14698716e-01,\n",
              "         -1.41732931e-01,  5.14265560e-02, -2.35440403e-01,\n",
              "          9.55985710e-02, -1.46987528e-01, -1.04960334e-02,\n",
              "         -8.76966491e-02],\n",
              "        [-1.39659494e-01, -3.15137446e-01, -3.81119139e-02,\n",
              "          1.04054194e-02, -3.22399497e-01,  1.56484637e-02,\n",
              "         -2.01208189e-01, -2.33487219e-01, -1.43996939e-01,\n",
              "         -6.14807643e-02],\n",
              "        [-8.74587595e-02, -2.64746606e-01,  8.66750777e-02,\n",
              "          3.52091230e-02, -1.58349454e-01, -6.82486668e-02,\n",
              "         -2.69111603e-01, -3.17032963e-01, -2.78424621e-01,\n",
              "          1.30036622e-01],\n",
              "        [-1.18972592e-01, -8.97436682e-03, -1.83231458e-01,\n",
              "          1.90351635e-01, -3.72403115e-01,  1.55780897e-01,\n",
              "         -1.62415147e-01, -7.94194341e-02,  1.18346788e-01,\n",
              "         -4.62722182e-02],\n",
              "        [ 3.88228707e-02,  1.01179518e-01,  3.36048519e-03,\n",
              "          1.37820587e-01, -2.76516467e-01, -1.56375647e-01,\n",
              "          1.58129469e-01,  4.55728658e-02,  9.57850516e-02,\n",
              "         -5.17177284e-02],\n",
              "        [-2.19336018e-01,  2.97338776e-02,  1.14391714e-01,\n",
              "          2.02587262e-01, -2.52805687e-02,  1.07484393e-01,\n",
              "         -1.79474086e-01,  1.20314434e-01, -2.48475194e-01,\n",
              "         -1.72589615e-01],\n",
              "        [ 8.02553296e-02,  6.43924177e-02,  1.00093506e-01,\n",
              "          1.73004106e-01, -2.00599551e-01,  8.62087160e-02,\n",
              "         -6.92228675e-02,  1.17892837e-02,  4.95159961e-02,\n",
              "         -2.01680139e-01],\n",
              "        [ 1.38932347e-01, -2.87627786e-01, -1.06219999e-01,\n",
              "          2.01073408e-01, -3.40586081e-02,  4.55785468e-02,\n",
              "          1.15676396e-01, -1.44305661e-01, -2.27877274e-01,\n",
              "         -2.98160076e-01],\n",
              "        [ 7.52036572e-02, -1.41643090e-02,  1.69571623e-01,\n",
              "          6.86633736e-02, -1.33958191e-01,  2.84477975e-02,\n",
              "         -1.94600806e-01, -8.93436000e-02, -1.57724053e-01,\n",
              "         -5.44820447e-03],\n",
              "        [-2.15796798e-01, -8.44992697e-02, -1.06017806e-01,\n",
              "         -9.02853310e-02, -1.16837770e-01, -1.75088659e-01,\n",
              "          1.02024034e-01, -2.23304078e-01, -6.37866616e-01,\n",
              "         -3.33424658e-01],\n",
              "        [ 7.19929487e-02,  1.11270629e-01, -5.20877354e-02,\n",
              "         -1.27611935e-01, -2.57978380e-01,  1.18325919e-01,\n",
              "          2.69544661e-01, -1.01216689e-01,  1.02152064e-01,\n",
              "         -2.67337888e-01],\n",
              "        [ 1.95462517e-02, -2.85210162e-01,  1.36754379e-01,\n",
              "         -8.88551921e-02, -8.44256133e-02, -2.20090207e-02,\n",
              "          5.78991286e-02, -2.44704127e-01, -1.14034958e-01,\n",
              "          7.21528381e-02],\n",
              "        [-3.85339931e-02,  9.32549536e-02, -1.17107525e-01,\n",
              "         -2.06174016e-01,  1.57865435e-01, -2.53263980e-01,\n",
              "         -6.51160330e-02,  7.45511129e-02,  2.25069225e-01,\n",
              "          1.86735138e-01],\n",
              "        [ 1.57109216e-01,  2.29572859e-02, -7.13617429e-02,\n",
              "         -7.29116052e-02,  1.28076166e-01,  4.59147319e-02,\n",
              "          1.52697057e-01,  4.80930284e-02,  3.16885337e-02,\n",
              "          1.36581346e-01],\n",
              "        [ 1.53912097e-01, -1.32478058e-01,  1.17553592e-01,\n",
              "         -9.76229161e-02, -8.67853500e-03,  1.54584214e-01,\n",
              "          2.34875813e-01, -1.94356829e-01, -4.76295128e-02,\n",
              "          1.35168005e-02],\n",
              "        [-5.30934110e-02, -1.11155592e-01,  6.09734505e-02,\n",
              "          2.29464844e-03, -1.77507475e-01, -1.70017913e-01,\n",
              "          1.05465561e-01,  2.70837545e-02, -2.15227365e-01,\n",
              "          5.61517701e-02],\n",
              "        [ 2.38086358e-01, -8.56818631e-02,  1.45228073e-01,\n",
              "         -2.21081510e-01, -2.02812836e-01, -9.02125761e-02,\n",
              "          6.94451779e-02,  4.07923348e-02, -1.95140522e-02,\n",
              "         -8.38776976e-02],\n",
              "        [-5.20130433e-03, -2.13466257e-01,  4.91983369e-02,\n",
              "          1.91594094e-01,  1.45971030e-01, -1.25676975e-01,\n",
              "         -7.05570206e-02, -2.30415612e-01, -2.70994045e-02,\n",
              "         -2.18449384e-01],\n",
              "        [ 4.18437049e-02, -1.08573968e-02,  1.45842629e-02,\n",
              "          8.60957578e-02, -3.15576106e-01, -2.68481344e-01,\n",
              "         -2.13204190e-01, -8.28226358e-02,  2.41446123e-01,\n",
              "         -1.67323619e-01],\n",
              "        [-1.25359550e-01, -2.88056970e-01, -7.47684464e-02,\n",
              "          3.08565237e-02,  4.40186588e-03,  7.28366151e-02,\n",
              "         -8.09869021e-02, -2.58278847e-01,  2.27627650e-01,\n",
              "         -1.00850768e-01],\n",
              "        [ 1.76340356e-01,  5.88820726e-02,  1.25470296e-01,\n",
              "          5.54879531e-02, -2.19768241e-01, -1.38420641e-01,\n",
              "         -1.52133733e-01,  1.40211016e-01, -2.84137186e-02,\n",
              "         -2.13271648e-01],\n",
              "        [-8.94685313e-02, -3.29308182e-01,  1.75459683e-01,\n",
              "         -2.24530041e-01, -1.09079070e-01,  6.54785112e-02,\n",
              "         -2.59179831e-01,  1.98922440e-01,  4.39995341e-02,\n",
              "         -1.63468733e-01],\n",
              "        [ 3.54328305e-02, -1.71382114e-01, -2.01400027e-01,\n",
              "         -1.53944999e-01,  7.19175264e-02,  1.68183923e-01,\n",
              "          2.02474535e-01,  9.61100683e-02,  3.56864370e-02,\n",
              "         -2.05225602e-01],\n",
              "        [-1.84204981e-01, -9.18534771e-02, -1.99141502e-01,\n",
              "         -1.71077996e-01,  2.00738132e-01,  2.03957602e-01,\n",
              "         -1.70420244e-01,  6.52819648e-02,  5.78563921e-02,\n",
              "         -1.74477957e-02],\n",
              "        [-1.31046653e-01,  6.33187070e-02, -8.48646611e-02,\n",
              "          1.55631989e-01,  1.12475313e-01, -1.08377770e-01,\n",
              "          1.52225837e-01, -3.17167521e-01, -8.57596174e-02,\n",
              "         -2.32112467e-01],\n",
              "        [ 9.18288007e-02, -2.76463687e-01, -2.48049930e-01,\n",
              "          1.16957054e-01,  1.51812181e-01,  9.37317088e-02,\n",
              "          6.91301674e-02, -5.18236719e-02, -4.36435975e-02,\n",
              "          1.73567906e-01],\n",
              "        [-6.15940057e-02,  1.15591407e-01,  2.00860724e-01,\n",
              "         -2.82495022e-01,  2.21746653e-01, -7.07941428e-02,\n",
              "         -7.73242563e-02,  1.27567984e-02, -2.05108285e-01,\n",
              "         -1.33170232e-01],\n",
              "        [-1.73208579e-01,  1.67967826e-01,  1.29221782e-01,\n",
              "         -2.32378051e-01, -1.26864851e-01, -2.25527063e-01,\n",
              "          7.47867748e-02, -1.04014790e-02,  1.82957485e-01,\n",
              "         -1.10319987e-01],\n",
              "        [ 9.58507415e-03, -8.13620239e-02, -1.71531662e-01,\n",
              "          9.51007828e-02, -1.39439225e-01, -1.55191213e-01,\n",
              "         -1.06816284e-01,  1.75805956e-01,  1.76123619e-01,\n",
              "          1.26274347e-01],\n",
              "        [ 9.92686376e-02, -2.78751273e-02,  7.27311708e-03,\n",
              "         -2.36830667e-01,  1.63039744e-01, -4.59586866e-02,\n",
              "          7.78420344e-02, -1.87347874e-01,  2.07303748e-01,\n",
              "         -6.35095462e-02],\n",
              "        [-1.71799138e-01, -2.04523668e-01, -1.03825666e-01,\n",
              "          7.18031824e-02,  1.21901721e-01, -3.16033602e-01,\n",
              "          5.83983622e-02,  1.79560050e-01, -2.27048114e-01,\n",
              "          1.26572445e-01],\n",
              "        [ 1.00201376e-01, -2.71042824e-01,  2.23781001e-02,\n",
              "         -4.36241701e-02, -1.08289957e-01, -2.29008906e-02,\n",
              "         -6.99582919e-02, -2.87106067e-01,  1.83615267e-01,\n",
              "          4.11230363e-02],\n",
              "        [ 6.13566376e-02,  1.61755264e-01, -7.10954890e-02,\n",
              "         -1.49575755e-01, -1.11541681e-01, -3.34214140e-03,\n",
              "         -1.58360600e-01,  1.65963918e-01,  2.98487376e-02,\n",
              "         -8.41229595e-03],\n",
              "        [ 4.83433940e-02, -1.85685605e-01, -9.39807594e-02,\n",
              "         -3.11578840e-01, -1.56188205e-01, -1.30397066e-01,\n",
              "         -8.82225633e-02,  4.03927155e-02, -5.39854541e-02,\n",
              "         -4.21839096e-02],\n",
              "        [ 8.30436870e-02,  1.46207303e-01, -2.02258378e-02,\n",
              "          5.84839322e-02, -2.58303881e-01,  2.32445672e-01,\n",
              "          1.06640629e-01, -1.08709149e-01, -1.61734000e-01,\n",
              "          1.83115646e-01],\n",
              "        [ 3.26998234e-02,  7.23031759e-02, -6.74759373e-02,\n",
              "         -1.93340808e-01, -1.10547952e-01,  1.39761167e-02,\n",
              "         -2.01790109e-02,  1.47551239e-01,  2.14944454e-03,\n",
              "          1.54718617e-02],\n",
              "        [ 9.59904399e-03, -4.14389707e-02, -1.70646712e-01,\n",
              "         -2.19233617e-01, -1.07251294e-01, -8.01689625e-02,\n",
              "         -2.46762857e-01, -2.84522381e-02, -1.86932430e-01,\n",
              "          1.66133538e-01],\n",
              "        [ 1.86531410e-01, -2.36687943e-01, -2.56098241e-01,\n",
              "          4.06921580e-02,  1.29438967e-01,  1.21442214e-01,\n",
              "          1.13016009e-01, -9.47403610e-02, -2.41533592e-02,\n",
              "          9.70332250e-02],\n",
              "        [ 1.44031614e-01,  9.68073457e-02,  1.05428211e-01,\n",
              "          5.14794104e-02, -4.10734043e-02, -1.67697549e-01,\n",
              "         -2.61659771e-02, -4.55295481e-02, -2.23249570e-01,\n",
              "          8.61440003e-02],\n",
              "        [ 1.86619088e-01, -2.41423666e-01, -1.28753528e-01,\n",
              "          8.29515606e-02,  5.52134439e-02, -6.07897043e-02,\n",
              "         -1.53707461e-02,  1.06620774e-01, -9.07797366e-02,\n",
              "          8.82393122e-02],\n",
              "        [ 1.50911838e-01, -2.34098658e-01, -2.61703938e-01,\n",
              "          2.35842895e-02,  4.15496826e-02, -9.95352641e-02,\n",
              "          1.43054137e-02,  1.61179990e-01, -2.88382024e-01,\n",
              "          1.20444335e-02],\n",
              "        [-2.31998354e-01, -2.57597864e-01,  3.78330909e-02,\n",
              "         -1.66949425e-02,  1.29520446e-01, -1.00029260e-02,\n",
              "         -1.20449841e-01, -2.31777638e-01,  1.67567566e-01,\n",
              "          6.30192459e-02],\n",
              "        [-1.14684328e-02, -1.63847655e-01,  1.49313375e-01,\n",
              "         -2.89478898e-01,  7.71418354e-03, -1.66837111e-01,\n",
              "         -1.18053086e-01,  1.30016401e-01,  6.49857223e-02,\n",
              "         -2.48172030e-01],\n",
              "        [ 2.21521839e-01, -9.06356424e-03, -1.58369690e-01,\n",
              "         -2.13981301e-01,  1.25755593e-01, -2.48443767e-01,\n",
              "          2.06007317e-01, -1.73635349e-01,  1.31653205e-01,\n",
              "         -4.60642995e-03],\n",
              "        [ 1.30158946e-01, -2.00258624e-02, -3.32190953e-02,\n",
              "         -1.40108839e-01, -4.13595736e-02,  2.10857376e-01,\n",
              "         -1.49103314e-01,  1.35087788e-01,  5.44217452e-02,\n",
              "          1.25549480e-01],\n",
              "        [-2.20208302e-01,  7.34299980e-03, -2.94681996e-01,\n",
              "          2.02510178e-01, -1.13061666e-01, -1.10059626e-01,\n",
              "          1.14832297e-01, -1.60065770e-01, -2.24689528e-01,\n",
              "          1.98215425e-01],\n",
              "        [-6.60042390e-02,  1.09676167e-01,  2.04159707e-01,\n",
              "          7.78000951e-02,  1.91955104e-01,  5.76557629e-02,\n",
              "         -1.97369799e-01,  8.22923779e-02, -1.47009373e-01,\n",
              "          1.64364934e-01],\n",
              "        [-1.99664965e-01,  2.55128425e-02, -8.01674873e-02,\n",
              "         -3.59406546e-02, -1.84015036e-02, -2.63503343e-01,\n",
              "         -1.17959693e-01,  1.84072312e-02, -2.05348581e-01,\n",
              "          3.00999749e-02],\n",
              "        [ 1.56716228e-01, -2.11899802e-01, -7.67748058e-02,\n",
              "          6.55482188e-02,  1.77026421e-01,  2.68602446e-02,\n",
              "          8.43987837e-02,  3.89203727e-02, -6.00572228e-02,\n",
              "         -1.57129586e-01],\n",
              "        [-5.17546991e-03, -1.42129874e-02, -1.07031018e-01,\n",
              "         -1.55250981e-01, -7.31222481e-02, -2.41023496e-01,\n",
              "         -2.21149951e-01,  1.35550782e-01,  3.26338112e-02,\n",
              "          6.24769665e-02],\n",
              "        [ 1.75192878e-02,  1.61729857e-01,  1.03119090e-01,\n",
              "          1.12223998e-01,  1.50136098e-01, -5.81878535e-02,\n",
              "          3.56261954e-02, -1.65100902e-01, -2.46585473e-01,\n",
              "          2.96531133e-02],\n",
              "        [-1.82101473e-01,  1.01987898e-01,  9.56097618e-02,\n",
              "         -7.60507733e-02, -8.36182833e-02,  8.08764528e-03,\n",
              "         -1.72619760e-01, -1.67032883e-01,  1.65818647e-01,\n",
              "          1.36443630e-01],\n",
              "        [-7.10063279e-02, -2.58604735e-01, -7.49650300e-02,\n",
              "          3.77821214e-02, -2.42476076e-01, -1.66767523e-01,\n",
              "          1.73913822e-01, -2.77423114e-01, -2.15809226e-01,\n",
              "         -2.28218641e-02],\n",
              "        [-2.37694308e-01, -2.17657328e-01, -2.42410935e-02,\n",
              "         -2.57188708e-01,  1.78902328e-01, -1.85409829e-01,\n",
              "          3.26651447e-02, -2.98402816e-01,  1.38717368e-01,\n",
              "         -5.65432422e-02],\n",
              "        [-2.42374018e-01,  2.03615069e-01,  1.54675260e-01,\n",
              "          1.19721450e-01, -6.14620075e-02, -8.67832750e-02,\n",
              "         -5.77397868e-02, -1.31667167e-01,  1.08703010e-01,\n",
              "         -2.15833262e-01],\n",
              "        [ 3.80636007e-02, -3.08235317e-01,  6.67184740e-02,\n",
              "          1.87457930e-02, -6.73028827e-02,  1.85530074e-02,\n",
              "          4.11133654e-02, -3.27458531e-01, -4.39408384e-02,\n",
              "         -1.58732906e-01],\n",
              "        [ 2.01209649e-01,  2.16767550e-01, -5.04235923e-02,\n",
              "         -9.10766646e-02,  8.60465765e-02, -1.57729626e-01,\n",
              "         -1.55199975e-01, -9.17591006e-02,  4.52419221e-02,\n",
              "         -5.34326881e-02],\n",
              "        [ 1.19983248e-01,  2.38682091e-01, -4.35105860e-02,\n",
              "          3.68807092e-02, -3.89156560e-03, -1.95312828e-01,\n",
              "         -2.21277803e-01, -3.79235089e-01, -3.13961394e-02,\n",
              "         -2.22142100e-01],\n",
              "        [-4.02526893e-02, -1.84717506e-01,  2.30153903e-01,\n",
              "          1.90871935e-02, -1.56466708e-01, -1.39281422e-01,\n",
              "         -3.93348783e-01,  1.80627853e-01, -5.63210715e-03,\n",
              "          7.40503222e-02],\n",
              "        [-1.78758889e-01,  9.94680002e-02, -1.17279589e-01,\n",
              "         -1.20062500e-01,  1.67086363e-01,  1.29857868e-01,\n",
              "          1.39457226e-01,  1.20137356e-01,  8.38966668e-03,\n",
              "          1.03152610e-01],\n",
              "        [ 1.48699760e-01, -1.10541701e-01,  3.98833118e-02,\n",
              "         -5.20425215e-02, -2.36317888e-01,  1.57761484e-01,\n",
              "         -1.28846884e-01,  1.80525973e-01, -2.13673398e-01,\n",
              "         -1.93904750e-02],\n",
              "        [-2.14823380e-01,  1.74519420e-01,  1.14208773e-01,\n",
              "         -9.84082520e-02, -1.31537691e-01,  1.05624914e-01,\n",
              "         -1.59144580e-01,  1.66358054e-01,  1.18271977e-01,\n",
              "         -2.08258569e-01],\n",
              "        [-9.72817242e-01, -2.21394673e-02, -7.79500976e-02,\n",
              "         -1.38741150e-01,  1.24651171e-01, -3.43223155e-01,\n",
              "          1.27077959e-02,  2.14454710e-01, -2.03244075e-01,\n",
              "         -7.58345053e-02],\n",
              "        [-5.76832630e-02,  1.23975158e-01, -2.34299764e-01,\n",
              "         -2.10199997e-01, -7.98335820e-02,  1.66579619e-01,\n",
              "          2.44544297e-01, -1.40910938e-01, -1.43707842e-01,\n",
              "         -1.36578158e-01],\n",
              "        [-2.14403078e-01, -1.24234764e-03,  2.18592688e-01,\n",
              "         -2.19774634e-01, -1.07965596e-01, -8.05605948e-02,\n",
              "          1.17060192e-01, -8.62880722e-02, -1.43772960e-01,\n",
              "         -1.83736652e-01],\n",
              "        [-8.05963725e-02, -1.99248001e-01,  1.85837984e-01,\n",
              "          4.49708998e-02, -1.31921366e-01,  3.22650969e-02,\n",
              "          9.30862799e-02, -1.45723537e-01, -1.97296605e-01,\n",
              "          3.69235873e-02],\n",
              "        [-2.32421860e-01,  3.06153800e-02,  5.91796376e-02,\n",
              "          1.82235524e-01, -1.25034198e-01, -5.44335768e-02,\n",
              "         -3.98852766e-01, -2.47262344e-02, -1.22660592e-01,\n",
              "          1.48722336e-01],\n",
              "        [-3.58131677e-02,  8.36048573e-02, -7.69949332e-02,\n",
              "          2.71220915e-02,  3.25345509e-02, -1.60134688e-01,\n",
              "         -2.05833942e-01, -2.21797317e-01,  7.25900009e-02,\n",
              "         -8.03855002e-01],\n",
              "        [-2.84600388e-02, -2.95725111e-02, -2.08035588e-01,\n",
              "         -9.01327655e-03, -3.21293771e-02,  4.75900993e-02,\n",
              "         -3.43237408e-02,  7.03492314e-02,  1.13207504e-01,\n",
              "         -5.23318611e-02],\n",
              "        [-8.65463391e-02,  2.02558801e-01,  1.29126489e-01,\n",
              "          1.57374278e-01,  2.26958051e-01,  1.84229970e-01,\n",
              "          1.04545332e-01,  2.65752077e-02,  1.35593310e-01,\n",
              "          1.95464194e-01],\n",
              "        [ 6.31537801e-03, -6.19296469e-02, -1.25842877e-02,\n",
              "          9.03553441e-02, -1.26479529e-02,  2.14144468e-01,\n",
              "         -9.49929506e-02, -4.42810804e-02,  5.72755095e-03,\n",
              "          1.06403545e-01],\n",
              "        [-6.13111816e-02,  4.93325107e-02,  8.01992044e-03,\n",
              "          7.32936990e-03,  3.99377830e-02,  3.69024239e-02,\n",
              "         -1.17466889e-01, -2.01947197e-01,  9.33368728e-02,\n",
              "          1.07801884e-01],\n",
              "        [-4.99747731e-02,  2.15550244e-01, -2.04035901e-02,\n",
              "         -2.01787457e-01,  2.40382440e-02,  1.04689479e-01,\n",
              "          1.59899723e-02,  1.47620529e-01, -5.55928648e-02,\n",
              "          2.02382073e-01],\n",
              "        [-2.13609755e-01, -8.40540975e-02,  3.22289392e-02,\n",
              "         -2.92295367e-01, -8.60847607e-02, -9.79443863e-02,\n",
              "         -2.24148944e-01,  4.15408649e-02, -1.16666622e-01,\n",
              "          1.59141779e-01],\n",
              "        [ 1.13613792e-01,  9.71267670e-02,  5.69413975e-02,\n",
              "         -1.37355000e-01, -2.30231285e-01,  7.82826245e-02,\n",
              "          1.24788195e-01,  2.71635819e-02,  1.34911807e-02,\n",
              "          4.50643934e-02],\n",
              "        [-2.11517632e-01, -1.81086183e-01,  1.48623452e-01,\n",
              "          5.15056960e-02,  4.81485948e-02, -1.81161165e-01,\n",
              "         -9.72783491e-02,  1.93116292e-01,  1.44962266e-01,\n",
              "         -2.17452377e-01],\n",
              "        [-2.85133362e-01,  1.33996829e-01,  3.89980935e-02,\n",
              "          5.13282344e-02, -9.00940001e-02, -1.60173681e-02,\n",
              "         -2.20463524e-04,  1.84705704e-01, -2.58425444e-01,\n",
              "         -3.02063286e-01],\n",
              "        [-1.87449768e-01,  4.98585254e-02, -1.79741398e-01,\n",
              "         -1.75738022e-01, -1.59212388e-02, -3.13084312e-02,\n",
              "          2.78975721e-02,  6.65715039e-02,  1.51245683e-01,\n",
              "         -1.33115619e-01],\n",
              "        [-2.60720909e-01,  1.53535172e-01, -1.40832171e-01,\n",
              "          2.73422636e-02, -6.61260961e-03,  1.34421512e-01,\n",
              "          6.64343610e-02, -1.87147364e-01,  2.31456295e-01,\n",
              "          1.94068477e-01],\n",
              "        [-6.71371520e-02,  1.92961946e-01,  2.26767689e-01,\n",
              "          1.16559163e-01,  1.79085031e-01,  1.85819971e-03,\n",
              "         -9.44393054e-02,  8.86537656e-02, -1.33853495e-01,\n",
              "         -1.89770442e-02],\n",
              "        [ 2.55615674e-02,  1.36711337e-02, -3.08550000e-01,\n",
              "          9.81378835e-03, -4.02960241e-01, -3.82360928e-02,\n",
              "         -1.46376580e-01,  1.00512438e-01,  1.55777395e-01,\n",
              "          1.26331374e-01],\n",
              "        [-1.26280785e-02, -2.76969839e-02, -1.55302538e-02,\n",
              "         -6.40422329e-02, -5.48860729e-02, -8.20769742e-02,\n",
              "         -2.55378753e-01,  1.86802417e-01,  2.03314703e-02,\n",
              "         -1.62131220e-01]], dtype=float32),\n",
              " array([-0.04883308, -0.1208216 ,  0.0134945 , -0.07154093, -0.0246826 ,\n",
              "        -0.01529652, -0.09286807, -0.09212804,  0.27391446,  0.04153857],\n",
              "       dtype=float32)]"
            ]
          },
          "metadata": {},
          "execution_count": 122
        }
      ],
      "source": [
        "model.get_weights()"
      ]
    },
    {
      "cell_type": "code",
      "execution_count": 123,
      "metadata": {
        "id": "yLSjyUwYUfET",
        "colab": {
          "base_uri": "https://localhost:8080/"
        },
        "outputId": "a9fbf144-f2bc-4caa-c6e7-646e9addfe9a"
      },
      "outputs": [
        {
          "output_type": "stream",
          "name": "stdout",
          "text": [
            "Requirement already satisfied: keras-tuner in /usr/local/lib/python3.10/dist-packages (1.3.5)\n",
            "Requirement already satisfied: packaging in /usr/local/lib/python3.10/dist-packages (from keras-tuner) (23.1)\n",
            "Requirement already satisfied: requests in /usr/local/lib/python3.10/dist-packages (from keras-tuner) (2.31.0)\n",
            "Requirement already satisfied: kt-legacy in /usr/local/lib/python3.10/dist-packages (from keras-tuner) (1.0.5)\n",
            "Requirement already satisfied: charset-normalizer<4,>=2 in /usr/local/lib/python3.10/dist-packages (from requests->keras-tuner) (3.2.0)\n",
            "Requirement already satisfied: idna<4,>=2.5 in /usr/local/lib/python3.10/dist-packages (from requests->keras-tuner) (3.4)\n",
            "Requirement already satisfied: urllib3<3,>=1.21.1 in /usr/local/lib/python3.10/dist-packages (from requests->keras-tuner) (2.0.4)\n",
            "Requirement already satisfied: certifi>=2017.4.17 in /usr/local/lib/python3.10/dist-packages (from requests->keras-tuner) (2023.7.22)\n"
          ]
        }
      ],
      "source": [
        "!pip install keras-tuner\n",
        "import keras_tuner\n"
      ]
    },
    {
      "cell_type": "code",
      "execution_count": 124,
      "metadata": {
        "id": "MN_2VWQYVr2z"
      },
      "outputs": [],
      "source": [
        "from kerastuner.tuners import RandomSearch"
      ]
    },
    {
      "cell_type": "code",
      "execution_count": 125,
      "metadata": {
        "id": "l39o8wRdVv6H"
      },
      "outputs": [],
      "source": [
        "def build_model(hp):\n",
        "  model=Sequential()\n",
        "  model.add(Flatten(input_shape=(28,28))) # input layer\n",
        "  for i in range(hp.Int(\"num_layers\",min_value=1,max_value=4)): # (for loop 4 ->4 times run)\n",
        "    model.add(Dense(units=hp.Int(\"units_\"+str(i), min_value=1, max_value=784, step=32), activation=hp.Choice(\"act_\"+str(i), [\"relu\",\"selu\"]))) # hidden layer # (784/32 =24 times run)\n",
        "  model.add(Dense(10,activation=\"softmax\"))\n",
        "  model.compile(loss=\"categorical_crossentropy\",optimizer=hp.Choice(\"optimizer\",['adam','Nadam']),metrics=[\"accuracy\"])\n",
        "  return model"
      ]
    },
    {
      "cell_type": "code",
      "source": [
        "# parameter 1 (layers) min -> 1 - 4( layers)\n",
        "# parameter 2 (neurons)neurons -> 1 - 784\n",
        "# parameter 3  activation function ->relu , selu\n",
        "# parameter 4 optimizer -> adam, Nag\n",
        "# total models = 24*4*2*2*5 = 1900"
      ],
      "metadata": {
        "id": "e0ZGWtplxzhW"
      },
      "execution_count": 126,
      "outputs": []
    },
    {
      "cell_type": "code",
      "execution_count": 127,
      "metadata": {
        "id": "mEKHelssWBCc"
      },
      "outputs": [],
      "source": [
        "tuner = RandomSearch(\n",
        "    build_model,\n",
        "    max_trials=5,\n",
        "    objective='mse',\n",
        "    executions_per_trial=1\n",
        ")"
      ]
    },
    {
      "cell_type": "code",
      "execution_count": 128,
      "metadata": {
        "id": "I4t-mOMWWSpO"
      },
      "outputs": [],
      "source": [
        "tuner.search(x_train,y_train,epochs=5,validation_data=(x_test,y_test))"
      ]
    },
    {
      "cell_type": "code",
      "execution_count": 129,
      "metadata": {
        "id": "b2t5L1RtYx7b",
        "colab": {
          "base_uri": "https://localhost:8080/",
          "height": 705
        },
        "outputId": "90ce76b5-a990-49c4-e042-f79f77ce464d"
      },
      "outputs": [
        {
          "output_type": "stream",
          "name": "stderr",
          "text": [
            "WARNING:tensorflow:Detecting that an object or model or tf.train.Checkpoint is being deleted with unrestored values. See the following logs for the specific values in question. To silence these warnings, use `status.expect_partial()`. See https://www.tensorflow.org/api_docs/python/tf/train/Checkpoint#restorefor details about the status object returned by the restore function.\n",
            "WARNING:tensorflow:Value in checkpoint could not be found in the restored object: (root).optimizer._variables.1\n",
            "WARNING:tensorflow:Value in checkpoint could not be found in the restored object: (root).optimizer._variables.2\n",
            "WARNING:tensorflow:Value in checkpoint could not be found in the restored object: (root).optimizer._variables.3\n",
            "WARNING:tensorflow:Value in checkpoint could not be found in the restored object: (root).optimizer._variables.4\n",
            "WARNING:tensorflow:Value in checkpoint could not be found in the restored object: (root).optimizer._variables.5\n",
            "WARNING:tensorflow:Value in checkpoint could not be found in the restored object: (root).optimizer._variables.6\n",
            "WARNING:tensorflow:Value in checkpoint could not be found in the restored object: (root).optimizer._variables.7\n",
            "WARNING:tensorflow:Value in checkpoint could not be found in the restored object: (root).optimizer._variables.8\n",
            "WARNING:tensorflow:Value in checkpoint could not be found in the restored object: (root).optimizer._variables.9\n",
            "WARNING:tensorflow:Value in checkpoint could not be found in the restored object: (root).optimizer._variables.10\n",
            "WARNING:tensorflow:Value in checkpoint could not be found in the restored object: (root).optimizer._variables.11\n",
            "WARNING:tensorflow:Value in checkpoint could not be found in the restored object: (root).optimizer._variables.12\n",
            "WARNING:tensorflow:Value in checkpoint could not be found in the restored object: (root).optimizer._variables.13\n",
            "WARNING:tensorflow:Value in checkpoint could not be found in the restored object: (root).optimizer._variables.14\n",
            "WARNING:tensorflow:Value in checkpoint could not be found in the restored object: (root).optimizer._variables.15\n",
            "WARNING:tensorflow:Value in checkpoint could not be found in the restored object: (root).optimizer._variables.16\n"
          ]
        },
        {
          "output_type": "error",
          "ename": "ValueError",
          "evalue": "ignored",
          "traceback": [
            "\u001b[0;31m---------------------------------------------------------------------------\u001b[0m",
            "\u001b[0;31mValueError\u001b[0m                                Traceback (most recent call last)",
            "\u001b[0;32m<ipython-input-129-4c8f1ecff682>\u001b[0m in \u001b[0;36m<cell line: 1>\u001b[0;34m()\u001b[0m\n\u001b[0;32m----> 1\u001b[0;31m \u001b[0mmodels\u001b[0m \u001b[0;34m=\u001b[0m \u001b[0mtuner\u001b[0m\u001b[0;34m.\u001b[0m\u001b[0mget_best_models\u001b[0m\u001b[0;34m(\u001b[0m\u001b[0mnum_models\u001b[0m\u001b[0;34m=\u001b[0m\u001b[0;36m2\u001b[0m\u001b[0;34m)\u001b[0m\u001b[0;34m\u001b[0m\u001b[0;34m\u001b[0m\u001b[0m\n\u001b[0m\u001b[1;32m      2\u001b[0m \u001b[0;31m# Or print a summary of the results:\u001b[0m\u001b[0;34m\u001b[0m\u001b[0;34m\u001b[0m\u001b[0m\n\u001b[1;32m      3\u001b[0m \u001b[0mtuner\u001b[0m\u001b[0;34m.\u001b[0m\u001b[0mresults_summary\u001b[0m\u001b[0;34m(\u001b[0m\u001b[0;34m)\u001b[0m\u001b[0;34m\u001b[0m\u001b[0;34m\u001b[0m\u001b[0m\n",
            "\u001b[0;32m/usr/local/lib/python3.10/dist-packages/keras_tuner/engine/tuner.py\u001b[0m in \u001b[0;36mget_best_models\u001b[0;34m(self, num_models)\u001b[0m\n\u001b[1;32m    364\u001b[0m         \"\"\"\n\u001b[1;32m    365\u001b[0m         \u001b[0;31m# Method only exists in this class for the docstring override.\u001b[0m\u001b[0;34m\u001b[0m\u001b[0;34m\u001b[0m\u001b[0m\n\u001b[0;32m--> 366\u001b[0;31m         \u001b[0;32mreturn\u001b[0m \u001b[0msuper\u001b[0m\u001b[0;34m(\u001b[0m\u001b[0;34m)\u001b[0m\u001b[0;34m.\u001b[0m\u001b[0mget_best_models\u001b[0m\u001b[0;34m(\u001b[0m\u001b[0mnum_models\u001b[0m\u001b[0;34m)\u001b[0m\u001b[0;34m\u001b[0m\u001b[0;34m\u001b[0m\u001b[0m\n\u001b[0m\u001b[1;32m    367\u001b[0m \u001b[0;34m\u001b[0m\u001b[0m\n\u001b[1;32m    368\u001b[0m     \u001b[0;32mdef\u001b[0m \u001b[0m_deepcopy_callbacks\u001b[0m\u001b[0;34m(\u001b[0m\u001b[0mself\u001b[0m\u001b[0;34m,\u001b[0m \u001b[0mcallbacks\u001b[0m\u001b[0;34m)\u001b[0m\u001b[0;34m:\u001b[0m\u001b[0;34m\u001b[0m\u001b[0;34m\u001b[0m\u001b[0m\n",
            "\u001b[0;32m/usr/local/lib/python3.10/dist-packages/keras_tuner/engine/base_tuner.py\u001b[0m in \u001b[0;36mget_best_models\u001b[0;34m(self, num_models)\u001b[0m\n\u001b[1;32m    362\u001b[0m         \"\"\"\n\u001b[1;32m    363\u001b[0m         \u001b[0mbest_trials\u001b[0m \u001b[0;34m=\u001b[0m \u001b[0mself\u001b[0m\u001b[0;34m.\u001b[0m\u001b[0moracle\u001b[0m\u001b[0;34m.\u001b[0m\u001b[0mget_best_trials\u001b[0m\u001b[0;34m(\u001b[0m\u001b[0mnum_models\u001b[0m\u001b[0;34m)\u001b[0m\u001b[0;34m\u001b[0m\u001b[0;34m\u001b[0m\u001b[0m\n\u001b[0;32m--> 364\u001b[0;31m         \u001b[0mmodels\u001b[0m \u001b[0;34m=\u001b[0m \u001b[0;34m[\u001b[0m\u001b[0mself\u001b[0m\u001b[0;34m.\u001b[0m\u001b[0mload_model\u001b[0m\u001b[0;34m(\u001b[0m\u001b[0mtrial\u001b[0m\u001b[0;34m)\u001b[0m \u001b[0;32mfor\u001b[0m \u001b[0mtrial\u001b[0m \u001b[0;32min\u001b[0m \u001b[0mbest_trials\u001b[0m\u001b[0;34m]\u001b[0m\u001b[0;34m\u001b[0m\u001b[0;34m\u001b[0m\u001b[0m\n\u001b[0m\u001b[1;32m    365\u001b[0m         \u001b[0;32mreturn\u001b[0m \u001b[0mmodels\u001b[0m\u001b[0;34m\u001b[0m\u001b[0;34m\u001b[0m\u001b[0m\n\u001b[1;32m    366\u001b[0m \u001b[0;34m\u001b[0m\u001b[0m\n",
            "\u001b[0;32m/usr/local/lib/python3.10/dist-packages/keras_tuner/engine/base_tuner.py\u001b[0m in \u001b[0;36m<listcomp>\u001b[0;34m(.0)\u001b[0m\n\u001b[1;32m    362\u001b[0m         \"\"\"\n\u001b[1;32m    363\u001b[0m         \u001b[0mbest_trials\u001b[0m \u001b[0;34m=\u001b[0m \u001b[0mself\u001b[0m\u001b[0;34m.\u001b[0m\u001b[0moracle\u001b[0m\u001b[0;34m.\u001b[0m\u001b[0mget_best_trials\u001b[0m\u001b[0;34m(\u001b[0m\u001b[0mnum_models\u001b[0m\u001b[0;34m)\u001b[0m\u001b[0;34m\u001b[0m\u001b[0;34m\u001b[0m\u001b[0m\n\u001b[0;32m--> 364\u001b[0;31m         \u001b[0mmodels\u001b[0m \u001b[0;34m=\u001b[0m \u001b[0;34m[\u001b[0m\u001b[0mself\u001b[0m\u001b[0;34m.\u001b[0m\u001b[0mload_model\u001b[0m\u001b[0;34m(\u001b[0m\u001b[0mtrial\u001b[0m\u001b[0;34m)\u001b[0m \u001b[0;32mfor\u001b[0m \u001b[0mtrial\u001b[0m \u001b[0;32min\u001b[0m \u001b[0mbest_trials\u001b[0m\u001b[0;34m]\u001b[0m\u001b[0;34m\u001b[0m\u001b[0;34m\u001b[0m\u001b[0m\n\u001b[0m\u001b[1;32m    365\u001b[0m         \u001b[0;32mreturn\u001b[0m \u001b[0mmodels\u001b[0m\u001b[0;34m\u001b[0m\u001b[0;34m\u001b[0m\u001b[0m\n\u001b[1;32m    366\u001b[0m \u001b[0;34m\u001b[0m\u001b[0m\n",
            "\u001b[0;32m/usr/local/lib/python3.10/dist-packages/keras_tuner/engine/tuner.py\u001b[0m in \u001b[0;36mload_model\u001b[0;34m(self, trial)\u001b[0m\n\u001b[1;32m    291\u001b[0m \u001b[0;34m\u001b[0m\u001b[0m\n\u001b[1;32m    292\u001b[0m     \u001b[0;32mdef\u001b[0m \u001b[0mload_model\u001b[0m\u001b[0;34m(\u001b[0m\u001b[0mself\u001b[0m\u001b[0;34m,\u001b[0m \u001b[0mtrial\u001b[0m\u001b[0;34m)\u001b[0m\u001b[0;34m:\u001b[0m\u001b[0;34m\u001b[0m\u001b[0;34m\u001b[0m\u001b[0m\n\u001b[0;32m--> 293\u001b[0;31m         \u001b[0mmodel\u001b[0m \u001b[0;34m=\u001b[0m \u001b[0mself\u001b[0m\u001b[0;34m.\u001b[0m\u001b[0m_try_build\u001b[0m\u001b[0;34m(\u001b[0m\u001b[0mtrial\u001b[0m\u001b[0;34m.\u001b[0m\u001b[0mhyperparameters\u001b[0m\u001b[0;34m)\u001b[0m\u001b[0;34m\u001b[0m\u001b[0;34m\u001b[0m\u001b[0m\n\u001b[0m\u001b[1;32m    294\u001b[0m         \u001b[0;31m# Reload best checkpoint.\u001b[0m\u001b[0;34m\u001b[0m\u001b[0;34m\u001b[0m\u001b[0m\n\u001b[1;32m    295\u001b[0m         \u001b[0;31m# Only load weights to avoid loading `custom_objects`.\u001b[0m\u001b[0;34m\u001b[0m\u001b[0;34m\u001b[0m\u001b[0m\n",
            "\u001b[0;32m/usr/local/lib/python3.10/dist-packages/keras_tuner/engine/tuner.py\u001b[0m in \u001b[0;36m_try_build\u001b[0;34m(self, hp)\u001b[0m\n\u001b[1;32m    153\u001b[0m         \u001b[0mgc\u001b[0m\u001b[0;34m.\u001b[0m\u001b[0mcollect\u001b[0m\u001b[0;34m(\u001b[0m\u001b[0;34m)\u001b[0m\u001b[0;34m\u001b[0m\u001b[0;34m\u001b[0m\u001b[0m\n\u001b[1;32m    154\u001b[0m \u001b[0;34m\u001b[0m\u001b[0m\n\u001b[0;32m--> 155\u001b[0;31m         \u001b[0mmodel\u001b[0m \u001b[0;34m=\u001b[0m \u001b[0mself\u001b[0m\u001b[0;34m.\u001b[0m\u001b[0m_build_hypermodel\u001b[0m\u001b[0;34m(\u001b[0m\u001b[0mhp\u001b[0m\u001b[0;34m)\u001b[0m\u001b[0;34m\u001b[0m\u001b[0;34m\u001b[0m\u001b[0m\n\u001b[0m\u001b[1;32m    156\u001b[0m         \u001b[0;31m# Stop if `build()` does not return a valid model.\u001b[0m\u001b[0;34m\u001b[0m\u001b[0;34m\u001b[0m\u001b[0m\n\u001b[1;32m    157\u001b[0m         \u001b[0;32mif\u001b[0m \u001b[0;32mnot\u001b[0m \u001b[0misinstance\u001b[0m\u001b[0;34m(\u001b[0m\u001b[0mmodel\u001b[0m\u001b[0;34m,\u001b[0m \u001b[0mkeras\u001b[0m\u001b[0;34m.\u001b[0m\u001b[0mmodels\u001b[0m\u001b[0;34m.\u001b[0m\u001b[0mModel\u001b[0m\u001b[0;34m)\u001b[0m\u001b[0;34m:\u001b[0m\u001b[0;34m\u001b[0m\u001b[0;34m\u001b[0m\u001b[0m\n",
            "\u001b[0;32m/usr/local/lib/python3.10/dist-packages/keras_tuner/engine/tuner.py\u001b[0m in \u001b[0;36m_build_hypermodel\u001b[0;34m(self, hp)\u001b[0m\n\u001b[1;32m    144\u001b[0m     \u001b[0;32mdef\u001b[0m \u001b[0m_build_hypermodel\u001b[0m\u001b[0;34m(\u001b[0m\u001b[0mself\u001b[0m\u001b[0;34m,\u001b[0m \u001b[0mhp\u001b[0m\u001b[0;34m)\u001b[0m\u001b[0;34m:\u001b[0m\u001b[0;34m\u001b[0m\u001b[0;34m\u001b[0m\u001b[0m\n\u001b[1;32m    145\u001b[0m         \u001b[0;32mwith\u001b[0m \u001b[0mmaybe_distribute\u001b[0m\u001b[0;34m(\u001b[0m\u001b[0mself\u001b[0m\u001b[0;34m.\u001b[0m\u001b[0mdistribution_strategy\u001b[0m\u001b[0;34m)\u001b[0m\u001b[0;34m:\u001b[0m\u001b[0;34m\u001b[0m\u001b[0;34m\u001b[0m\u001b[0m\n\u001b[0;32m--> 146\u001b[0;31m             \u001b[0mmodel\u001b[0m \u001b[0;34m=\u001b[0m \u001b[0mself\u001b[0m\u001b[0;34m.\u001b[0m\u001b[0mhypermodel\u001b[0m\u001b[0;34m.\u001b[0m\u001b[0mbuild\u001b[0m\u001b[0;34m(\u001b[0m\u001b[0mhp\u001b[0m\u001b[0;34m)\u001b[0m\u001b[0;34m\u001b[0m\u001b[0;34m\u001b[0m\u001b[0m\n\u001b[0m\u001b[1;32m    147\u001b[0m             \u001b[0mself\u001b[0m\u001b[0;34m.\u001b[0m\u001b[0m_override_compile_args\u001b[0m\u001b[0;34m(\u001b[0m\u001b[0mmodel\u001b[0m\u001b[0;34m)\u001b[0m\u001b[0;34m\u001b[0m\u001b[0;34m\u001b[0m\u001b[0m\n\u001b[1;32m    148\u001b[0m             \u001b[0;32mreturn\u001b[0m \u001b[0mmodel\u001b[0m\u001b[0;34m\u001b[0m\u001b[0;34m\u001b[0m\u001b[0m\n",
            "\u001b[0;32m<ipython-input-125-2714e188a89d>\u001b[0m in \u001b[0;36mbuild_model\u001b[0;34m(hp)\u001b[0m\n\u001b[1;32m      5\u001b[0m     \u001b[0mmodel\u001b[0m\u001b[0;34m.\u001b[0m\u001b[0madd\u001b[0m\u001b[0;34m(\u001b[0m\u001b[0mDense\u001b[0m\u001b[0;34m(\u001b[0m\u001b[0munits\u001b[0m\u001b[0;34m=\u001b[0m\u001b[0mhp\u001b[0m\u001b[0;34m.\u001b[0m\u001b[0mInt\u001b[0m\u001b[0;34m(\u001b[0m\u001b[0;34m\"units_\"\u001b[0m\u001b[0;34m+\u001b[0m\u001b[0mstr\u001b[0m\u001b[0;34m(\u001b[0m\u001b[0mi\u001b[0m\u001b[0;34m)\u001b[0m\u001b[0;34m,\u001b[0m \u001b[0mmin_value\u001b[0m\u001b[0;34m=\u001b[0m\u001b[0;36m1\u001b[0m\u001b[0;34m,\u001b[0m \u001b[0mmax_value\u001b[0m\u001b[0;34m=\u001b[0m\u001b[0;36m784\u001b[0m\u001b[0;34m,\u001b[0m \u001b[0mstep\u001b[0m\u001b[0;34m=\u001b[0m\u001b[0;36m32\u001b[0m\u001b[0;34m)\u001b[0m\u001b[0;34m,\u001b[0m \u001b[0mactivation\u001b[0m\u001b[0;34m=\u001b[0m\u001b[0mhp\u001b[0m\u001b[0;34m.\u001b[0m\u001b[0mChoice\u001b[0m\u001b[0;34m(\u001b[0m\u001b[0;34m\"act_\"\u001b[0m\u001b[0;34m+\u001b[0m\u001b[0mstr\u001b[0m\u001b[0;34m(\u001b[0m\u001b[0mi\u001b[0m\u001b[0;34m)\u001b[0m\u001b[0;34m,\u001b[0m \u001b[0;34m[\u001b[0m\u001b[0;34m\"relu\"\u001b[0m\u001b[0;34m,\u001b[0m\u001b[0;34m\"selu\"\u001b[0m\u001b[0;34m]\u001b[0m\u001b[0;34m)\u001b[0m\u001b[0;34m)\u001b[0m\u001b[0;34m)\u001b[0m \u001b[0;31m# hidden layer # (784/32 =24 times run)\u001b[0m\u001b[0;34m\u001b[0m\u001b[0;34m\u001b[0m\u001b[0m\n\u001b[1;32m      6\u001b[0m   \u001b[0mmodel\u001b[0m\u001b[0;34m.\u001b[0m\u001b[0madd\u001b[0m\u001b[0;34m(\u001b[0m\u001b[0mDense\u001b[0m\u001b[0;34m(\u001b[0m\u001b[0;36m10\u001b[0m\u001b[0;34m,\u001b[0m\u001b[0mactivation\u001b[0m\u001b[0;34m=\u001b[0m\u001b[0;34m\"softmax\"\u001b[0m\u001b[0;34m)\u001b[0m\u001b[0;34m)\u001b[0m\u001b[0;34m\u001b[0m\u001b[0;34m\u001b[0m\u001b[0m\n\u001b[0;32m----> 7\u001b[0;31m   \u001b[0mmodel\u001b[0m\u001b[0;34m.\u001b[0m\u001b[0mcompile\u001b[0m\u001b[0;34m(\u001b[0m\u001b[0mloss\u001b[0m\u001b[0;34m=\u001b[0m\u001b[0;34m\"categorical_crossentropy\"\u001b[0m\u001b[0;34m,\u001b[0m\u001b[0moptimizer\u001b[0m\u001b[0;34m=\u001b[0m\u001b[0mhp\u001b[0m\u001b[0;34m.\u001b[0m\u001b[0mChoice\u001b[0m\u001b[0;34m(\u001b[0m\u001b[0;34m\"optimizer\"\u001b[0m\u001b[0;34m,\u001b[0m\u001b[0;34m[\u001b[0m\u001b[0;34m'adam'\u001b[0m\u001b[0;34m,\u001b[0m\u001b[0;34m'Nadam'\u001b[0m\u001b[0;34m]\u001b[0m\u001b[0;34m)\u001b[0m\u001b[0;34m,\u001b[0m\u001b[0mmetrics\u001b[0m\u001b[0;34m=\u001b[0m\u001b[0;34m[\u001b[0m\u001b[0;34m\"accuracy\"\u001b[0m\u001b[0;34m]\u001b[0m\u001b[0;34m)\u001b[0m\u001b[0;34m\u001b[0m\u001b[0;34m\u001b[0m\u001b[0m\n\u001b[0m\u001b[1;32m      8\u001b[0m   \u001b[0;32mreturn\u001b[0m \u001b[0mmodel\u001b[0m\u001b[0;34m\u001b[0m\u001b[0;34m\u001b[0m\u001b[0m\n",
            "\u001b[0;32m/usr/local/lib/python3.10/dist-packages/keras/utils/traceback_utils.py\u001b[0m in \u001b[0;36merror_handler\u001b[0;34m(*args, **kwargs)\u001b[0m\n\u001b[1;32m     68\u001b[0m             \u001b[0;31m# To get the full stack trace, call:\u001b[0m\u001b[0;34m\u001b[0m\u001b[0;34m\u001b[0m\u001b[0m\n\u001b[1;32m     69\u001b[0m             \u001b[0;31m# `tf.debugging.disable_traceback_filtering()`\u001b[0m\u001b[0;34m\u001b[0m\u001b[0;34m\u001b[0m\u001b[0m\n\u001b[0;32m---> 70\u001b[0;31m             \u001b[0;32mraise\u001b[0m \u001b[0me\u001b[0m\u001b[0;34m.\u001b[0m\u001b[0mwith_traceback\u001b[0m\u001b[0;34m(\u001b[0m\u001b[0mfiltered_tb\u001b[0m\u001b[0;34m)\u001b[0m \u001b[0;32mfrom\u001b[0m \u001b[0;32mNone\u001b[0m\u001b[0;34m\u001b[0m\u001b[0;34m\u001b[0m\u001b[0m\n\u001b[0m\u001b[1;32m     71\u001b[0m         \u001b[0;32mfinally\u001b[0m\u001b[0;34m:\u001b[0m\u001b[0;34m\u001b[0m\u001b[0;34m\u001b[0m\u001b[0m\n\u001b[1;32m     72\u001b[0m             \u001b[0;32mdel\u001b[0m \u001b[0mfiltered_tb\u001b[0m\u001b[0;34m\u001b[0m\u001b[0;34m\u001b[0m\u001b[0m\n",
            "\u001b[0;32m/usr/local/lib/python3.10/dist-packages/keras/saving/legacy/serialization.py\u001b[0m in \u001b[0;36mclass_and_config_for_serialized_keras_object\u001b[0;34m(config, module_objects, custom_objects, printable_module_name)\u001b[0m\n\u001b[1;32m    366\u001b[0m     )\n\u001b[1;32m    367\u001b[0m     \u001b[0;32mif\u001b[0m \u001b[0mcls\u001b[0m \u001b[0;32mis\u001b[0m \u001b[0;32mNone\u001b[0m\u001b[0;34m:\u001b[0m\u001b[0;34m\u001b[0m\u001b[0;34m\u001b[0m\u001b[0m\n\u001b[0;32m--> 368\u001b[0;31m         raise ValueError(\n\u001b[0m\u001b[1;32m    369\u001b[0m             \u001b[0;34mf\"Unknown {printable_module_name}: '{class_name}'. \"\u001b[0m\u001b[0;34m\u001b[0m\u001b[0;34m\u001b[0m\u001b[0m\n\u001b[1;32m    370\u001b[0m             \u001b[0;34m\"Please ensure you are using a `keras.utils.custom_object_scope` \"\u001b[0m\u001b[0;34m\u001b[0m\u001b[0;34m\u001b[0m\u001b[0m\n",
            "\u001b[0;31mValueError\u001b[0m: Unknown optimizer: 'nag'. Please ensure you are using a `keras.utils.custom_object_scope` and that this object is included in the scope. See https://www.tensorflow.org/guide/keras/save_and_serialize#registering_the_custom_object for details."
          ]
        }
      ],
      "source": [
        "models = tuner.get_best_models(num_models=2)\n",
        "# Or print a summary of the results:\n",
        "tuner.results_summary()"
      ]
    },
    {
      "cell_type": "code",
      "source": [],
      "metadata": {
        "id": "TRzp0rpgEIZo"
      },
      "execution_count": null,
      "outputs": []
    }
  ],
  "metadata": {
    "colab": {
      "provenance": []
    },
    "kernelspec": {
      "display_name": "Python 3",
      "name": "python3"
    },
    "language_info": {
      "name": "python"
    }
  },
  "nbformat": 4,
  "nbformat_minor": 0
}