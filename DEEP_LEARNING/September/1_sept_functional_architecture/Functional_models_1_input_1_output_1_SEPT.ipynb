{
  "nbformat": 4,
  "nbformat_minor": 0,
  "metadata": {
    "colab": {
      "provenance": [],
      "gpuType": "T4"
    },
    "kernelspec": {
      "name": "python3",
      "display_name": "Python 3"
    },
    "language_info": {
      "name": "python"
    },
    "accelerator": "GPU"
  },
  "cells": [
    {
      "cell_type": "code",
      "execution_count": 1,
      "metadata": {
        "id": "2tOCg9KfW0MS"
      },
      "outputs": [],
      "source": [
        "from keras.models import Model\n",
        "from keras.layers import Input, Dense, Flatten, concatenate"
      ]
    },
    {
      "cell_type": "code",
      "source": [
        "input_layer=Input(shape=(28,28))\n",
        "hidden1=Dense(128,activation=\"relu\")(input_layer)\n",
        "hidden2=Dense(256,activation=\"relu\")(input_layer)\n",
        "hidden11=Dense(64,activation=\"relu\")(hidden1)\n",
        "merge=concatenate([hidden11,hidden2])\n",
        "output_layer=Dense(10,activation=\"softmax\")(merge)"
      ],
      "metadata": {
        "id": "xUutyaZLXCVu"
      },
      "execution_count": 2,
      "outputs": []
    },
    {
      "cell_type": "code",
      "source": [
        "model=Model(inputs=input_layer,outputs=output_layer) # no need to mention hidden layer as we have laready made the connections"
      ],
      "metadata": {
        "id": "gGYdKiutYr_O"
      },
      "execution_count": 3,
      "outputs": []
    },
    {
      "cell_type": "code",
      "source": [
        "model.summary()"
      ],
      "metadata": {
        "colab": {
          "base_uri": "https://localhost:8080/"
        },
        "id": "n3p7GBnHZM6y",
        "outputId": "e17dae17-4dee-4f88-dd70-09a05597548d"
      },
      "execution_count": 4,
      "outputs": [
        {
          "output_type": "stream",
          "name": "stdout",
          "text": [
            "Model: \"model\"\n",
            "__________________________________________________________________________________________________\n",
            " Layer (type)                   Output Shape         Param #     Connected to                     \n",
            "==================================================================================================\n",
            " input_1 (InputLayer)           [(None, 28, 28)]     0           []                               \n",
            "                                                                                                  \n",
            " dense (Dense)                  (None, 28, 128)      3712        ['input_1[0][0]']                \n",
            "                                                                                                  \n",
            " dense_2 (Dense)                (None, 28, 64)       8256        ['dense[0][0]']                  \n",
            "                                                                                                  \n",
            " dense_1 (Dense)                (None, 28, 256)      7424        ['input_1[0][0]']                \n",
            "                                                                                                  \n",
            " concatenate (Concatenate)      (None, 28, 320)      0           ['dense_2[0][0]',                \n",
            "                                                                  'dense_1[0][0]']                \n",
            "                                                                                                  \n",
            " dense_3 (Dense)                (None, 28, 10)       3210        ['concatenate[0][0]']            \n",
            "                                                                                                  \n",
            "==================================================================================================\n",
            "Total params: 22,602\n",
            "Trainable params: 22,602\n",
            "Non-trainable params: 0\n",
            "__________________________________________________________________________________________________\n"
          ]
        }
      ]
    },
    {
      "cell_type": "code",
      "source": [
        "from keras.utils import plot_model\n",
        "plot_model(model)"
      ],
      "metadata": {
        "colab": {
          "base_uri": "https://localhost:8080/",
          "height": 466
        },
        "id": "kL5KP4bdZUXm",
        "outputId": "eeb8f1e9-9017-45cb-c569-ee76e73dcc5b"
      },
      "execution_count": 5,
      "outputs": [
        {
          "output_type": "execute_result",
          "data": {
            "image/png": "[encoded data removed]",
            "text/plain": [
              "<IPython.core.display.Image object>"
            ]
          },
          "metadata": {},
          "execution_count": 5
        }
      ]
    },
    {
      "cell_type": "code",
      "source": [],
      "metadata": {
        "id": "I2kr_RHPZxye"
      },
      "execution_count": null,
      "outputs": []
    }
  ]
}